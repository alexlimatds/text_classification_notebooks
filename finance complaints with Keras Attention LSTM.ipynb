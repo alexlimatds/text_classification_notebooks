{
 "cells": [
  {
   "cell_type": "markdown",
   "metadata": {},
   "source": [
    "#### Example of text classification with Keras' LSTM and attention mechanism\n",
    "\n",
    "Reference pages:\n",
    "- https://www.analyticsvidhya.com/blog/2019/11/comprehensive-guide-attention-mechanism-deep-learning/\n",
    "- https://towardsdatascience.com/multi-class-text-classification-with-lstm-1590bee1bd17\n",
    "- https://machinelearningmastery.com/how-to-calculate-precision-recall-f1-and-more-for-deep-learning-models/\n",
    "- https://machinelearningmastery.com/use-word-embedding-layers-deep-learning-keras/\n",
    "- https://mlwhiz.com/blog/2019/03/09/deeplearning_architectures_text_classification/\n",
    "\n",
    "The dataset was preprocessed in **finance complaints dataset analysis** notebook."
   ]
  },
  {
   "cell_type": "markdown",
   "metadata": {},
   "source": [
    "Loading balanced dataset."
   ]
  },
  {
   "cell_type": "code",
   "execution_count": 1,
   "metadata": {},
   "outputs": [
    {
     "name": "stdout",
     "output_type": "stream",
     "text": [
      "Unnamed: 0                      0\n",
      "Product                         0\n",
      "Consumer_complaint_narrative    0\n",
      "category_id                     0\n",
      "dtype: int64\n"
     ]
    },
    {
     "data": {
      "text/html": [
       "<div>\n",
       "<style scoped>\n",
       "    .dataframe tbody tr th:only-of-type {\n",
       "        vertical-align: middle;\n",
       "    }\n",
       "\n",
       "    .dataframe tbody tr th {\n",
       "        vertical-align: top;\n",
       "    }\n",
       "\n",
       "    .dataframe thead th {\n",
       "        text-align: right;\n",
       "    }\n",
       "</style>\n",
       "<table border=\"1\" class=\"dataframe\">\n",
       "  <thead>\n",
       "    <tr style=\"text-align: right;\">\n",
       "      <th></th>\n",
       "      <th>Unnamed: 0</th>\n",
       "      <th>Product</th>\n",
       "      <th>Consumer_complaint_narrative</th>\n",
       "      <th>category_id</th>\n",
       "    </tr>\n",
       "  </thead>\n",
       "  <tbody>\n",
       "    <tr>\n",
       "      <td>0</td>\n",
       "      <td>0</td>\n",
       "      <td>Credit reporting, credit repair services, or o...</td>\n",
       "      <td>My XXXX XXXX Account Was Paid Off But They Hav...</td>\n",
       "      <td>0</td>\n",
       "    </tr>\n",
       "    <tr>\n",
       "      <td>1</td>\n",
       "      <td>1</td>\n",
       "      <td>Credit reporting, credit repair services, or o...</td>\n",
       "      <td>I had a citibank checking account which I clos...</td>\n",
       "      <td>0</td>\n",
       "    </tr>\n",
       "    <tr>\n",
       "      <td>2</td>\n",
       "      <td>2</td>\n",
       "      <td>Credit reporting, credit repair services, or o...</td>\n",
       "      <td>I would like to request the suppression of the...</td>\n",
       "      <td>0</td>\n",
       "    </tr>\n",
       "    <tr>\n",
       "      <td>3</td>\n",
       "      <td>3</td>\n",
       "      <td>Credit reporting, credit repair services, or o...</td>\n",
       "      <td>Account from XXXX with a balance is reporting ...</td>\n",
       "      <td>0</td>\n",
       "    </tr>\n",
       "    <tr>\n",
       "      <td>4</td>\n",
       "      <td>4</td>\n",
       "      <td>Credit reporting, credit repair services, or o...</td>\n",
       "      <td>The credit bureaus are reporting inaccurate/ou...</td>\n",
       "      <td>0</td>\n",
       "    </tr>\n",
       "  </tbody>\n",
       "</table>\n",
       "</div>"
      ],
      "text/plain": [
       "   Unnamed: 0                                            Product  \\\n",
       "0           0  Credit reporting, credit repair services, or o...   \n",
       "1           1  Credit reporting, credit repair services, or o...   \n",
       "2           2  Credit reporting, credit repair services, or o...   \n",
       "3           3  Credit reporting, credit repair services, or o...   \n",
       "4           4  Credit reporting, credit repair services, or o...   \n",
       "\n",
       "                        Consumer_complaint_narrative  category_id  \n",
       "0  My XXXX XXXX Account Was Paid Off But They Hav...            0  \n",
       "1  I had a citibank checking account which I clos...            0  \n",
       "2  I would like to request the suppression of the...            0  \n",
       "3  Account from XXXX with a balance is reporting ...            0  \n",
       "4  The credit bureaus are reporting inaccurate/ou...            0  "
      ]
     },
     "execution_count": 1,
     "metadata": {},
     "output_type": "execute_result"
    }
   ],
   "source": [
    "import pandas as pd\n",
    "df = pd.read_csv('complaints-balanced.csv')\n",
    "print(df.isnull().sum())\n",
    "df.head()"
   ]
  },
  {
   "cell_type": "markdown",
   "metadata": {},
   "source": [
    "Text preprocessing"
   ]
  },
  {
   "cell_type": "code",
   "execution_count": 2,
   "metadata": {},
   "outputs": [
    {
     "name": "stdout",
     "output_type": "stream",
     "text": [
      "CPU times: user 1.35 s, sys: 59.8 ms, total: 1.41 s\n",
      "Wall time: 1.41 s\n"
     ]
    }
   ],
   "source": [
    "%%time\n",
    "import re\n",
    "from nltk.corpus import stopwords\n",
    "\n",
    "text = df.Consumer_complaint_narrative\n",
    "\n",
    "# removing XXX words\n",
    "text = text.apply(lambda x: re.sub(r'X{2,}', '', x))\n",
    "\n",
    "# converting to lower case\n",
    "text = text.apply(lambda x: x.lower())\n",
    "\n",
    "# replacing symbols with spaces\n",
    "text = text.apply(lambda x: re.sub(r'[/(){}\\[\\]\\|@,;]', ' ', x))\n",
    "\n",
    "# removing bad symbols\n",
    "text = text.apply(lambda x: re.sub(r'[^0-9a-z #+_]', '', x))\n",
    "\n",
    "# removing numbers\n",
    "text = text.apply(lambda x: re.sub(r'\\d+', '', x))\n",
    "\n",
    "# removing stop words\n",
    "STOPWORDS = set(stopwords.words('english'))\n",
    "text = text.apply(lambda x: ' '.join(word for word in x.split() if word not in STOPWORDS))"
   ]
  },
  {
   "cell_type": "code",
   "execution_count": 3,
   "metadata": {},
   "outputs": [
    {
     "name": "stdout",
     "output_type": "stream",
     "text": [
      "--------------------------------------------------\n",
      "* BEFORE: My XXXX XXXX Account Was Paid Off But They Have Left The Wrong Information On My Credit Report For 11 Years The Account Should Be Removed It Is Too OldAnd A Medical Account That I Believed To Be Payed Off Has Also Been Left On My Report\n",
      "\n",
      "* AFTER: account paid left wrong information credit report years account removed oldand medical account believed payed also left report\n",
      "\n",
      "--------------------------------------------------\n",
      "* BEFORE: Please be advised this is my THIRD WRITTEN REQUEST and FINAL WARNING that I fully intend to pursue litigation in accordance with the FCRA to enforce my rights and seek relief and recover all monetary damages that I may be entitled to under Section 616 and Section 617 regarding your continued willful and negligent noncompliance.\n",
      "\n",
      "Despite two written requests, the unverified items listed below still remain on my credit report in violation of Federal Law. You are required under the FCRA to have a copy of the original creditors documentation on file to verify that this information is mine and is correct. In the results of your first investigation and subsequent reinvestigation, you stated in writing that you verified that these items are being reported correctly?\n",
      "\n",
      "Who verified these accounts?\n",
      "\n",
      "You have NOT provided me a copy of ANY original documentation ( a consumer contract with my signature on it ) as required under Section 609 ( a ) ( 1 ) ( A ) & Section 611 ( a ) ( 1 ) ( A ). Furthermore you have failed to provide the method of verification as required under Section 611 ( a ) ( 7 ).\n",
      "\n",
      "Please be advised that under Section 611 ( 5 ) ( A ) of the FCRA you are required to promptly DELETE all information which can not be verified. The law is very clear as to the Civil liability and the remedy available to me ( Section 616 & 617 ) if you fail to comply with Federal Law. I am a litigious consumer and fully intend on pursuing litigation in this matter to enforce my rights under the FCRA. \n",
      "\n",
      "\n",
      "I demand the following accounts be verified or removed immediately. \n",
      "\n",
      "Dept of Ed Account XXXX XXXX XXXX Account XXXX XXXX XXXX Account XXXX XXXX XXXX Account XXXX XXXX XXXX XXXX Account XXXX XXXX XXXX Account XXXX US Bankrupt Court Account XXXX Account XXXX XXXX XXXX XXXX Account XXXX\n",
      "\n",
      "* AFTER: please advised third written request final warning fully intend pursue litigation accordance fcra enforce rights seek relief recover monetary damages may entitled section section regarding continued willful negligent noncompliancedespite two written requests unverified items listed still remain credit report violation federal law required fcra copy original creditors documentation file verify information mine correct results first investigation subsequent reinvestigation stated writing verified items reported correctlywho verified accountsyou provided copy original documentation consumer contract signature required section section furthermore failed provide method verification required section please advised section fcra required promptly delete information verified law clear civil liability remedy available section fail comply federal law litigious consumer fully intend pursuing litigation matter enforce rights fcra demand following accounts verified removed immediately dept ed account account account account account account us bankrupt court account account account\n",
      "\n",
      "--------------------------------------------------\n",
      "* BEFORE: For over 10 years, Transunion has had my credit account listed to another individual who has a terrible credit record. So because they think I'm she, I'm the one that gets harassed and threatened by the collection agencies that are trying to collect on her bad debt. I even moved to try to escape it and it has followed me here. I have spoken to Transunion multiple times over the past and sent letters ( my bad, they were not certified ). All correspondence I get from them continues to be under her name. I have no debt. I owe no one, yet this woman and Transunion who is totally complicit in this, are ruining my credit. It is truly an astounding story of mis-identification which is too long to go into here. I just want my name back and separated from hers. I have frozen my credit with XXXX and XXXX  but can not do so with Transunion as her name is on my credit record. The mental anguish this has caused is unbelievable. Please help me if you can.\n",
      "\n",
      "* AFTER: years transunion credit account listed another individual terrible credit record think im im one gets harassed threatened collection agencies trying collect bad debt even moved try escape followed spoken transunion multiple times past sent letters bad certified correspondence get continues name debt owe one yet woman transunion totally complicit ruining credit truly astounding story misidentification long go want name back separated frozen credit transunion name credit record mental anguish caused unbelievable please help\n",
      "\n"
     ]
    }
   ],
   "source": [
    "def print_example(index):\n",
    "    print(\"-\"*50)\n",
    "    print(\"* BEFORE: {}\".format(df.Consumer_complaint_narrative[index]))\n",
    "    print(\"\\n* AFTER: {}\\n\".format(text[index]))\n",
    "    \n",
    "print_example(0)\n",
    "print_example(10)\n",
    "print_example(50)"
   ]
  },
  {
   "cell_type": "markdown",
   "metadata": {},
   "source": [
    "Creating train and test sets, with balanced frequency of classes."
   ]
  },
  {
   "cell_type": "code",
   "execution_count": 4,
   "metadata": {},
   "outputs": [
    {
     "name": "stderr",
     "output_type": "stream",
     "text": [
      "Using TensorFlow backend.\n"
     ]
    }
   ],
   "source": [
    "from sklearn.model_selection import StratifiedShuffleSplit\n",
    "from sklearn.preprocessing import LabelEncoder\n",
    "from keras.utils import np_utils\n",
    "\n",
    "# encoding labels to one hot vectors\n",
    "encoder = LabelEncoder()\n",
    "encoder.fit(df['category_id'])\n",
    "encoded_Y = encoder.transform(df['category_id'])\n",
    "Y = np_utils.to_categorical(encoded_Y)\n",
    "\n",
    "sss = StratifiedShuffleSplit(n_splits=1, \n",
    "                             test_size=0.3, \n",
    "                             random_state=0)\n",
    "for train_index, test_index in sss.split(text, Y):\n",
    "    train_sentences = text.loc[train_index]\n",
    "    Y_train = Y[train_index]\n",
    "    test_sentences = text.loc[test_index]\n",
    "    test_labels = df['category_id'].loc[test_index]\n",
    "    Y_test = Y[test_index]"
   ]
  },
  {
   "cell_type": "markdown",
   "metadata": {},
   "source": [
    "**Preparing the input**\n",
    "\n",
    "The `Tokenizer` utility class which can vectorize a text corpus into a list of integers. Each integer maps to a value in a dictionary that encodes the entire corpus, with the keys in the dictionary being the vocabulary terms themselves. We can add the parameter `num_words`, which is responsible for setting the size of the vocabulary. The most common `num_words` words will be then kept."
   ]
  },
  {
   "cell_type": "code",
   "execution_count": 5,
   "metadata": {},
   "outputs": [
    {
     "name": "stdout",
     "output_type": "stream",
     "text": [
      "Vocabulary size: 10883\n",
      "CPU times: user 506 ms, sys: 4.05 ms, total: 510 ms\n",
      "Wall time: 509 ms\n"
     ]
    }
   ],
   "source": [
    "%%time\n",
    "from keras.preprocessing.text import Tokenizer\n",
    "\n",
    "tokenizer = Tokenizer()\n",
    "tokenizer.fit_on_texts(train_sentences)\n",
    "\n",
    "train_seqs = tokenizer.texts_to_sequences(train_sentences)\n",
    "test_seqs = tokenizer.texts_to_sequences(test_sentences)\n",
    "\n",
    "# Adding 1 because of reserved 0 index\n",
    "vocab_size = len(tokenizer.word_index) + 1\n",
    "print('Vocabulary size: {}'.format(vocab_size))"
   ]
  },
  {
   "cell_type": "markdown",
   "metadata": {},
   "source": [
    "With Tokenizer, the resulting vectors equal the length of each text, and the resulting vectors won't have the same length. To counter this, you can use `pad_sequence()` which simply pads the sequence of words with zeros. By default, it prepends zeros but we will to append them. Additionally you would want to add a `maxlen` parameter to specify how long the sequences should be. This cuts sequences that exceed that number."
   ]
  },
  {
   "cell_type": "code",
   "execution_count": 6,
   "metadata": {},
   "outputs": [
    {
     "data": {
      "image/png": "[encoded data removed]",
      "text/plain": [
       "<Figure size 432x288 with 1 Axes>"
      ]
     },
     "metadata": {
      "needs_background": "light"
     },
     "output_type": "display_data"
    }
   ],
   "source": [
    "%matplotlib inline\n",
    "import matplotlib.pyplot as plt\n",
    "\n",
    "# analyzing the sentences' length\n",
    "freqs = pd.Series(train_seqs).apply(lambda x: len(x))\n",
    "plt.hist(freqs, bins='auto') \n",
    "plt.xlabel('Sentence length');"
   ]
  },
  {
   "cell_type": "code",
   "execution_count": 7,
   "metadata": {},
   "outputs": [],
   "source": [
    "from keras.preprocessing.sequence import pad_sequences\n",
    "\n",
    "max_sentence_len = 85\n",
    "\n",
    "X_train = pad_sequences(train_seqs, padding='post', maxlen=max_sentence_len)\n",
    "X_test = pad_sequences(test_seqs, padding='post', maxlen=max_sentence_len)"
   ]
  },
  {
   "cell_type": "markdown",
   "metadata": {},
   "source": [
    "**Word Embeddings**\n",
    "\n",
    "In order to speed the LSTM training, the word embeddings will be previously generated through Word2Vec."
   ]
  },
  {
   "cell_type": "code",
   "execution_count": 8,
   "metadata": {},
   "outputs": [
    {
     "name": "stdout",
     "output_type": "stream",
     "text": [
      "CPU times: user 44.4 ms, sys: 8.04 ms, total: 52.4 ms\n",
      "Wall time: 51.7 ms\n"
     ]
    }
   ],
   "source": [
    "%%time\n",
    "\n",
    "reverse_word_map = dict(map(reversed, tokenizer.word_index.items()))\n",
    "def sequence_to_text(list_of_indices):\n",
    "    words = [reverse_word_map.get(i) for i in list_of_indices]\n",
    "    return(words)\n",
    "\n",
    "# Creating texts \n",
    "w2v_input = list(map(sequence_to_text, train_seqs))"
   ]
  },
  {
   "cell_type": "code",
   "execution_count": 9,
   "metadata": {},
   "outputs": [
    {
     "name": "stdout",
     "output_type": "stream",
     "text": [
      "CPU times: user 11.3 s, sys: 76.8 ms, total: 11.4 s\n",
      "Wall time: 6.2 s\n"
     ]
    }
   ],
   "source": [
    "%%time\n",
    "import gensim\n",
    "\n",
    "embedding_dim = 50\n",
    "word_model = gensim.models.Word2Vec(w2v_input, \n",
    "                                    size=embedding_dim, \n",
    "                                    min_count=1, \n",
    "                                    iter=10)"
   ]
  },
  {
   "cell_type": "markdown",
   "metadata": {},
   "source": [
    "**Creating and traning the model**\n",
    "\n",
    "Implementing the attention mechanism as a Keras layer."
   ]
  },
  {
   "cell_type": "code",
   "execution_count": 10,
   "metadata": {},
   "outputs": [],
   "source": [
    "from keras.layers import Layer\n",
    "import keras.backend as K\n",
    "\n",
    "class Attention(Layer):\n",
    "    def __init__(self, **kwargs):\n",
    "        super(Attention, self).__init__(**kwargs)\n",
    "\n",
    "    def build(self, input_shape):\n",
    "        self.W=self.add_weight(name=\"att_weight\", shape=(input_shape[-1], 1), initializer=\"normal\")\n",
    "        self.b=self.add_weight(name=\"att_bias\", shape=(input_shape[1], 1), initializer=\"zeros\")        \n",
    "        super(Attention, self).build(input_shape)\n",
    "\n",
    "    def call(self, x):\n",
    "        et=K.squeeze(K.tanh(K.dot(x, self.W) + self.b), axis=-1)\n",
    "        at=K.softmax(et)\n",
    "        at=K.expand_dims(at, axis=-1)\n",
    "        output=x*at\n",
    "        return K.sum(output, axis=1)\n",
    "\n",
    "    def compute_output_shape(self, input_shape):\n",
    "        return (input_shape[0], input_shape[-1])\n",
    "\n",
    "    def get_config(self):\n",
    "        return super(Attention, self).get_config()"
   ]
  },
  {
   "cell_type": "markdown",
   "metadata": {},
   "source": [
    "We will use the Embedding Layer of Keras to store the embedding vectors generated by Word2Vec.\n",
    "\n",
    "- `input_dim`: the size of the vocabulary (i.e., the number of neurons).\n",
    "- `output_dim`: the size of the dense vector generated by the layer.\n",
    "- `input_length`: the length of the input sequence/document."
   ]
  },
  {
   "cell_type": "code",
   "execution_count": 11,
   "metadata": {
    "scrolled": false
   },
   "outputs": [
    {
     "name": "stdout",
     "output_type": "stream",
     "text": [
      "Null word embeddings: 1\n"
     ]
    }
   ],
   "source": [
    "from keras import layers\n",
    "import numpy as np\n",
    "\n",
    "word_index = tokenizer.word_index\n",
    "\n",
    "embedding_matrix = np.zeros((vocab_size, embedding_dim))\n",
    "for word, i in word_index.items():\n",
    "    if word in word_model.wv.vocab:\n",
    "        embedding_matrix[i] = word_model.wv.get_vector(word)\n",
    "        \n",
    "print('Null word embeddings: %d' % np.sum(np.sum(embedding_matrix, axis=1) == 0))\n",
    "\n",
    "embedding_layer = layers.Embedding(embedding_matrix.shape[0], # or len(word_index) + 1\n",
    "                            embedding_matrix.shape[1], # or EMBEDDING_DIM,\n",
    "                            weights=[embedding_matrix],\n",
    "                            input_length=max_sentence_len,\n",
    "                            trainable=True)"
   ]
  },
  {
   "cell_type": "code",
   "execution_count": 12,
   "metadata": {},
   "outputs": [
    {
     "name": "stdout",
     "output_type": "stream",
     "text": [
      "Model: \"sequential_1\"\n",
      "_________________________________________________________________\n",
      "Layer (type)                 Output Shape              Param #   \n",
      "=================================================================\n",
      "embedding_1 (Embedding)      (None, 85, 50)            544150    \n",
      "_________________________________________________________________\n",
      "lstm_1 (LSTM)                (None, 85, 100)           60400     \n",
      "_________________________________________________________________\n",
      "attention_1 (Attention)      (None, 100)               185       \n",
      "_________________________________________________________________\n",
      "dense_1 (Dense)              (None, 30)                3030      \n",
      "_________________________________________________________________\n",
      "dense_2 (Dense)              (None, 5)                 155       \n",
      "=================================================================\n",
      "Total params: 607,920\n",
      "Trainable params: 607,920\n",
      "Non-trainable params: 0\n",
      "_________________________________________________________________\n"
     ]
    }
   ],
   "source": [
    "from keras.models import Sequential\n",
    "from keras import layers\n",
    "from keras import initializers\n",
    "\n",
    "k_initializer = initializers.glorot_uniform(seed=1)\n",
    "r_initializer = initializers.Orthogonal(seed=1)\n",
    "\n",
    "model = Sequential()\n",
    "model.add(embedding_layer)\n",
    "model.add(layers.LSTM(100, \n",
    "                      dropout=0.2, \n",
    "                      recurrent_dropout=0.2, \n",
    "                      return_sequences=True, \n",
    "                      kernel_initializer=k_initializer, \n",
    "                      recurrent_initializer=r_initializer))\n",
    "model.add(Attention())\n",
    "model.add(layers.Dense(30, \n",
    "                       activation=\"relu\", \n",
    "                       kernel_initializer=k_initializer))\n",
    "model.add(layers.Dense(5, \n",
    "                       activation=\"softmax\", \n",
    "                       kernel_initializer=k_initializer))\n",
    "model.compile(loss='categorical_crossentropy', \n",
    "              optimizer='adam', \n",
    "              metrics=['accuracy'])\n",
    "model.summary()"
   ]
  },
  {
   "cell_type": "markdown",
   "metadata": {},
   "source": [
    "Training the model."
   ]
  },
  {
   "cell_type": "code",
   "execution_count": 13,
   "metadata": {},
   "outputs": [
    {
     "name": "stderr",
     "output_type": "stream",
     "text": [
      "/home/alexandre/anaconda3/lib/python3.7/site-packages/tensorflow_core/python/framework/indexed_slices.py:424: UserWarning: Converting sparse IndexedSlices to a dense Tensor of unknown shape. This may consume a large amount of memory.\n",
      "  \"Converting sparse IndexedSlices to a dense Tensor of unknown shape. \"\n"
     ]
    },
    {
     "name": "stdout",
     "output_type": "stream",
     "text": [
      "Train on 2516 samples, validate on 1079 samples\n",
      "Epoch 1/20\n",
      "2516/2516 [==============================] - 20s 8ms/step - loss: 1.2008 - accuracy: 0.5429 - val_loss: 0.8322 - val_accuracy: 0.6830\n",
      "Epoch 2/20\n",
      "2516/2516 [==============================] - 17s 7ms/step - loss: 0.8368 - accuracy: 0.6769 - val_loss: 0.7113 - val_accuracy: 0.7433\n",
      "Epoch 3/20\n",
      "2516/2516 [==============================] - 18s 7ms/step - loss: 0.7123 - accuracy: 0.7385 - val_loss: 0.6308 - val_accuracy: 0.7720\n",
      "Epoch 4/20\n",
      "2516/2516 [==============================] - 18s 7ms/step - loss: 0.6538 - accuracy: 0.7568 - val_loss: 0.6008 - val_accuracy: 0.7813\n",
      "Epoch 5/20\n",
      "2516/2516 [==============================] - 18s 7ms/step - loss: 0.5835 - accuracy: 0.7890 - val_loss: 0.5956 - val_accuracy: 0.7878\n",
      "Epoch 6/20\n",
      "2516/2516 [==============================] - 17s 7ms/step - loss: 0.5591 - accuracy: 0.7985 - val_loss: 0.5508 - val_accuracy: 0.7989\n",
      "Epoch 7/20\n",
      "2516/2516 [==============================] - 18s 7ms/step - loss: 0.5399 - accuracy: 0.8104 - val_loss: 0.5518 - val_accuracy: 0.8063\n",
      "Epoch 8/20\n",
      "2516/2516 [==============================] - 18s 7ms/step - loss: 0.4978 - accuracy: 0.8243 - val_loss: 0.5144 - val_accuracy: 0.8221\n",
      "Epoch 9/20\n",
      "2516/2516 [==============================] - 18s 7ms/step - loss: 0.4727 - accuracy: 0.8347 - val_loss: 0.5367 - val_accuracy: 0.8119\n",
      "Epoch 10/20\n",
      "2516/2516 [==============================] - 18s 7ms/step - loss: 0.4437 - accuracy: 0.8458 - val_loss: 0.5198 - val_accuracy: 0.8174\n",
      "Epoch 11/20\n",
      "2516/2516 [==============================] - 18s 7ms/step - loss: 0.4347 - accuracy: 0.8490 - val_loss: 0.4985 - val_accuracy: 0.8304\n",
      "Epoch 12/20\n",
      "2516/2516 [==============================] - 18s 7ms/step - loss: 0.4031 - accuracy: 0.8605 - val_loss: 0.4987 - val_accuracy: 0.8193\n",
      "Epoch 13/20\n",
      "2516/2516 [==============================] - 19s 7ms/step - loss: 0.3724 - accuracy: 0.8684 - val_loss: 0.4966 - val_accuracy: 0.8323\n",
      "Epoch 14/20\n",
      "2516/2516 [==============================] - 18s 7ms/step - loss: 0.3643 - accuracy: 0.8716 - val_loss: 0.4899 - val_accuracy: 0.8313\n",
      "Epoch 15/20\n",
      "2516/2516 [==============================] - 18s 7ms/step - loss: 0.3355 - accuracy: 0.8855 - val_loss: 0.4990 - val_accuracy: 0.8369\n",
      "Epoch 16/20\n",
      "2516/2516 [==============================] - 18s 7ms/step - loss: 0.3227 - accuracy: 0.8919 - val_loss: 0.5074 - val_accuracy: 0.8323\n",
      "Epoch 17/20\n",
      "2516/2516 [==============================] - 18s 7ms/step - loss: 0.3140 - accuracy: 0.8879 - val_loss: 0.4975 - val_accuracy: 0.8369\n",
      "Epoch 18/20\n",
      "2516/2516 [==============================] - 17s 7ms/step - loss: 0.2899 - accuracy: 0.8983 - val_loss: 0.4917 - val_accuracy: 0.8415\n",
      "Epoch 19/20\n",
      "2516/2516 [==============================] - 18s 7ms/step - loss: 0.2703 - accuracy: 0.9094 - val_loss: 0.5060 - val_accuracy: 0.8313\n",
      "Epoch 20/20\n",
      "2516/2516 [==============================] - 18s 7ms/step - loss: 0.2511 - accuracy: 0.9153 - val_loss: 0.5079 - val_accuracy: 0.8397\n",
      "CPU times: user 12min 55s, sys: 9min 55s, total: 22min 50s\n",
      "Wall time: 6min 1s\n"
     ]
    }
   ],
   "source": [
    "%%time\n",
    "history = model.fit(X_train, \n",
    "                    Y_train,\n",
    "                    epochs=20,\n",
    "                    verbose=True,\n",
    "                    validation_data=(X_test, Y_test),\n",
    "                    batch_size=64)"
   ]
  },
  {
   "cell_type": "markdown",
   "metadata": {},
   "source": [
    "Evaluation."
   ]
  },
  {
   "cell_type": "code",
   "execution_count": 14,
   "metadata": {},
   "outputs": [
    {
     "name": "stdout",
     "output_type": "stream",
     "text": [
      "Training Accuracy: 0.9535\n",
      "Testing Accuracy:  0.8397\n"
     ]
    },
    {
     "data": {
      "image/png": "[encoded data removed]",
      "text/plain": [
       "<Figure size 864x360 with 2 Axes>"
      ]
     },
     "metadata": {},
     "output_type": "display_data"
    }
   ],
   "source": [
    "plt.style.use('ggplot')\n",
    "\n",
    "def plot_history(history):\n",
    "    acc = history.history['accuracy']\n",
    "    val_acc = history.history['val_accuracy']\n",
    "    loss = history.history['loss']\n",
    "    val_loss = history.history['val_loss']\n",
    "    x = range(1, len(acc) + 1)\n",
    "\n",
    "    plt.figure(figsize=(12, 5))\n",
    "    plt.subplot(1, 2, 1)\n",
    "    plt.plot(x, acc, 'b', label='Training acc')\n",
    "    plt.plot(x, val_acc, 'r', label='Validation acc')\n",
    "    plt.title('Training and validation accuracy')\n",
    "    plt.legend()\n",
    "    plt.subplot(1, 2, 2)\n",
    "    plt.plot(x, loss, 'b', label='Training loss')\n",
    "    plt.plot(x, val_loss, 'r', label='Validation loss')\n",
    "    plt.title('Training and validation loss')\n",
    "    plt.legend()\n",
    "\n",
    "loss, accuracy = model.evaluate(X_train, \n",
    "                                Y_train, \n",
    "                                verbose=False)\n",
    "print(\"Training Accuracy: {:.4f}\".format(accuracy))\n",
    "\n",
    "loss, accuracy = model.evaluate(X_test, \n",
    "                                Y_test, \n",
    "                                verbose=False)\n",
    "print(\"Testing Accuracy:  {:.4f}\".format(accuracy))\n",
    "\n",
    "plot_history(history)"
   ]
  },
  {
   "cell_type": "code",
   "execution_count": 15,
   "metadata": {},
   "outputs": [],
   "source": [
    "from sklearn.metrics import accuracy_score, confusion_matrix\n",
    "\n",
    "my_tags = df.category_id.unique()\n",
    "def plot_confusion_matrix(cm, title='Confusion matrix', cmap=plt.cm.Blues):\n",
    "    plt.imshow(cm, interpolation='nearest', cmap=cmap)\n",
    "    plt.title(title)\n",
    "    plt.colorbar()\n",
    "    tick_marks = np.arange(len(my_tags))\n",
    "    target_names = my_tags\n",
    "    plt.xticks(tick_marks, target_names, rotation=45)\n",
    "    plt.yticks(tick_marks, target_names)\n",
    "    plt.tight_layout()\n",
    "    plt.ylabel('True label')\n",
    "    plt.xlabel('Predicted label')\n",
    "\n",
    "def evaluate_prediction(predictions, target, title=\"Confusion matrix\"):\n",
    "    print('accuracy %s' % accuracy_score(target, predictions))\n",
    "    cm = confusion_matrix(target, predictions, labels=my_tags)\n",
    "    print('confusion matrix\\n %s' % cm)\n",
    "    print('(row=expected, col=predicted)')\n",
    "    \n",
    "    cm_normalized = cm.astype('float') / cm.sum(axis=1)[:, np.newaxis]\n",
    "    plot_confusion_matrix(cm_normalized, title + ' Normalized')"
   ]
  },
  {
   "cell_type": "code",
   "execution_count": 16,
   "metadata": {
    "scrolled": false
   },
   "outputs": [
    {
     "name": "stdout",
     "output_type": "stream",
     "text": [
      "accuracy 0.8396663577386468\n",
      "confusion matrix\n",
      " [[183  20   9   3   1]\n",
      " [ 21 175   8   8   4]\n",
      " [  7   6 187   0  15]\n",
      " [  6   3  15 184   8]\n",
      " [  1   1  33   4 177]]\n",
      "(row=expected, col=predicted)\n",
      "              precision    recall  f1-score   support\n",
      "\n",
      "           0       0.84      0.85      0.84       216\n",
      "           1       0.85      0.81      0.83       216\n",
      "           2       0.74      0.87      0.80       215\n",
      "           3       0.92      0.85      0.89       216\n",
      "           4       0.86      0.82      0.84       216\n",
      "\n",
      "    accuracy                           0.84      1079\n",
      "   macro avg       0.84      0.84      0.84      1079\n",
      "weighted avg       0.84      0.84      0.84      1079\n",
      "\n"
     ]
    },
    {
     "data": {
      "image/png": "[encoded data removed]",
      "text/plain": [
       "<Figure size 432x288 with 2 Axes>"
      ]
     },
     "metadata": {},
     "output_type": "display_data"
    }
   ],
   "source": [
    "import numpy as np\n",
    "from sklearn import metrics\n",
    "\n",
    "Y_pred = model.predict(X_test, \n",
    "                       verbose=0)\n",
    "evaluate_prediction(Y_pred.argmax(axis=1), \n",
    "                    Y_test.argmax(axis=1))\n",
    "\n",
    "print(metrics.classification_report(Y_test.argmax(axis=1), \n",
    "                                    Y_pred.argmax(axis=1)))"
   ]
  },
  {
   "cell_type": "code",
   "execution_count": null,
   "metadata": {},
   "outputs": [],
   "source": []
  }
 ],
 "metadata": {
  "kernelspec": {
   "display_name": "Python 3",
   "language": "python",
   "name": "python3"
  },
  "language_info": {
   "codemirror_mode": {
    "name": "ipython",
    "version": 3
   },
   "file_extension": ".py",
   "mimetype": "text/x-python",
   "name": "python",
   "nbconvert_exporter": "python",
   "pygments_lexer": "ipython3",
   "version": "3.7.4"
  }
 },
 "nbformat": 4,
 "nbformat_minor": 2
}
