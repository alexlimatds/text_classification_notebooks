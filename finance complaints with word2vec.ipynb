{
 "cells": [
  {
   "cell_type": "markdown",
   "metadata": {},
   "source": [
    "#### Example of text classification with word2vec embeddings generated from the target corpus (Consumer Finance Complaints dataset).\n",
    "\n",
    "Reference pages:\n",
    "- https://towardsdatascience.com/multi-class-text-classification-with-scikit-learn-12f1e60e0a9f\n",
    "- https://sturzamihai.com/how-to-use-pre-trained-word-vectors-with-keras/\n",
    "- https://towardsdatascience.com/nlp-for-beginners-cleaning-preprocessing-text-data-ae8e306bef0f\n",
    "- https://github.com/RaRe-Technologies/movie-plots-by-genre/blob/master/ipynb_with_output/Document%20classification%20with%20word%20embeddings%20tutorial%20-%20with%20output.ipynb\n",
    "\n",
    "The dataset was preprocessed in **finance complaints dataset analysis** notebook."
   ]
  },
  {
   "cell_type": "markdown",
   "metadata": {},
   "source": [
    "Loading balanced dataset."
   ]
  },
  {
   "cell_type": "code",
   "execution_count": 30,
   "metadata": {},
   "outputs": [
    {
     "data": {
      "text/html": [
       "<div>\n",
       "<style scoped>\n",
       "    .dataframe tbody tr th:only-of-type {\n",
       "        vertical-align: middle;\n",
       "    }\n",
       "\n",
       "    .dataframe tbody tr th {\n",
       "        vertical-align: top;\n",
       "    }\n",
       "\n",
       "    .dataframe thead th {\n",
       "        text-align: right;\n",
       "    }\n",
       "</style>\n",
       "<table border=\"1\" class=\"dataframe\">\n",
       "  <thead>\n",
       "    <tr style=\"text-align: right;\">\n",
       "      <th></th>\n",
       "      <th>Unnamed: 0</th>\n",
       "      <th>Product</th>\n",
       "      <th>Consumer_complaint_narrative</th>\n",
       "      <th>category_id</th>\n",
       "    </tr>\n",
       "  </thead>\n",
       "  <tbody>\n",
       "    <tr>\n",
       "      <td>0</td>\n",
       "      <td>0</td>\n",
       "      <td>Credit reporting, credit repair services, or o...</td>\n",
       "      <td>These aren't mine ... please remove it.</td>\n",
       "      <td>0</td>\n",
       "    </tr>\n",
       "    <tr>\n",
       "      <td>1</td>\n",
       "      <td>1</td>\n",
       "      <td>Credit reporting, credit repair services, or o...</td>\n",
       "      <td>XXXX and Transunion are incorrectly reporting ...</td>\n",
       "      <td>0</td>\n",
       "    </tr>\n",
       "    <tr>\n",
       "      <td>2</td>\n",
       "      <td>2</td>\n",
       "      <td>Credit reporting, credit repair services, or o...</td>\n",
       "      <td>I have been disputing a derogatory mark on my ...</td>\n",
       "      <td>0</td>\n",
       "    </tr>\n",
       "    <tr>\n",
       "      <td>3</td>\n",
       "      <td>3</td>\n",
       "      <td>Credit reporting, credit repair services, or o...</td>\n",
       "      <td>I have sent 3 letters to all 3 credit bureau '...</td>\n",
       "      <td>0</td>\n",
       "    </tr>\n",
       "    <tr>\n",
       "      <td>4</td>\n",
       "      <td>4</td>\n",
       "      <td>Credit reporting, credit repair services, or o...</td>\n",
       "      <td>ive been working back and forth calling emaili...</td>\n",
       "      <td>0</td>\n",
       "    </tr>\n",
       "  </tbody>\n",
       "</table>\n",
       "</div>"
      ],
      "text/plain": [
       "   Unnamed: 0                                            Product  \\\n",
       "0           0  Credit reporting, credit repair services, or o...   \n",
       "1           1  Credit reporting, credit repair services, or o...   \n",
       "2           2  Credit reporting, credit repair services, or o...   \n",
       "3           3  Credit reporting, credit repair services, or o...   \n",
       "4           4  Credit reporting, credit repair services, or o...   \n",
       "\n",
       "                        Consumer_complaint_narrative  category_id  \n",
       "0            These aren't mine ... please remove it.            0  \n",
       "1  XXXX and Transunion are incorrectly reporting ...            0  \n",
       "2  I have been disputing a derogatory mark on my ...            0  \n",
       "3  I have sent 3 letters to all 3 credit bureau '...            0  \n",
       "4  ive been working back and forth calling emaili...            0  "
      ]
     },
     "execution_count": 30,
     "metadata": {},
     "output_type": "execute_result"
    }
   ],
   "source": [
    "import pandas as pd\n",
    "df = pd.read_csv('complaints-balanced.csv')\n",
    "df.head()"
   ]
  },
  {
   "cell_type": "code",
   "execution_count": 31,
   "metadata": {},
   "outputs": [
    {
     "name": "stdout",
     "output_type": "stream",
     "text": [
      "Unnamed: 0                      0\n",
      "Product                         0\n",
      "Consumer_complaint_narrative    0\n",
      "category_id                     0\n",
      "dtype: int64\n"
     ]
    },
    {
     "data": {
      "text/html": [
       "<div>\n",
       "<style scoped>\n",
       "    .dataframe tbody tr th:only-of-type {\n",
       "        vertical-align: middle;\n",
       "    }\n",
       "\n",
       "    .dataframe tbody tr th {\n",
       "        vertical-align: top;\n",
       "    }\n",
       "\n",
       "    .dataframe thead th {\n",
       "        text-align: right;\n",
       "    }\n",
       "</style>\n",
       "<table border=\"1\" class=\"dataframe\">\n",
       "  <thead>\n",
       "    <tr style=\"text-align: right;\">\n",
       "      <th></th>\n",
       "      <th>Unnamed: 0</th>\n",
       "      <th>Product</th>\n",
       "      <th>Consumer_complaint_narrative</th>\n",
       "      <th>category_id</th>\n",
       "    </tr>\n",
       "  </thead>\n",
       "  <tbody>\n",
       "    <tr>\n",
       "      <td>0</td>\n",
       "      <td>0</td>\n",
       "      <td>Credit reporting, credit repair services, or o...</td>\n",
       "      <td>These aren't mine ... please remove it.</td>\n",
       "      <td>0</td>\n",
       "    </tr>\n",
       "    <tr>\n",
       "      <td>1</td>\n",
       "      <td>1</td>\n",
       "      <td>Credit reporting, credit repair services, or o...</td>\n",
       "      <td>XXXX and Transunion are incorrectly reporting ...</td>\n",
       "      <td>0</td>\n",
       "    </tr>\n",
       "    <tr>\n",
       "      <td>2</td>\n",
       "      <td>2</td>\n",
       "      <td>Credit reporting, credit repair services, or o...</td>\n",
       "      <td>I have been disputing a derogatory mark on my ...</td>\n",
       "      <td>0</td>\n",
       "    </tr>\n",
       "    <tr>\n",
       "      <td>3</td>\n",
       "      <td>3</td>\n",
       "      <td>Credit reporting, credit repair services, or o...</td>\n",
       "      <td>I have sent 3 letters to all 3 credit bureau '...</td>\n",
       "      <td>0</td>\n",
       "    </tr>\n",
       "    <tr>\n",
       "      <td>4</td>\n",
       "      <td>4</td>\n",
       "      <td>Credit reporting, credit repair services, or o...</td>\n",
       "      <td>ive been working back and forth calling emaili...</td>\n",
       "      <td>0</td>\n",
       "    </tr>\n",
       "  </tbody>\n",
       "</table>\n",
       "</div>"
      ],
      "text/plain": [
       "   Unnamed: 0                                            Product  \\\n",
       "0           0  Credit reporting, credit repair services, or o...   \n",
       "1           1  Credit reporting, credit repair services, or o...   \n",
       "2           2  Credit reporting, credit repair services, or o...   \n",
       "3           3  Credit reporting, credit repair services, or o...   \n",
       "4           4  Credit reporting, credit repair services, or o...   \n",
       "\n",
       "                        Consumer_complaint_narrative  category_id  \n",
       "0            These aren't mine ... please remove it.            0  \n",
       "1  XXXX and Transunion are incorrectly reporting ...            0  \n",
       "2  I have been disputing a derogatory mark on my ...            0  \n",
       "3  I have sent 3 letters to all 3 credit bureau '...            0  \n",
       "4  ive been working back and forth calling emaili...            0  "
      ]
     },
     "execution_count": 31,
     "metadata": {},
     "output_type": "execute_result"
    }
   ],
   "source": [
    "print(df.isnull().sum())\n",
    "df.head()"
   ]
  },
  {
   "cell_type": "markdown",
   "metadata": {},
   "source": [
    "Text preprocessing"
   ]
  },
  {
   "cell_type": "code",
   "execution_count": 32,
   "metadata": {},
   "outputs": [
    {
     "name": "stdout",
     "output_type": "stream",
     "text": [
      "CPU times: user 1min 50s, sys: 9.52 s, total: 1min 59s\n",
      "Wall time: 2min\n"
     ]
    },
    {
     "data": {
      "text/plain": [
       "0                               [mine, please, remove]\n",
       "1    [transunion, incorrectly, reporting, authorize...\n",
       "2    [disputing, derogatory, mark, credit, report, ...\n",
       "3    [sent, letters, credit, bureau, equifax, negat...\n",
       "4    [ive, working, back, forth, calling, emailing,...\n",
       "Name: Consumer_complaint_narrative, dtype: object"
      ]
     },
     "execution_count": 32,
     "metadata": {},
     "output_type": "execute_result"
    }
   ],
   "source": [
    "%%time\n",
    "import re\n",
    "from nltk.tokenize import RegexpTokenizer\n",
    "from nltk.corpus import stopwords\n",
    "\n",
    "text = df.Consumer_complaint_narrative\n",
    "# removing numbers\n",
    "text = text.apply(lambda x: re.sub(r'\\d+', '', x))\n",
    "\n",
    "# removing XXX words\n",
    "text = text.apply(lambda x: re.sub(r'X*', '', x))\n",
    "\n",
    "# tokenizing, removing punctuation and converting to lower case\n",
    "tokenizer = RegexpTokenizer(r'\\w+')\n",
    "text = text.apply(lambda x: tokenizer.tokenize(x.lower()))\n",
    "\n",
    "# stop words removal\n",
    "def remove_stopwords(text):\n",
    "    words = [w for w in text if w not in stopwords.words('english')]\n",
    "    return words\n",
    "text = text.apply(lambda x: remove_stopwords(x))\n",
    "\n",
    "text.head()"
   ]
  },
  {
   "cell_type": "markdown",
   "metadata": {},
   "source": [
    "Creating train and test sets, with balanced frequency of classes."
   ]
  },
  {
   "cell_type": "code",
   "execution_count": 18,
   "metadata": {},
   "outputs": [],
   "source": [
    "from sklearn.model_selection import StratifiedShuffleSplit\n",
    "\n",
    "sss = StratifiedShuffleSplit(n_splits=1, test_size=0.3)\n",
    "for train_index, test_index in sss.split(text, df['category_id']):\n",
    "    train_set = text.loc[train_index]\n",
    "    train_labels = df['category_id'].loc[train_index]\n",
    "    test_set = text.loc[test_index]\n",
    "    test_labels = df['category_id'].loc[test_index]"
   ]
  },
  {
   "cell_type": "markdown",
   "metadata": {},
   "source": [
    "Creating word embeddings.\n",
    "\n",
    "Word2vec parameters:\n",
    "- `size=n` - The dimension that the Word2Vec vectors will have.\n",
    "- `min_count=n` - Include the word in our vocabulary after n encounters.\n",
    "- `iter=n` - In how many epochs should the Word2Vec model learn the semantic correlations."
   ]
  },
  {
   "cell_type": "code",
   "execution_count": 19,
   "metadata": {},
   "outputs": [
    {
     "name": "stdout",
     "output_type": "stream",
     "text": [
      "CPU times: user 13.6 s, sys: 70.7 ms, total: 13.7 s\n",
      "Wall time: 6.39 s\n"
     ]
    }
   ],
   "source": [
    "%%time\n",
    "import gensim\n",
    "\n",
    "word_model = gensim.models.Word2Vec(train_set, size=300, min_count=2, iter=10)"
   ]
  },
  {
   "cell_type": "code",
   "execution_count": 20,
   "metadata": {},
   "outputs": [
    {
     "data": {
      "text/plain": [
       "[('deep', 0.9879833459854126),\n",
       " ('flags', 0.9834755659103394),\n",
       " ('merger', 0.9830029606819153),\n",
       " ('obstructing', 0.982875406742096),\n",
       " ('borderline', 0.9826929569244385),\n",
       " ('fixtures', 0.9822198748588562),\n",
       " ('sharing', 0.9816129803657532),\n",
       " ('race', 0.9811797142028809),\n",
       " ('assisting', 0.9808827638626099),\n",
       " ('challenged', 0.9796955585479736)]"
      ]
     },
     "execution_count": 20,
     "metadata": {},
     "output_type": "execute_result"
    }
   ],
   "source": [
    "word_model.wv.most_similar(positive='quality')"
   ]
  },
  {
   "cell_type": "markdown",
   "metadata": {},
   "source": [
    "Each document must be converted to a vector. So, we'll use the mean vector of its words."
   ]
  },
  {
   "cell_type": "code",
   "execution_count": 21,
   "metadata": {},
   "outputs": [],
   "source": [
    "import numpy as np\n",
    "\n",
    "def word_averaging(model, words):\n",
    "    all_words, mean = set(), []\n",
    "    \n",
    "    for word in words:\n",
    "        if isinstance(word, np.ndarray):\n",
    "            mean.append(word)\n",
    "        elif word in model.wv.vocab:\n",
    "            mean.append(model.wv.vectors_norm[model.wv.vocab[word].index])\n",
    "            all_words.add(model.wv.vocab[word].index)\n",
    "\n",
    "    if not mean:\n",
    "        logging.warning(\"cannot compute similarity with no input %s\", words)\n",
    "        # FIXME: remove these examples in pre-processing\n",
    "        return np.zeros(model.layer1_size,)\n",
    "\n",
    "    mean = gensim.matutils.unitvec(np.array(mean).mean(axis=0)).astype(np.float32)\n",
    "    return mean\n",
    "\n",
    "def  word_averaging_list(model, text_list):\n",
    "    return np.vstack([word_averaging(model, review) for review in text_list ])"
   ]
  },
  {
   "cell_type": "code",
   "execution_count": 22,
   "metadata": {},
   "outputs": [
    {
     "name": "stdout",
     "output_type": "stream",
     "text": [
      "CPU times: user 1.12 s, sys: 0 ns, total: 1.12 s\n",
      "Wall time: 1.12 s\n"
     ]
    }
   ],
   "source": [
    "%%time\n",
    "X_train_word_average = word_averaging_list(word_model, train_set)\n",
    "X_test_word_average = word_averaging_list(word_model, test_set)"
   ]
  },
  {
   "cell_type": "markdown",
   "metadata": {},
   "source": [
    "Let's train and evaluate some classifiers."
   ]
  },
  {
   "cell_type": "code",
   "execution_count": 23,
   "metadata": {},
   "outputs": [
    {
     "name": "stdout",
     "output_type": "stream",
     "text": [
      "CPU times: user 1min 58s, sys: 1.1 s, total: 1min 59s\n",
      "Wall time: 1min 6s\n"
     ]
    }
   ],
   "source": [
    "%%time\n",
    "from sklearn.linear_model import LogisticRegression\n",
    "from sklearn.ensemble import RandomForestClassifier\n",
    "from sklearn.model_selection import cross_val_score\n",
    "from sklearn import svm\n",
    "from sklearn.neural_network import MLPClassifier\n",
    "\n",
    "models = [\n",
    "    RandomForestClassifier(n_estimators=200, max_depth=3, random_state=0),\n",
    "    LogisticRegression(solver='lbfgs', multi_class='auto', random_state=0),\n",
    "    svm.LinearSVC(random_state=0),\n",
    "    MLPClassifier(max_iter=1000, random_state=0)\n",
    "]\n",
    "CV = 5\n",
    "cv_df = pd.DataFrame(index=range(CV * len(models)))\n",
    "entries = []\n",
    "for model in models:\n",
    "  model_name = model.__class__.__name__\n",
    "  accuracies = cross_val_score(model, X_train_word_average, train_labels, scoring='accuracy', cv=CV)\n",
    "  for fold_idx, accuracy in enumerate(accuracies):\n",
    "    entries.append((model_name, fold_idx, accuracy))\n",
    "cv_df = pd.DataFrame(entries, columns=['model_name', 'fold_idx', 'accuracy'])"
   ]
  },
  {
   "cell_type": "code",
   "execution_count": 24,
   "metadata": {},
   "outputs": [
    {
     "data": {
      "image/png": "[encoded data removed]",
      "text/plain": [
       "<Figure size 432x288 with 1 Axes>"
      ]
     },
     "metadata": {
      "needs_background": "light"
     },
     "output_type": "display_data"
    }
   ],
   "source": [
    "%matplotlib inline\n",
    "import seaborn as sns\n",
    "sns.boxplot(x='model_name', y='accuracy', data=cv_df)\n",
    "sns.stripplot(x='model_name', y='accuracy', data=cv_df, size=8, jitter=True, edgecolor=\"gray\", linewidth=2)\n",
    "plt.show()"
   ]
  },
  {
   "cell_type": "code",
   "execution_count": 25,
   "metadata": {},
   "outputs": [
    {
     "data": {
      "text/plain": [
       "model_name\n",
       "LinearSVC                 0.797244\n",
       "LogisticRegression        0.787301\n",
       "MLPClassifier             0.833429\n",
       "RandomForestClassifier    0.758307\n",
       "Name: accuracy, dtype: float64"
      ]
     },
     "execution_count": 25,
     "metadata": {},
     "output_type": "execute_result"
    }
   ],
   "source": [
    "cv_df.groupby('model_name').accuracy.mean()"
   ]
  },
  {
   "cell_type": "markdown",
   "metadata": {},
   "source": [
    "Best model evaluation"
   ]
  },
  {
   "cell_type": "code",
   "execution_count": 27,
   "metadata": {},
   "outputs": [],
   "source": [
    "from sklearn.metrics import accuracy_score, confusion_matrix\n",
    "\n",
    "my_tags = df.category_id.unique()\n",
    "def plot_confusion_matrix(cm, title='Confusion matrix', cmap=plt.cm.Blues):\n",
    "    plt.imshow(cm, interpolation='nearest', cmap=cmap)\n",
    "    plt.title(title)\n",
    "    plt.colorbar()\n",
    "    tick_marks = np.arange(len(my_tags))\n",
    "    target_names = my_tags\n",
    "    plt.xticks(tick_marks, target_names, rotation=45)\n",
    "    plt.yticks(tick_marks, target_names)\n",
    "    plt.tight_layout()\n",
    "    plt.ylabel('True label')\n",
    "    plt.xlabel('Predicted label')\n",
    "\n",
    "def evaluate_prediction(predictions, target, title=\"Confusion matrix\"):\n",
    "    print('accuracy %s' % accuracy_score(target, predictions))\n",
    "    cm = confusion_matrix(target, predictions, labels=my_tags)\n",
    "    print('confusion matrix\\n %s' % cm)\n",
    "    print('(row=expected, col=predicted)')\n",
    "    \n",
    "    cm_normalized = cm.astype('float') / cm.sum(axis=1)[:, np.newaxis]\n",
    "    plot_confusion_matrix(cm_normalized, title + ' Normalized')"
   ]
  },
  {
   "cell_type": "code",
   "execution_count": 28,
   "metadata": {},
   "outputs": [
    {
     "name": "stdout",
     "output_type": "stream",
     "text": [
      "accuracy 0.830398517145505\n",
      "confusion matrix\n",
      " [[172  26  12   5   1]\n",
      " [ 22 178   6   6   4]\n",
      " [ 19  13 162   3  19]\n",
      " [  4   5   4 200   3]\n",
      " [  3   3  18   7 184]]\n",
      "(row=expected, col=predicted)\n",
      "CPU times: user 37.1 s, sys: 515 ms, total: 37.6 s\n",
      "Wall time: 18.9 s\n"
     ]
    },
    {
     "data": {
      "image/png": "[encoded data removed]",
      "text/plain": [
       "<Figure size 432x288 with 2 Axes>"
      ]
     },
     "metadata": {
      "needs_background": "light"
     },
     "output_type": "display_data"
    }
   ],
   "source": [
    "%%time\n",
    "model = models[3]\n",
    "model.fit(X_train_word_average, train_labels)\n",
    "predicted = model.predict(X_test_word_average)\n",
    "evaluate_prediction(predicted, test_labels)"
   ]
  }
 ],
 "metadata": {
  "kernelspec": {
   "display_name": "Python 3",
   "language": "python",
   "name": "python3"
  },
  "language_info": {
   "codemirror_mode": {
    "name": "ipython",
    "version": 3
   },
   "file_extension": ".py",
   "mimetype": "text/x-python",
   "name": "python",
   "nbconvert_exporter": "python",
   "pygments_lexer": "ipython3",
   "version": "3.7.4"
  }
 },
 "nbformat": 4,
 "nbformat_minor": 2
}
