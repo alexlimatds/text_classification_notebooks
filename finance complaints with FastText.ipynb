{
 "cells": [
  {
   "cell_type": "markdown",
   "metadata": {},
   "source": [
    "#### Example of text classification with word embeddings generated through FastText.\n",
    "\n",
    "Reference pages:\n",
    "- https://radimrehurek.com/gensim/models/fasttext.html\n",
    "\n",
    "The finance complaints dataset was preprocessed in **finance complaints dataset analysis** notebook."
   ]
  },
  {
   "cell_type": "markdown",
   "metadata": {},
   "source": [
    "Loading balanced dataset."
   ]
  },
  {
   "cell_type": "code",
   "execution_count": 1,
   "metadata": {},
   "outputs": [
    {
     "data": {
      "text/html": [
       "<div>\n",
       "<style scoped>\n",
       "    .dataframe tbody tr th:only-of-type {\n",
       "        vertical-align: middle;\n",
       "    }\n",
       "\n",
       "    .dataframe tbody tr th {\n",
       "        vertical-align: top;\n",
       "    }\n",
       "\n",
       "    .dataframe thead th {\n",
       "        text-align: right;\n",
       "    }\n",
       "</style>\n",
       "<table border=\"1\" class=\"dataframe\">\n",
       "  <thead>\n",
       "    <tr style=\"text-align: right;\">\n",
       "      <th></th>\n",
       "      <th>Unnamed: 0</th>\n",
       "      <th>Product</th>\n",
       "      <th>Consumer_complaint_narrative</th>\n",
       "      <th>category_id</th>\n",
       "    </tr>\n",
       "  </thead>\n",
       "  <tbody>\n",
       "    <tr>\n",
       "      <td>0</td>\n",
       "      <td>0</td>\n",
       "      <td>Credit reporting, credit repair services, or o...</td>\n",
       "      <td>My XXXX XXXX Account Was Paid Off But They Hav...</td>\n",
       "      <td>0</td>\n",
       "    </tr>\n",
       "    <tr>\n",
       "      <td>1</td>\n",
       "      <td>1</td>\n",
       "      <td>Credit reporting, credit repair services, or o...</td>\n",
       "      <td>I had a citibank checking account which I clos...</td>\n",
       "      <td>0</td>\n",
       "    </tr>\n",
       "    <tr>\n",
       "      <td>2</td>\n",
       "      <td>2</td>\n",
       "      <td>Credit reporting, credit repair services, or o...</td>\n",
       "      <td>I would like to request the suppression of the...</td>\n",
       "      <td>0</td>\n",
       "    </tr>\n",
       "    <tr>\n",
       "      <td>3</td>\n",
       "      <td>3</td>\n",
       "      <td>Credit reporting, credit repair services, or o...</td>\n",
       "      <td>Account from XXXX with a balance is reporting ...</td>\n",
       "      <td>0</td>\n",
       "    </tr>\n",
       "    <tr>\n",
       "      <td>4</td>\n",
       "      <td>4</td>\n",
       "      <td>Credit reporting, credit repair services, or o...</td>\n",
       "      <td>The credit bureaus are reporting inaccurate/ou...</td>\n",
       "      <td>0</td>\n",
       "    </tr>\n",
       "  </tbody>\n",
       "</table>\n",
       "</div>"
      ],
      "text/plain": [
       "   Unnamed: 0                                            Product  \\\n",
       "0           0  Credit reporting, credit repair services, or o...   \n",
       "1           1  Credit reporting, credit repair services, or o...   \n",
       "2           2  Credit reporting, credit repair services, or o...   \n",
       "3           3  Credit reporting, credit repair services, or o...   \n",
       "4           4  Credit reporting, credit repair services, or o...   \n",
       "\n",
       "                        Consumer_complaint_narrative  category_id  \n",
       "0  My XXXX XXXX Account Was Paid Off But They Hav...            0  \n",
       "1  I had a citibank checking account which I clos...            0  \n",
       "2  I would like to request the suppression of the...            0  \n",
       "3  Account from XXXX with a balance is reporting ...            0  \n",
       "4  The credit bureaus are reporting inaccurate/ou...            0  "
      ]
     },
     "execution_count": 1,
     "metadata": {},
     "output_type": "execute_result"
    }
   ],
   "source": [
    "import pandas as pd\n",
    "df = pd.read_csv('complaints-balanced.csv')\n",
    "df.head()"
   ]
  },
  {
   "cell_type": "code",
   "execution_count": 2,
   "metadata": {},
   "outputs": [
    {
     "name": "stdout",
     "output_type": "stream",
     "text": [
      "Unnamed: 0                      0\n",
      "Product                         0\n",
      "Consumer_complaint_narrative    0\n",
      "category_id                     0\n",
      "dtype: int64\n"
     ]
    }
   ],
   "source": [
    "print(df.isnull().sum())"
   ]
  },
  {
   "cell_type": "markdown",
   "metadata": {},
   "source": [
    "Text preprocessing"
   ]
  },
  {
   "cell_type": "code",
   "execution_count": 3,
   "metadata": {},
   "outputs": [
    {
     "name": "stdout",
     "output_type": "stream",
     "text": [
      "CPU times: user 1min 37s, sys: 8.54 s, total: 1min 45s\n",
      "Wall time: 1min 46s\n"
     ]
    },
    {
     "data": {
      "text/plain": [
       "0    [account, paid, left, wrong, information, cred...\n",
       "1    [citibank, checking, account, closed, showing,...\n",
       "2    [would, like, request, suppression, following,...\n",
       "3    [account, balance, reporting, credit, report, ...\n",
       "4    [credit, bureaus, reporting, inaccurate, outda...\n",
       "Name: Consumer_complaint_narrative, dtype: object"
      ]
     },
     "execution_count": 3,
     "metadata": {},
     "output_type": "execute_result"
    }
   ],
   "source": [
    "%%time\n",
    "import re\n",
    "from nltk.corpus import stopwords\n",
    "\n",
    "text = df.Consumer_complaint_narrative\n",
    "\n",
    "# removing XXX words\n",
    "text = text.apply(lambda x: re.sub(r'X*', '', x))\n",
    "\n",
    "# converting to lower case\n",
    "text = text.apply(lambda x: x.lower())\n",
    "\n",
    "# replacing symbols with spaces\n",
    "text = text.apply(lambda x: re.sub(r'[/(){}\\[\\]\\|@,;.?]', ' ', x))\n",
    "\n",
    "# removing bad symbols\n",
    "text = text.apply(lambda x: re.sub(r'[^0-9a-z #+_]', '', x))\n",
    "\n",
    "# removing numbers\n",
    "text = text.apply(lambda x: re.sub(r'\\d+', '', x))\n",
    "\n",
    "# tokenizing\n",
    "text = text.apply(lambda x: x.split())\n",
    "\n",
    "# stop words removal\n",
    "def remove_stopwords(text):\n",
    "    words = [w for w in text if w not in stopwords.words('english')]\n",
    "    return words\n",
    "text = text.apply(lambda x: remove_stopwords(x))\n",
    "\n",
    "text.head()"
   ]
  },
  {
   "cell_type": "code",
   "execution_count": 4,
   "metadata": {},
   "outputs": [
    {
     "name": "stdout",
     "output_type": "stream",
     "text": [
      "--------------------------------------------------\n",
      "* BEFORE: My XXXX XXXX Account Was Paid Off But They Have Left The Wrong Information On My Credit Report For 11 Years The Account Should Be Removed It Is Too OldAnd A Medical Account That I Believed To Be Payed Off Has Also Been Left On My Report\n",
      "\n",
      "* AFTER: account paid left wrong information credit report years account removed oldand medical account believed payed also left report\n",
      "\n",
      "--------------------------------------------------\n",
      "* BEFORE: Please be advised this is my THIRD WRITTEN REQUEST and FINAL WARNING that I fully intend to pursue litigation in accordance with the FCRA to enforce my rights and seek relief and recover all monetary damages that I may be entitled to under Section 616 and Section 617 regarding your continued willful and negligent noncompliance.\n",
      "\n",
      "Despite two written requests, the unverified items listed below still remain on my credit report in violation of Federal Law. You are required under the FCRA to have a copy of the original creditors documentation on file to verify that this information is mine and is correct. In the results of your first investigation and subsequent reinvestigation, you stated in writing that you verified that these items are being reported correctly?\n",
      "\n",
      "Who verified these accounts?\n",
      "\n",
      "You have NOT provided me a copy of ANY original documentation ( a consumer contract with my signature on it ) as required under Section 609 ( a ) ( 1 ) ( A ) & Section 611 ( a ) ( 1 ) ( A ). Furthermore you have failed to provide the method of verification as required under Section 611 ( a ) ( 7 ).\n",
      "\n",
      "Please be advised that under Section 611 ( 5 ) ( A ) of the FCRA you are required to promptly DELETE all information which can not be verified. The law is very clear as to the Civil liability and the remedy available to me ( Section 616 & 617 ) if you fail to comply with Federal Law. I am a litigious consumer and fully intend on pursuing litigation in this matter to enforce my rights under the FCRA. \n",
      "\n",
      "\n",
      "I demand the following accounts be verified or removed immediately. \n",
      "\n",
      "Dept of Ed Account XXXX XXXX XXXX Account XXXX XXXX XXXX Account XXXX XXXX XXXX Account XXXX XXXX XXXX XXXX Account XXXX XXXX XXXX Account XXXX US Bankrupt Court Account XXXX Account XXXX XXXX XXXX XXXX Account XXXX\n",
      "\n",
      "* AFTER: please advised third written request final warning fully intend pursue litigation accordance fcra enforce rights seek relief recover monetary damages may entitled section section regarding continued willful negligent noncompliance despite two written requests unverified items listed still remain credit report violation federal law required fcra copy original creditors documentation file verify information mine correct results first investigation subsequent reinvestigation stated writing verified items reported correctly verified accounts provided copy original documentation consumer contract signature required section section furthermore failed provide method verification required section please advised section fcra required promptly delete information verified law clear civil liability remedy available section fail comply federal law litigious consumer fully intend pursuing litigation matter enforce rights fcra demand following accounts verified removed immediately dept ed account account account account account account us bankrupt court account account account\n",
      "\n",
      "--------------------------------------------------\n",
      "* BEFORE: For over 10 years, Transunion has had my credit account listed to another individual who has a terrible credit record. So because they think I'm she, I'm the one that gets harassed and threatened by the collection agencies that are trying to collect on her bad debt. I even moved to try to escape it and it has followed me here. I have spoken to Transunion multiple times over the past and sent letters ( my bad, they were not certified ). All correspondence I get from them continues to be under her name. I have no debt. I owe no one, yet this woman and Transunion who is totally complicit in this, are ruining my credit. It is truly an astounding story of mis-identification which is too long to go into here. I just want my name back and separated from hers. I have frozen my credit with XXXX and XXXX  but can not do so with Transunion as her name is on my credit record. The mental anguish this has caused is unbelievable. Please help me if you can.\n",
      "\n",
      "* AFTER: years transunion credit account listed another individual terrible credit record think im im one gets harassed threatened collection agencies trying collect bad debt even moved try escape followed spoken transunion multiple times past sent letters bad certified correspondence get continues name debt owe one yet woman transunion totally complicit ruining credit truly astounding story misidentification long go want name back separated frozen credit transunion name credit record mental anguish caused unbelievable please help\n",
      "\n"
     ]
    }
   ],
   "source": [
    "def print_example(index):\n",
    "    print(\"-\"*50)\n",
    "    print(\"* BEFORE: {}\".format(df.Consumer_complaint_narrative[index]))\n",
    "    print(\"\\n* AFTER: {}\\n\".format( ' '.join(w for w in text[index]) ))\n",
    "\n",
    "print_example(0)\n",
    "print_example(10)\n",
    "print_example(50)"
   ]
  },
  {
   "cell_type": "markdown",
   "metadata": {},
   "source": [
    "Creating train and test sets, with balanced frequency of classes."
   ]
  },
  {
   "cell_type": "code",
   "execution_count": 5,
   "metadata": {},
   "outputs": [],
   "source": [
    "from sklearn.model_selection import StratifiedShuffleSplit\n",
    "\n",
    "sss = StratifiedShuffleSplit(n_splits=1, \n",
    "                             test_size=0.3, \n",
    "                             random_state=0)\n",
    "for train_index, test_index in sss.split(text, df['category_id']):\n",
    "    train_set = text.loc[train_index]\n",
    "    train_labels = df['category_id'].loc[train_index]\n",
    "    test_set = text.loc[test_index]\n",
    "    test_labels = df['category_id'].loc[test_index]"
   ]
  },
  {
   "cell_type": "markdown",
   "metadata": {},
   "source": [
    "Creating word embeddings.\n",
    "\n",
    "FastText parameters:\n",
    "- `size=n` - Dimensionality of the word vectors.\n",
    "- `window=n` - The maximum distance between the current and predicted word within a sentence.\n",
    "- `min_count=n` - The model ignores all words with total frequency lower than this."
   ]
  },
  {
   "cell_type": "code",
   "execution_count": 6,
   "metadata": {},
   "outputs": [
    {
     "name": "stdout",
     "output_type": "stream",
     "text": [
      "CPU times: user 1min 51s, sys: 13.6 s, total: 2min 4s\n",
      "Wall time: 2min 3s\n"
     ]
    }
   ],
   "source": [
    "%%time\n",
    "import gensim\n",
    "\n",
    "word_model = gensim.models.FastText(size=300, window=5, min_count=2)\n",
    "word_model.build_vocab(sentences=train_set)\n",
    "word_model.train(sentences=train_set, total_examples=len(train_set), epochs=10)"
   ]
  },
  {
   "cell_type": "code",
   "execution_count": 7,
   "metadata": {},
   "outputs": [
    {
     "data": {
      "text/plain": [
       "[('eligibility', 0.9690967798233032),\n",
       " ('inability', 0.922464907169342),\n",
       " ('utility', 0.9135854840278625),\n",
       " ('preliminary', 0.913479208946228),\n",
       " ('ability', 0.911803662776947),\n",
       " ('hostility', 0.911770224571228),\n",
       " ('equity', 0.9095401763916016),\n",
       " ('liability', 0.8996611833572388),\n",
       " ('duty', 0.8926994800567627),\n",
       " ('pretty', 0.8918366432189941)]"
      ]
     },
     "execution_count": 7,
     "metadata": {},
     "output_type": "execute_result"
    }
   ],
   "source": [
    "word_model.wv.most_similar(positive='quality')"
   ]
  },
  {
   "cell_type": "markdown",
   "metadata": {},
   "source": [
    "Each document must be converted to a vector. So, we'll use the mean vector of its words."
   ]
  },
  {
   "cell_type": "code",
   "execution_count": 8,
   "metadata": {},
   "outputs": [],
   "source": [
    "import numpy as np\n",
    "\n",
    "def word_averaging(model, words):\n",
    "    all_words, mean = set(), []\n",
    "    \n",
    "    for word in words:\n",
    "        if isinstance(word, np.ndarray):\n",
    "            mean.append(word)\n",
    "        elif word in model.wv.vocab:\n",
    "            mean.append(model.wv.vectors_norm[model.wv.vocab[word].index])\n",
    "            all_words.add(model.wv.vocab[word].index)\n",
    "\n",
    "    if not mean:\n",
    "        logging.warning(\"cannot compute similarity with no input %s\", words)\n",
    "        # FIXME: remove these examples in pre-processing\n",
    "        return np.zeros(model.layer1_size,)\n",
    "\n",
    "    mean = gensim.matutils.unitvec(np.array(mean).mean(axis=0)).astype(np.float32)\n",
    "    return mean\n",
    "\n",
    "def  word_averaging_list(model, text_list):\n",
    "    return np.vstack([word_averaging(model, review) for review in text_list ])"
   ]
  },
  {
   "cell_type": "code",
   "execution_count": 9,
   "metadata": {},
   "outputs": [
    {
     "name": "stdout",
     "output_type": "stream",
     "text": [
      "CPU times: user 1.19 s, sys: 84.8 ms, total: 1.28 s\n",
      "Wall time: 1.95 s\n"
     ]
    }
   ],
   "source": [
    "%%time\n",
    "X_train_word_average = word_averaging_list(word_model, train_set)\n",
    "X_test_word_average = word_averaging_list(word_model, test_set)"
   ]
  },
  {
   "cell_type": "markdown",
   "metadata": {},
   "source": [
    "Let's train and evaluate some classifiers."
   ]
  },
  {
   "cell_type": "code",
   "execution_count": 10,
   "metadata": {},
   "outputs": [
    {
     "name": "stdout",
     "output_type": "stream",
     "text": [
      "CPU times: user 1min 49s, sys: 1.02 s, total: 1min 50s\n",
      "Wall time: 1min 1s\n"
     ]
    }
   ],
   "source": [
    "%%time\n",
    "from sklearn.linear_model import LogisticRegression\n",
    "from sklearn.ensemble import RandomForestClassifier\n",
    "from sklearn.model_selection import cross_val_score\n",
    "from sklearn import svm\n",
    "from sklearn.neural_network import MLPClassifier\n",
    "\n",
    "models = [\n",
    "    RandomForestClassifier(n_estimators=200, max_depth=3, random_state=0),\n",
    "    LogisticRegression(solver='lbfgs', max_iter=200, multi_class='auto', random_state=0),\n",
    "    svm.LinearSVC(random_state=0),\n",
    "    MLPClassifier(max_iter=1000, random_state=0)\n",
    "]\n",
    "CV = 5\n",
    "cv_df = pd.DataFrame(index=range(CV * len(models)))\n",
    "entries = []\n",
    "for model in models:\n",
    "  model_name = model.__class__.__name__\n",
    "  accuracies = cross_val_score(model, X_train_word_average, train_labels, scoring='accuracy', cv=CV)\n",
    "  for fold_idx, accuracy in enumerate(accuracies):\n",
    "    entries.append((model_name, fold_idx, accuracy))\n",
    "cv_df = pd.DataFrame(entries, columns=['model_name', 'fold_idx', 'accuracy'])"
   ]
  },
  {
   "cell_type": "code",
   "execution_count": 11,
   "metadata": {},
   "outputs": [
    {
     "data": {
      "image/png": "[encoded data removed]",
      "text/plain": [
       "<Figure size 432x288 with 1 Axes>"
      ]
     },
     "metadata": {
      "needs_background": "light"
     },
     "output_type": "display_data"
    }
   ],
   "source": [
    "%matplotlib inline\n",
    "import seaborn as sns\n",
    "import matplotlib.pyplot as plt\n",
    "\n",
    "sns.boxplot(x='model_name', y='accuracy', data=cv_df)\n",
    "sns.stripplot(x='model_name', y='accuracy', data=cv_df, size=8, jitter=True, edgecolor=\"gray\", linewidth=2)\n",
    "plt.show()"
   ]
  },
  {
   "cell_type": "code",
   "execution_count": 12,
   "metadata": {},
   "outputs": [
    {
     "data": {
      "text/plain": [
       "model_name\n",
       "LinearSVC                 0.799285\n",
       "LogisticRegression        0.772257\n",
       "MLPClassifier             0.827928\n",
       "RandomForestClassifier    0.738114\n",
       "Name: accuracy, dtype: float64"
      ]
     },
     "execution_count": 12,
     "metadata": {},
     "output_type": "execute_result"
    }
   ],
   "source": [
    "cv_df.groupby('model_name').accuracy.mean()"
   ]
  },
  {
   "cell_type": "markdown",
   "metadata": {},
   "source": [
    "Best model evaluation"
   ]
  },
  {
   "cell_type": "code",
   "execution_count": 14,
   "metadata": {},
   "outputs": [],
   "source": [
    "from sklearn.metrics import accuracy_score, confusion_matrix\n",
    "\n",
    "my_tags = df.category_id.unique()\n",
    "def plot_confusion_matrix(cm, title='Confusion matrix', cmap=plt.cm.Blues):\n",
    "    plt.imshow(cm, interpolation='nearest', cmap=cmap)\n",
    "    plt.title(title)\n",
    "    plt.colorbar()\n",
    "    tick_marks = np.arange(len(my_tags))\n",
    "    target_names = my_tags\n",
    "    plt.xticks(tick_marks, target_names, rotation=45)\n",
    "    plt.yticks(tick_marks, target_names)\n",
    "    plt.tight_layout()\n",
    "    plt.ylabel('True label')\n",
    "    plt.xlabel('Predicted label')\n",
    "\n",
    "def evaluate_prediction(predictions, target, title=\"Confusion matrix\"):\n",
    "    print('accuracy %s' % accuracy_score(target, predictions))\n",
    "    cm = confusion_matrix(target, predictions, labels=my_tags)\n",
    "    print('confusion matrix\\n %s' % cm)\n",
    "    print('(row=expected, col=predicted)')\n",
    "    \n",
    "    cm_normalized = cm.astype('float') / cm.sum(axis=1)[:, np.newaxis]\n",
    "    plot_confusion_matrix(cm_normalized, title + ' Normalized')"
   ]
  },
  {
   "cell_type": "code",
   "execution_count": 16,
   "metadata": {},
   "outputs": [
    {
     "name": "stdout",
     "output_type": "stream",
     "text": [
      "accuracy 0.8035217794253939\n",
      "confusion matrix\n",
      " [[165  26  10  12   3]\n",
      " [ 26 165  14   7   4]\n",
      " [ 13  11 161   2  28]\n",
      " [  5   4   7 194   6]\n",
      " [  2   2  25   5 182]]\n",
      "(row=expected, col=predicted)\n",
      "CPU times: user 32.6 s, sys: 283 ms, total: 32.9 s\n",
      "Wall time: 16.4 s\n"
     ]
    },
    {
     "data": {
      "image/png": "[encoded data removed]",
      "text/plain": [
       "<Figure size 432x288 with 2 Axes>"
      ]
     },
     "metadata": {
      "needs_background": "light"
     },
     "output_type": "display_data"
    }
   ],
   "source": [
    "%%time\n",
    "model = models[3]\n",
    "model.fit(X_train_word_average, train_labels)\n",
    "predicted = model.predict(X_test_word_average)\n",
    "evaluate_prediction(predicted, test_labels)"
   ]
  },
  {
   "cell_type": "code",
   "execution_count": null,
   "metadata": {},
   "outputs": [],
   "source": []
  }
 ],
 "metadata": {
  "kernelspec": {
   "display_name": "Python 3",
   "language": "python",
   "name": "python3"
  },
  "language_info": {
   "codemirror_mode": {
    "name": "ipython",
    "version": 3
   },
   "file_extension": ".py",
   "mimetype": "text/x-python",
   "name": "python",
   "nbconvert_exporter": "python",
   "pygments_lexer": "ipython3",
   "version": "3.7.4"
  }
 },
 "nbformat": 4,
 "nbformat_minor": 2
}
