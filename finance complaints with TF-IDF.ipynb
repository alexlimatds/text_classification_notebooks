{
 "cells": [
  {
   "cell_type": "markdown",
   "metadata": {},
   "source": [
    "Text classification example.\n",
    "\n",
    "References:\n",
    "- https://towardsdatascience.com/multi-class-text-classification-with-scikit-learn-12f1e60e0a9f\n",
    "\n",
    "The dataset was preprocessed in **finance complaints dataset analysis** notebook."
   ]
  },
  {
   "cell_type": "code",
   "execution_count": 12,
   "metadata": {},
   "outputs": [
    {
     "data": {
      "text/html": [
       "<div>\n",
       "<style scoped>\n",
       "    .dataframe tbody tr th:only-of-type {\n",
       "        vertical-align: middle;\n",
       "    }\n",
       "\n",
       "    .dataframe tbody tr th {\n",
       "        vertical-align: top;\n",
       "    }\n",
       "\n",
       "    .dataframe thead th {\n",
       "        text-align: right;\n",
       "    }\n",
       "</style>\n",
       "<table border=\"1\" class=\"dataframe\">\n",
       "  <thead>\n",
       "    <tr style=\"text-align: right;\">\n",
       "      <th></th>\n",
       "      <th>Unnamed: 0</th>\n",
       "      <th>Product</th>\n",
       "      <th>Consumer_complaint_narrative</th>\n",
       "      <th>category_id</th>\n",
       "    </tr>\n",
       "  </thead>\n",
       "  <tbody>\n",
       "    <tr>\n",
       "      <td>0</td>\n",
       "      <td>0</td>\n",
       "      <td>Credit reporting, credit repair services, or o...</td>\n",
       "      <td>These aren't mine ... please remove it.</td>\n",
       "      <td>0</td>\n",
       "    </tr>\n",
       "    <tr>\n",
       "      <td>1</td>\n",
       "      <td>1</td>\n",
       "      <td>Credit reporting, credit repair services, or o...</td>\n",
       "      <td>XXXX and Transunion are incorrectly reporting ...</td>\n",
       "      <td>0</td>\n",
       "    </tr>\n",
       "    <tr>\n",
       "      <td>2</td>\n",
       "      <td>2</td>\n",
       "      <td>Credit reporting, credit repair services, or o...</td>\n",
       "      <td>I have been disputing a derogatory mark on my ...</td>\n",
       "      <td>0</td>\n",
       "    </tr>\n",
       "    <tr>\n",
       "      <td>3</td>\n",
       "      <td>3</td>\n",
       "      <td>Credit reporting, credit repair services, or o...</td>\n",
       "      <td>I have sent 3 letters to all 3 credit bureau '...</td>\n",
       "      <td>0</td>\n",
       "    </tr>\n",
       "    <tr>\n",
       "      <td>4</td>\n",
       "      <td>4</td>\n",
       "      <td>Credit reporting, credit repair services, or o...</td>\n",
       "      <td>ive been working back and forth calling emaili...</td>\n",
       "      <td>0</td>\n",
       "    </tr>\n",
       "  </tbody>\n",
       "</table>\n",
       "</div>"
      ],
      "text/plain": [
       "   Unnamed: 0                                            Product  \\\n",
       "0           0  Credit reporting, credit repair services, or o...   \n",
       "1           1  Credit reporting, credit repair services, or o...   \n",
       "2           2  Credit reporting, credit repair services, or o...   \n",
       "3           3  Credit reporting, credit repair services, or o...   \n",
       "4           4  Credit reporting, credit repair services, or o...   \n",
       "\n",
       "                        Consumer_complaint_narrative  category_id  \n",
       "0            These aren't mine ... please remove it.            0  \n",
       "1  XXXX and Transunion are incorrectly reporting ...            0  \n",
       "2  I have been disputing a derogatory mark on my ...            0  \n",
       "3  I have sent 3 letters to all 3 credit bureau '...            0  \n",
       "4  ive been working back and forth calling emaili...            0  "
      ]
     },
     "execution_count": 12,
     "metadata": {},
     "output_type": "execute_result"
    }
   ],
   "source": [
    "import pandas as pd\n",
    "df = pd.read_csv('complaints-balanced.csv')\n",
    "df.head()"
   ]
  },
  {
   "cell_type": "code",
   "execution_count": 13,
   "metadata": {},
   "outputs": [
    {
     "name": "stdout",
     "output_type": "stream",
     "text": [
      "Unnamed: 0                      0\n",
      "Product                         0\n",
      "Consumer_complaint_narrative    0\n",
      "category_id                     0\n",
      "dtype: int64\n"
     ]
    }
   ],
   "source": [
    "print(df.isnull().sum())"
   ]
  },
  {
   "cell_type": "markdown",
   "metadata": {},
   "source": [
    "Text preprocessing and generation of text vector representations based on TF-IDF.\n",
    "- `sublinear_tf` is set to `True` to use a logarithmic form for frequency.\n",
    "- `min_df` is the minimum numbers of documents a word must be present in to be kept.\n",
    "- `norm is set` to `l2`, to ensure all our feature vectors have a euclidian norm of 1.\n",
    "- `ngram_range` is set to `(1, 2)` to indicate that we want to consider both unigrams and bigrams.\n",
    "- `stop_words` is set to `\"english\"` to remove all common pronouns (`\"a\"`, `\"the\"`, ...) to reduce the number of noisy features."
   ]
  },
  {
   "cell_type": "code",
   "execution_count": 14,
   "metadata": {},
   "outputs": [
    {
     "name": "stdout",
     "output_type": "stream",
     "text": [
      "CPU times: user 1.4 s, sys: 19 µs, total: 1.4 s\n",
      "Wall time: 1.4 s\n"
     ]
    }
   ],
   "source": [
    "%%time\n",
    "import re\n",
    "from nltk.tokenize import RegexpTokenizer\n",
    "from nltk.corpus import stopwords\n",
    "\n",
    "text = df.Consumer_complaint_narrative\n",
    "# removing numbers\n",
    "text = text.apply(lambda x: re.sub(r'\\d+', '', x))\n",
    "\n",
    "# removing XXX words\n",
    "text = text.apply(lambda x: re.sub(r'X*', '', x))"
   ]
  },
  {
   "cell_type": "code",
   "execution_count": 15,
   "metadata": {},
   "outputs": [
    {
     "name": "stdout",
     "output_type": "stream",
     "text": [
      "CPU times: user 1.97 s, sys: 264 ms, total: 2.23 s\n",
      "Wall time: 2.03 s\n"
     ]
    },
    {
     "data": {
      "text/plain": [
       "(3595, 10850)"
      ]
     },
     "execution_count": 15,
     "metadata": {},
     "output_type": "execute_result"
    }
   ],
   "source": [
    "%%time\n",
    "from sklearn.feature_extraction.text import TfidfVectorizer\n",
    "\n",
    "tfidf = TfidfVectorizer(encoding='latin-1', \n",
    "                        min_df=5, norm='l2', \n",
    "                        stop_words='english', \n",
    "                        ngram_range=(1, 2), \n",
    "                        sublinear_tf=True)\n",
    "features = tfidf.fit_transform(text).toarray()\n",
    "labels = df.category_id\n",
    "features.shape"
   ]
  },
  {
   "cell_type": "markdown",
   "metadata": {},
   "source": [
    "### Model selection"
   ]
  },
  {
   "cell_type": "code",
   "execution_count": 16,
   "metadata": {},
   "outputs": [
    {
     "name": "stdout",
     "output_type": "stream",
     "text": [
      "CPU times: user 1min 2s, sys: 744 ms, total: 1min 3s\n",
      "Wall time: 37.5 s\n"
     ]
    }
   ],
   "source": [
    "%%time\n",
    "from sklearn.model_selection import train_test_split\n",
    "from sklearn.naive_bayes import MultinomialNB\n",
    "from sklearn.linear_model import LogisticRegression\n",
    "from sklearn.ensemble import RandomForestClassifier\n",
    "from sklearn.svm import LinearSVC\n",
    "from sklearn.model_selection import cross_val_score\n",
    "\n",
    "models = [\n",
    "    RandomForestClassifier(n_estimators=200, \n",
    "                           max_depth=3, \n",
    "                           random_state=0),\n",
    "    LinearSVC(),\n",
    "    MultinomialNB(),\n",
    "    LogisticRegression(solver='lbfgs', \n",
    "                       multi_class='auto', \n",
    "                       random_state=0),\n",
    "]\n",
    "CV = 5\n",
    "entries = []\n",
    "for model in models:\n",
    "  model_name = model.__class__.__name__\n",
    "  accuracies = cross_val_score(model, \n",
    "                               features, \n",
    "                               labels, \n",
    "                               scoring='accuracy', \n",
    "                               cv=CV)\n",
    "  for fold_idx, accuracy in enumerate(accuracies):\n",
    "    entries.append((model_name, \n",
    "                    fold_idx, \n",
    "                    accuracy))\n",
    "cv_df = pd.DataFrame(entries, \n",
    "                     columns=['model_name', 'fold_idx', 'accuracy'])"
   ]
  },
  {
   "cell_type": "code",
   "execution_count": 17,
   "metadata": {},
   "outputs": [
    {
     "data": {
      "image/png": "[encoded data removed]",
      "text/plain": [
       "<Figure size 432x288 with 1 Axes>"
      ]
     },
     "metadata": {
      "needs_background": "light"
     },
     "output_type": "display_data"
    },
    {
     "data": {
      "text/plain": [
       "model_name\n",
       "LinearSVC                 0.878444\n",
       "LogisticRegression        0.871230\n",
       "MultinomialNB             0.855929\n",
       "RandomForestClassifier    0.799747\n",
       "Name: accuracy, dtype: float64"
      ]
     },
     "execution_count": 17,
     "metadata": {},
     "output_type": "execute_result"
    }
   ],
   "source": [
    "%matplotlib inline\n",
    "import matplotlib.pyplot as plt\n",
    "import seaborn as sns\n",
    "\n",
    "sns.boxplot(x='model_name', \n",
    "            y='accuracy', \n",
    "            data=cv_df)\n",
    "sns.stripplot(x='model_name', \n",
    "              y='accuracy', \n",
    "              data=cv_df, \n",
    "              size=8, \n",
    "              jitter=True, \n",
    "              edgecolor=\"gray\", \n",
    "              linewidth=2)\n",
    "plt.show()\n",
    "cv_df.groupby('model_name').accuracy.mean()"
   ]
  },
  {
   "cell_type": "markdown",
   "metadata": {},
   "source": [
    "Best model evaluation"
   ]
  },
  {
   "cell_type": "code",
   "execution_count": 18,
   "metadata": {},
   "outputs": [],
   "source": [
    "from sklearn.metrics import accuracy_score, confusion_matrix\n",
    "import numpy as np\n",
    "\n",
    "my_tags = df.category_id.unique()\n",
    "def plot_confusion_matrix(cm, title='Confusion matrix', cmap=plt.cm.Blues):\n",
    "    plt.imshow(cm, interpolation='nearest', cmap=cmap)\n",
    "    plt.title(title)\n",
    "    plt.colorbar()\n",
    "    tick_marks = np.arange(len(my_tags))\n",
    "    target_names = my_tags\n",
    "    plt.xticks(tick_marks, target_names, rotation=45)\n",
    "    plt.yticks(tick_marks, target_names)\n",
    "    plt.tight_layout()\n",
    "    plt.ylabel('True label')\n",
    "    plt.xlabel('Predicted label')\n",
    "\n",
    "def evaluate_prediction(predictions, target, title=\"Confusion matrix\"):\n",
    "    print('accuracy %s' % accuracy_score(target, predictions))\n",
    "    cm = confusion_matrix(target, predictions, labels=my_tags)\n",
    "    print('confusion matrix\\n %s' % cm)\n",
    "    print('(row=expected, col=predicted)')\n",
    "    \n",
    "    cm_normalized = cm.astype('float') / cm.sum(axis=1)[:, np.newaxis]\n",
    "    plot_confusion_matrix(cm_normalized, title + ' Normalized')\n",
    "    \n",
    "    return cm"
   ]
  },
  {
   "cell_type": "code",
   "execution_count": 19,
   "metadata": {},
   "outputs": [
    {
     "name": "stdout",
     "output_type": "stream",
     "text": [
      "accuracy 0.8812131423757371\n",
      "confusion matrix\n",
      " [[220  15   9  10   1]\n",
      " [ 16 212   6   5   3]\n",
      " [ 11   9 178   2  24]\n",
      " [  2   0   3 209   5]\n",
      " [  1   0  14   5 227]]\n",
      "(row=expected, col=predicted)\n",
      "              precision    recall  f1-score   support\n",
      "\n",
      "           0       0.88      0.86      0.87       255\n",
      "           1       0.90      0.88      0.89       242\n",
      "           2       0.85      0.79      0.82       224\n",
      "           3       0.90      0.95      0.93       219\n",
      "           4       0.87      0.92      0.90       247\n",
      "\n",
      "    accuracy                           0.88      1187\n",
      "   macro avg       0.88      0.88      0.88      1187\n",
      "weighted avg       0.88      0.88      0.88      1187\n",
      "\n",
      "CPU times: user 544 ms, sys: 44.1 ms, total: 588 ms\n",
      "Wall time: 422 ms\n"
     ]
    },
    {
     "data": {
      "image/png": "[encoded data removed]",
      "text/plain": [
       "<Figure size 432x288 with 2 Axes>"
      ]
     },
     "metadata": {
      "needs_background": "light"
     },
     "output_type": "display_data"
    }
   ],
   "source": [
    "%%time\n",
    "from sklearn import metrics\n",
    "\n",
    "model = LinearSVC()\n",
    "X_train, X_test, y_train, y_test, indices_train, indices_test = train_test_split(features, \n",
    "                                                                                 labels, \n",
    "                                                                                 df.index, \n",
    "                                                                                 test_size=0.33, \n",
    "                                                                                 random_state=0)\n",
    "model.fit(X_train, \n",
    "          y_train)\n",
    "y_pred = model.predict(X_test)\n",
    "cm = evaluate_prediction(y_pred, \n",
    "                         y_test)\n",
    "print(metrics.classification_report(y_test, y_pred))"
   ]
  },
  {
   "cell_type": "code",
   "execution_count": null,
   "metadata": {},
   "outputs": [],
   "source": []
  }
 ],
 "metadata": {
  "kernelspec": {
   "display_name": "Python 3",
   "language": "python",
   "name": "python3"
  },
  "language_info": {
   "codemirror_mode": {
    "name": "ipython",
    "version": 3
   },
   "file_extension": ".py",
   "mimetype": "text/x-python",
   "name": "python",
   "nbconvert_exporter": "python",
   "pygments_lexer": "ipython3",
   "version": "3.7.4"
  }
 },
 "nbformat": 4,
 "nbformat_minor": 2
}
