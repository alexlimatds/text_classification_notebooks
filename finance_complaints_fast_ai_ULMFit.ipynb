{
  "nbformat": 4,
  "nbformat_minor": 0,
  "metadata": {
    "kernelspec": {
      "display_name": "Python 3",
      "language": "python",
      "name": "python3"
    },
    "colab": {
      "name": "finance complaints fast.ai ULMFit.ipynb",
      "provenance": [],
      "collapsed_sections": [],
      "include_colab_link": true
    },
    "accelerator": "GPU"
  },
  "cells": [
    {
      "cell_type": "markdown",
      "metadata": {
        "id": "view-in-github",
        "colab_type": "text"
      },
      "source": [
        "<a href=\"https://colab.research.google.com/github/alexlimatds/text_classification_notebooks/blob/master/finance_complaints_fast_ai_ULMFit.ipynb\" target=\"_parent\"><img src=\"https://colab.research.google.com/assets/colab-badge.svg\" alt=\"Open In Colab\"/></a>"
      ]
    },
    {
      "cell_type": "markdown",
      "metadata": {
        "id": "RQwYleA69aBv",
        "colab_type": "text"
      },
      "source": [
        "# Finance complaints classification with ULMFit and Fast.ai.\n",
        "Reference pages:\n",
        "- https://github.com/fastai/course-v3/blob/master/nbs/dl1/lesson3-imdb.ipynb\n",
        "\n",
        "The dataset was preprocessed in **finance complaints dataset analysis** notebook."
      ]
    },
    {
      "cell_type": "code",
      "metadata": {
        "id": "D6LthPMH9rsC",
        "colab_type": "code",
        "outputId": "43467218-ee1e-4bd5-873c-6a2dfb98269c",
        "colab": {
          "base_uri": "https://localhost:8080/",
          "height": 52
        }
      },
      "source": [
        "!curl -s https://course.fast.ai/setup/colab | bash"
      ],
      "execution_count": 0,
      "outputs": [
        {
          "output_type": "stream",
          "text": [
            "Updating fastai...\n",
            "Done.\n"
          ],
          "name": "stdout"
        }
      ]
    },
    {
      "cell_type": "code",
      "metadata": {
        "id": "wVorUrG_-U3b",
        "colab_type": "code",
        "outputId": "8edd9c3d-0690-4da2-812d-918254f463e8",
        "colab": {
          "base_uri": "https://localhost:8080/",
          "height": 124
        }
      },
      "source": [
        "from google.colab import drive\n",
        "drive.mount('/content/gdrive', force_remount=True)\n",
        "root_dir = \"/content/gdrive/My Drive/\"\n",
        "base_dir = root_dir + 'Doutorado/finance complaints experiment'"
      ],
      "execution_count": 0,
      "outputs": [
        {
          "output_type": "stream",
          "text": [
            "Go to this URL in a browser: https://accounts.google.com/o/oauth2/auth?client_id=947318989803-6bn6qk8qdgf4n4g3pfee6491hc0brc4i.apps.googleusercontent.com&redirect_uri=urn%3aietf%3awg%3aoauth%3a2.0%3aoob&response_type=code&scope=email%20https%3a%2f%2fwww.googleapis.com%2fauth%2fdocs.test%20https%3a%2f%2fwww.googleapis.com%2fauth%2fdrive%20https%3a%2f%2fwww.googleapis.com%2fauth%2fdrive.photos.readonly%20https%3a%2f%2fwww.googleapis.com%2fauth%2fpeopleapi.readonly\n",
            "\n",
            "Enter your authorization code:\n",
            "··········\n",
            "Mounted at /content/gdrive\n"
          ],
          "name": "stdout"
        }
      ]
    },
    {
      "cell_type": "code",
      "metadata": {
        "id": "iGwyly1C9aBy",
        "colab_type": "code",
        "colab": {}
      },
      "source": [
        "%matplotlib inline"
      ],
      "execution_count": 0,
      "outputs": []
    },
    {
      "cell_type": "code",
      "metadata": {
        "id": "KbIl27F89aCG",
        "colab_type": "code",
        "colab": {}
      },
      "source": [
        "from fastai.text import *"
      ],
      "execution_count": 0,
      "outputs": []
    },
    {
      "cell_type": "markdown",
      "metadata": {
        "id": "CgFdBv5L9aCZ",
        "colab_type": "text"
      },
      "source": [
        "## Preparing the data"
      ]
    },
    {
      "cell_type": "code",
      "metadata": {
        "id": "OqsdVti79aCf",
        "colab_type": "code",
        "outputId": "6d4182ca-a3d6-4877-f3f5-adc31676c171",
        "colab": {
          "base_uri": "https://localhost:8080/",
          "height": 52
        }
      },
      "source": [
        "path = Path(base_dir)\n",
        "path.ls()"
      ],
      "execution_count": 0,
      "outputs": [
        {
          "output_type": "execute_result",
          "data": {
            "text/plain": [
              "[PosixPath('/content/gdrive/My Drive/Doutorado/finance complaints experiment/complaints-balanced.csv'),\n",
              " PosixPath('/content/gdrive/My Drive/Doutorado/finance complaints experiment/classification results.gsheet')]"
            ]
          },
          "metadata": {
            "tags": []
          },
          "execution_count": 5
        }
      ]
    },
    {
      "cell_type": "code",
      "metadata": {
        "id": "OqchldlD9aCv",
        "colab_type": "code",
        "outputId": "e2c86ec0-1bb6-4636-888c-8f9878cda0d6",
        "colab": {
          "base_uri": "https://localhost:8080/",
          "height": 206
        }
      },
      "source": [
        "df = pd.read_csv(path/'complaints-balanced.csv')\n",
        "df.head()"
      ],
      "execution_count": 0,
      "outputs": [
        {
          "output_type": "execute_result",
          "data": {
            "text/html": [
              "<div>\n",
              "<style scoped>\n",
              "    .dataframe tbody tr th:only-of-type {\n",
              "        vertical-align: middle;\n",
              "    }\n",
              "\n",
              "    .dataframe tbody tr th {\n",
              "        vertical-align: top;\n",
              "    }\n",
              "\n",
              "    .dataframe thead th {\n",
              "        text-align: right;\n",
              "    }\n",
              "</style>\n",
              "<table border=\"1\" class=\"dataframe\">\n",
              "  <thead>\n",
              "    <tr style=\"text-align: right;\">\n",
              "      <th></th>\n",
              "      <th>Unnamed: 0</th>\n",
              "      <th>Product</th>\n",
              "      <th>Consumer_complaint_narrative</th>\n",
              "      <th>category_id</th>\n",
              "    </tr>\n",
              "  </thead>\n",
              "  <tbody>\n",
              "    <tr>\n",
              "      <th>0</th>\n",
              "      <td>0</td>\n",
              "      <td>Credit reporting, credit repair services, or o...</td>\n",
              "      <td>My XXXX XXXX Account Was Paid Off But They Hav...</td>\n",
              "      <td>0</td>\n",
              "    </tr>\n",
              "    <tr>\n",
              "      <th>1</th>\n",
              "      <td>1</td>\n",
              "      <td>Credit reporting, credit repair services, or o...</td>\n",
              "      <td>I had a citibank checking account which I clos...</td>\n",
              "      <td>0</td>\n",
              "    </tr>\n",
              "    <tr>\n",
              "      <th>2</th>\n",
              "      <td>2</td>\n",
              "      <td>Credit reporting, credit repair services, or o...</td>\n",
              "      <td>I would like to request the suppression of the...</td>\n",
              "      <td>0</td>\n",
              "    </tr>\n",
              "    <tr>\n",
              "      <th>3</th>\n",
              "      <td>3</td>\n",
              "      <td>Credit reporting, credit repair services, or o...</td>\n",
              "      <td>Account from XXXX with a balance is reporting ...</td>\n",
              "      <td>0</td>\n",
              "    </tr>\n",
              "    <tr>\n",
              "      <th>4</th>\n",
              "      <td>4</td>\n",
              "      <td>Credit reporting, credit repair services, or o...</td>\n",
              "      <td>The credit bureaus are reporting inaccurate/ou...</td>\n",
              "      <td>0</td>\n",
              "    </tr>\n",
              "  </tbody>\n",
              "</table>\n",
              "</div>"
            ],
            "text/plain": [
              "   Unnamed: 0  ... category_id\n",
              "0           0  ...           0\n",
              "1           1  ...           0\n",
              "2           2  ...           0\n",
              "3           3  ...           0\n",
              "4           4  ...           0\n",
              "\n",
              "[5 rows x 4 columns]"
            ]
          },
          "metadata": {
            "tags": []
          },
          "execution_count": 6
        }
      ]
    },
    {
      "cell_type": "code",
      "metadata": {
        "id": "nYal1lrPF3qx",
        "colab_type": "code",
        "colab": {}
      },
      "source": [
        "from sklearn.model_selection import StratifiedShuffleSplit\n",
        "\n",
        "text = df.Consumer_complaint_narrative\n",
        "label = df.Product\n",
        "sss = StratifiedShuffleSplit(n_splits=1, \n",
        "                             test_size=0.3, \n",
        "                             random_state=0)\n",
        "for train_index, test_index in sss.split(text, label):\n",
        "  train = df.loc[train_index]\n",
        "  validation = df.loc[test_index]"
      ],
      "execution_count": 0,
      "outputs": []
    },
    {
      "cell_type": "markdown",
      "metadata": {
        "id": "aEJj0pZhGgBE",
        "colab_type": "text"
      },
      "source": [
        "**Language Model**"
      ]
    },
    {
      "cell_type": "code",
      "metadata": {
        "id": "zi8-mEQ-D3nP",
        "colab_type": "code",
        "outputId": "fec8207a-ce60-4c5c-fcef-37d2575c2dda",
        "colab": {
          "base_uri": "https://localhost:8080/",
          "height": 273
        }
      },
      "source": [
        "doc(TextLMDataBunch.from_df)"
      ],
      "execution_count": 0,
      "outputs": [
        {
          "output_type": "display_data",
          "data": {
            "text/html": [
              "<h4 id=\"TextDataBunch.from_df\" class=\"doc_header\"><code>from_df</code><a href=\"https://github.com/fastai/fastai/blob/master/fastai/text/data.py#L190\" class=\"source_link\" style=\"float:right\">[source]</a><a class=\"source_link\" data-toggle=\"collapse\" data-target=\"#TextDataBunch-from_df-pytest\" style=\"float:right; padding-right:10px\">[test]</a></h4><blockquote><p><code>from_df</code>(<strong><code>path</code></strong>:<code>PathOrStr</code>, <strong><code>train_df</code></strong>:<code>DataFrame</code>, <strong><code>valid_df</code></strong>:<code>DataFrame</code>, <strong><code>test_df</code></strong>:<code>OptDataFrame</code>=<strong><em><code>None</code></em></strong>, <strong><code>tokenizer</code></strong>:<a href=\"https://docs.fast.ai/text.transform.html#Tokenizer\"><code>Tokenizer</code></a>=<strong><em><code>None</code></em></strong>, <strong><code>vocab</code></strong>:<a href=\"https://docs.fast.ai/text.transform.html#Vocab\"><code>Vocab</code></a>=<strong><em><code>None</code></em></strong>, <strong><code>classes</code></strong>:<code>StrList</code>=<strong><em><code>None</code></em></strong>, <strong><code>text_cols</code></strong>:<code>IntsOrStrs</code>=<strong><em><code>1</code></em></strong>, <strong><code>label_cols</code></strong>:<code>IntsOrStrs</code>=<strong><em><code>0</code></em></strong>, <strong><code>label_delim</code></strong>:<code>str</code>=<strong><em><code>None</code></em></strong>, <strong><code>chunksize</code></strong>:<code>int</code>=<strong><em><code>10000</code></em></strong>, <strong><code>max_vocab</code></strong>:<code>int</code>=<strong><em><code>60000</code></em></strong>, <strong><code>min_freq</code></strong>:<code>int</code>=<strong><em><code>2</code></em></strong>, <strong><code>mark_fields</code></strong>:<code>bool</code>=<strong><em><code>False</code></em></strong>, <strong><code>include_bos</code></strong>:<code>bool</code>=<strong><em><code>True</code></em></strong>, <strong><code>include_eos</code></strong>:<code>bool</code>=<strong><em><code>False</code></em></strong>, <strong>**<code>kwargs</code></strong>) → <a href=\"https://docs.fast.ai/basic_data.html#DataBunch\"><code>DataBunch</code></a></p>\n",
              "</blockquote>\n",
              "<div class=\"collapse\" id=\"TextDataBunch-from_df-pytest\"><div class=\"card card-body pytest_card\"><a type=\"button\" data-toggle=\"collapse\" data-target=\"#TextDataBunch-from_df-pytest\" class=\"close\" aria-label=\"Close\"><span aria-hidden=\"true\">&times;</span></a><p>Tests found for <code>from_df</code>:</p><ul><li><code>pytest -sv tests/test_text_data.py::test_from_csv_and_from_df</code> <a href=\"https://github.com/fastai/fastai/blob/master/tests/test_text_data.py#L57\" class=\"source_link\" style=\"float:right\">[source]</a></li></ul><p>To run tests please refer to this <a href=\"/dev/test.html#quick-guide\">guide</a>.</p></div></div><p>Create a <a href=\"https://docs.fast.ai/text.data.html#TextDataBunch\"><code>TextDataBunch</code></a> from DataFrames. <code>kwargs</code> are passed to the dataloader creation.</p>\n",
              "<p><a href=\"https://docs.fast.ai/text.data.html#TextDataBunch.from_df\" target=\"_blank\" rel=\"noreferrer noopener\">Show in docs</a></p>\n"
            ],
            "text/plain": [
              "<IPython.core.display.HTML object>"
            ]
          },
          "metadata": {
            "tags": []
          }
        }
      ]
    },
    {
      "cell_type": "markdown",
      "metadata": {
        "id": "jeCvsUuvJxhE",
        "colab_type": "text"
      },
      "source": [
        "The following code will prepare the data to the Language Model. It performs tokenization and numericalization of the input text."
      ]
    },
    {
      "cell_type": "code",
      "metadata": {
        "id": "GCqZll0C9aDL",
        "colab_type": "code",
        "outputId": "bdd22c72-8c0c-4c19-e02b-ef43178f2280",
        "colab": {
          "base_uri": "https://localhost:8080/",
          "height": 52
        }
      },
      "source": [
        "%%time\n",
        "data_lm = TextLMDataBunch.from_df(path, \n",
        "                                train_df=train, \n",
        "                                valid_df=validation, \n",
        "                                text_cols='Consumer_complaint_narrative')"
      ],
      "execution_count": 0,
      "outputs": [
        {
          "output_type": "display_data",
          "data": {
            "text/html": [
              ""
            ],
            "text/plain": [
              "<IPython.core.display.HTML object>"
            ]
          },
          "metadata": {
            "tags": []
          }
        },
        {
          "output_type": "display_data",
          "data": {
            "text/html": [
              ""
            ],
            "text/plain": [
              "<IPython.core.display.HTML object>"
            ]
          },
          "metadata": {
            "tags": []
          }
        },
        {
          "output_type": "stream",
          "text": [
            "CPU times: user 522 ms, sys: 170 ms, total: 692 ms\n",
            "Wall time: 5.29 s\n"
          ],
          "name": "stdout"
        }
      ]
    },
    {
      "cell_type": "code",
      "metadata": {
        "id": "OMEI3bky9aDh",
        "colab_type": "code",
        "outputId": "25ee8023-360e-454a-f5c2-5834a7d5333f",
        "colab": {
          "base_uri": "https://localhost:8080/",
          "height": 436
        }
      },
      "source": [
        "def print_example(index):\n",
        "  print(\"-\"*50)\n",
        "  print(\"\\n{}\\n\".format(data_lm.train_ds[index][0]))\n",
        "\n",
        "print_example(0)\n",
        "print_example(10)\n",
        "print_example(50)"
      ],
      "execution_count": 0,
      "outputs": [
        {
          "output_type": "stream",
          "text": [
            "--------------------------------------------------\n",
            "\n",
            "xxbos xxmaj sorry for the xxunk of this ! xxmaj accidentally , i filed a complaint on xxrep 4 x xxrep 4 x , xxrep 4 x with the wrong agency ( xxmaj federal xxmaj trade xxmaj commission , ref # xxrep 4 x ) . xxmaj below was what i sent to them : xxmaj on xxrep 4 x xxrep 4 x , xxrep 4 x , i purchased from xxmaj best xxmaj xxunk an xxrep 4 x xxrep 4 x xxrep 4 x xxrep 4 x and the extra protection insurance plan , xxrep 8 x xxrep 4 x xxrep 4 x for xxrep 4 x . xxmaj the cost of this insurance plan is $ xxrep 4 x mth , and it is automatically deducted from my account each month . xxmaj on xxup xx / xxup xx / xxrep 4 x i had to change my xxmaj best xxmaj buy credit card # as a family member was racking up charges on it ! i did xxup nothing to the account other than change the # . xxmaj and now here is where xxmaj best xxmaj buy xxunk : i guess when i changed my account # 's on xxup xx / xxup xx / xxrep 4 x , on my xxrep 4 x statement the { $ 12.00 } was not deducted as it was supposed to be . xxmaj however , the purchase does still show in the \" xxmaj activities and xxmaj promotion '' portion of my statement , but again was not being deducted . xxmaj not my fault whatsoever . xxmaj when i changed # 's back in xxrep 4 x i was never informed that i would have to notify whomever to have that { $ 12.00 } deducted again each month under my new credit card # . i 've had to change credit card account # 's in the past and never had to do anything additional . xxmaj whatever was being deducted under my previous acct . # would automatically transfer over . xxmaj the actual xxrep 4 x payment was transferred over , but not the xxrep 4 x + payment ( there is like a { $ .00 } or { $ .00 } payment taken out monthly ? ? ? ) . xxmaj well low and behold i had to take the phone in for repair on xxrep 4 x xxrep 4 x , and the horrible nightmare began ! xxmaj the xxrep 4 x xxrep 4 x was about to make the repair , however they said it was n't covered under the insurance plan . xxmaj they advised that i go to the xxrep 4 x xxrep 4 x and maybe they could figure out what happened with the xxrep 4 x coverage . xxmaj the xxmaj best xxmaj buy rep did n't understand how this happened either ! xxmaj so that 's what i did . xxmaj after several hours ( start to finish - not xxunk ) the xxrep 4 x xxrep 4 x rep confirmed what the xxmaj best xxmaj buy xxunk told me . xxmaj so as a result of this error on xxmaj best xxmaj buy 's part , i had to pay { $ 180.00 } for a replacement xxrep 4 x . \n",
            "  i 've reached out to xxmaj best xxmaj buy via email and phone calls several times regarding this matter . xxmaj my last attempt was xxup xx / xxup xx / xxrep 4 x and once again i got nowhere and ended up more frustrated than before !\n",
            "\n",
            "--------------------------------------------------\n",
            "\n",
            "xxbos - xxmaj on or about xxup xx / xxup xx / xxrep 4 x , i called about my xxmaj citi xxmaj premier card because the annual fee was due and i could not justify it . xxmaj the agent changed the account into a no annual fee xxmaj citi xxmaj xxunk card and said that the new card should be arriving via mail . \n",
            " \n",
            "  - xxmaj on or about xxup xx / xxup xx / xxrep 4 x , i logged into my xxmaj citi account and noticed that there had been 5 transactions between { $ 900.00 } and { $ 990.00 } on the card . i had not received the new card , so i called xxmaj citi to alert them of the fraudulent transactions . i also flagged the transactions as fraudulent online . xxmaj the xxmaj citi agent canceled the card and said a third card would be sent by xxrep 4 x / xxrep 4 x . i received the third card . \n",
            " \n",
            "  - xxmaj on on about xxup xx / xxup xx / xxrep 4 x , i received a call xxunk to be from xxmaj citibank asking me security questions . i was not sure if it was indeed xxmaj citibank , so i hung up and called them back a couple of hours later . i asked to be connected to the xxmaj fraud / xxmaj security department and spoke to an agent who had a few questions for me . xxmaj it was an offshore call center so there was an issue with communication , especially in explaining that the card on which the fraudulent transactions happened never reached me by mail . xxmaj nevertheless i explained this a couple of times to avoid confusion . \n",
            " \n",
            "  - xxmaj on xxup xx / xxup xx / xxrep 4 x , i received a letter from xxmaj citi xxmaj security xxmaj services xxmaj department saying that they have completed the investigation and found me liable for the purchases because i had confirmed that i was in possession of the xxrep 4 x card . i had in fact communicated multiple times to xxmaj citi that the card never reached me . i have never been to a xxrep 4 x store , never mind spending exactly { $ 900.00 } and { $ 990.00 } in 4 different xxrep 4 x stores in a week ! xxmaj for some reason , xxmaj citi insists that the charges are valid . i 've tried reaching out to xxmaj citi but to no avail\n",
            "\n",
            "--------------------------------------------------\n",
            "\n",
            "xxbos i 've reached out to xxrep 4 x xxrep 4 x on two separate occasions requesting lawful information under the xxmaj fair xxmaj credit xxmaj billing act . xxmaj all letters were sent via priority mail with tracking . xxmaj all requests were received by xxrep 4 x xxup 's xxmaj credit xxmaj dept , yet ignored . xxmaj these are clear violations of the xxmaj fair xxmaj credit xxmaj billing xxmaj act . xxmaj the interesting part is that i 've disputed this account with all three credit bureaus on multiple occasions and the bureaus \" claim '' that xxrep 4 x xxrep 4 x responds to them and verifies the account . xxmaj it 's become very clear that the information i 'm requesting no longer exist with xxrep 4 x xxrep 4 x . \n",
            " \n",
            "  xxmaj after sending letters to the original creditor and not getting a response i decided to dispute it with xxmaj transunion , xxrep 4 x and xxrep 4 x . i 've even sent them a copy of the letters sent to xxrep 4 x xxrep 4 x and asked them to remove the data but they have also ignored my request . xxmaj the bureaus can clearly see that i 've put forth effort to reach the original creditor for verification / documentation but they decide to leave it on my credit file . xxmaj the bureaus are violating the xxup fcra by allowing this data unverified data to be reported . \n",
            " \n",
            "  i 've attached all correspondence sent to xxrep 4 x xxrep 4 x , including my most recent letter dated xxup xx / xxup xx / 2019 which is being mailed out today . xxmaj delivery confirmation of previous letters is also attached .\n",
            "\n"
          ],
          "name": "stdout"
        }
      ]
    },
    {
      "cell_type": "markdown",
      "metadata": {
        "id": "lcV_0PVsG50R",
        "colab_type": "text"
      },
      "source": [
        "Fine tuning the pre-trained language model."
      ]
    },
    {
      "cell_type": "code",
      "metadata": {
        "id": "jvgGCydPGtQc",
        "colab_type": "code",
        "colab": {}
      },
      "source": [
        "learn = language_model_learner(data_lm, AWD_LSTM, drop_mult=0.3)"
      ],
      "execution_count": 0,
      "outputs": []
    },
    {
      "cell_type": "markdown",
      "metadata": {
        "id": "i80FjtckHsGr",
        "colab_type": "text"
      },
      "source": [
        "Finding the learning rate value."
      ]
    },
    {
      "cell_type": "code",
      "metadata": {
        "id": "uabGlYQrGndT",
        "colab_type": "code",
        "outputId": "ebc28aeb-8f80-4f72-9920-a75db80c0a20",
        "colab": {
          "base_uri": "https://localhost:8080/",
          "height": 113
        }
      },
      "source": [
        "learn.lr_find()"
      ],
      "execution_count": 0,
      "outputs": [
        {
          "output_type": "display_data",
          "data": {
            "text/html": [
              "\n",
              "    <div>\n",
              "        <style>\n",
              "            /* Turns off some styling */\n",
              "            progress {\n",
              "                /* gets rid of default border in Firefox and Opera. */\n",
              "                border: none;\n",
              "                /* Needs to be in here for Safari polyfill so background images work as expected. */\n",
              "                background-size: auto;\n",
              "            }\n",
              "            .progress-bar-interrupted, .progress-bar-interrupted::-webkit-progress-bar {\n",
              "                background: #F44336;\n",
              "            }\n",
              "        </style>\n",
              "      <progress value='0' class='' max='1' style='width:300px; height:20px; vertical-align: middle;'></progress>\n",
              "      0.00% [0/1 00:00<00:00]\n",
              "    </div>\n",
              "    \n",
              "<table border=\"1\" class=\"dataframe\">\n",
              "  <thead>\n",
              "    <tr style=\"text-align: left;\">\n",
              "      <th>epoch</th>\n",
              "      <th>train_loss</th>\n",
              "      <th>valid_loss</th>\n",
              "      <th>accuracy</th>\n",
              "      <th>time</th>\n",
              "    </tr>\n",
              "  </thead>\n",
              "  <tbody>\n",
              "  </tbody>\n",
              "</table><p>\n",
              "\n",
              "    <div>\n",
              "        <style>\n",
              "            /* Turns off some styling */\n",
              "            progress {\n",
              "                /* gets rid of default border in Firefox and Opera. */\n",
              "                border: none;\n",
              "                /* Needs to be in here for Safari polyfill so background images work as expected. */\n",
              "                background-size: auto;\n",
              "            }\n",
              "            .progress-bar-interrupted, .progress-bar-interrupted::-webkit-progress-bar {\n",
              "                background: #F44336;\n",
              "            }\n",
              "        </style>\n",
              "      <progress value='99' class='' max='172' style='width:300px; height:20px; vertical-align: middle;'></progress>\n",
              "      57.56% [99/172 00:15<00:11 8.9632]\n",
              "    </div>\n",
              "    "
            ],
            "text/plain": [
              "<IPython.core.display.HTML object>"
            ]
          },
          "metadata": {
            "tags": []
          }
        },
        {
          "output_type": "stream",
          "text": [
            "LR Finder is complete, type {learner_name}.recorder.plot() to see the graph.\n"
          ],
          "name": "stdout"
        }
      ]
    },
    {
      "cell_type": "code",
      "metadata": {
        "id": "i91xhD7-Jmxe",
        "colab_type": "code",
        "outputId": "f4223473-0ff8-449c-a3da-53205df86e52",
        "colab": {
          "base_uri": "https://localhost:8080/",
          "height": 314
        }
      },
      "source": [
        "learn.recorder.plot(suggestion=True)"
      ],
      "execution_count": 0,
      "outputs": [
        {
          "output_type": "stream",
          "text": [
            "Min numerical gradient: 3.31E-02\n",
            "Min loss divided by 10: 3.02E-02\n"
          ],
          "name": "stdout"
        },
        {
          "output_type": "display_data",
          "data": {
            "image/png": "[encoded data removed]",
            "text/plain": [
              "<Figure size 432x288 with 1 Axes>"
            ]
          },
          "metadata": {
            "tags": [],
            "needs_background": "light"
          }
        }
      ]
    },
    {
      "cell_type": "code",
      "metadata": {
        "id": "aR3Ua-aLJ3lW",
        "colab_type": "code",
        "outputId": "c35ffd01-6f05-493e-af95-44c7ca974067",
        "colab": {
          "base_uri": "https://localhost:8080/",
          "height": 81
        }
      },
      "source": [
        "learn.fit_one_cycle(1, 4.79e-2)"
      ],
      "execution_count": 0,
      "outputs": [
        {
          "output_type": "display_data",
          "data": {
            "text/html": [
              "<table border=\"1\" class=\"dataframe\">\n",
              "  <thead>\n",
              "    <tr style=\"text-align: left;\">\n",
              "      <th>epoch</th>\n",
              "      <th>train_loss</th>\n",
              "      <th>valid_loss</th>\n",
              "      <th>accuracy</th>\n",
              "      <th>time</th>\n",
              "    </tr>\n",
              "  </thead>\n",
              "  <tbody>\n",
              "    <tr>\n",
              "      <td>0</td>\n",
              "      <td>3.458839</td>\n",
              "      <td>3.248498</td>\n",
              "      <td>0.373379</td>\n",
              "      <td>00:33</td>\n",
              "    </tr>\n",
              "  </tbody>\n",
              "</table>"
            ],
            "text/plain": [
              "<IPython.core.display.HTML object>"
            ]
          },
          "metadata": {
            "tags": []
          }
        }
      ]
    },
    {
      "cell_type": "code",
      "metadata": {
        "id": "z1HctIKvST5m",
        "colab_type": "code",
        "colab": {}
      },
      "source": [
        "learn.save('fit_head')"
      ],
      "execution_count": 0,
      "outputs": []
    },
    {
      "cell_type": "code",
      "metadata": {
        "id": "Fc2nNXFdOQmn",
        "colab_type": "code",
        "colab": {}
      },
      "source": [
        "learn.load('fit_head')\n",
        "learn.unfreeze()"
      ],
      "execution_count": 0,
      "outputs": []
    },
    {
      "cell_type": "code",
      "metadata": {
        "id": "A0O6qbozOQTc",
        "colab_type": "code",
        "outputId": "6a4316e4-4dca-4d3e-f1e9-1d0830c8058c",
        "colab": {
          "base_uri": "https://localhost:8080/",
          "height": 143
        }
      },
      "source": [
        "learn.fit_one_cycle(3, 4.79e-3)"
      ],
      "execution_count": 0,
      "outputs": [
        {
          "output_type": "display_data",
          "data": {
            "text/html": [
              "<table border=\"1\" class=\"dataframe\">\n",
              "  <thead>\n",
              "    <tr style=\"text-align: left;\">\n",
              "      <th>epoch</th>\n",
              "      <th>train_loss</th>\n",
              "      <th>valid_loss</th>\n",
              "      <th>accuracy</th>\n",
              "      <th>time</th>\n",
              "    </tr>\n",
              "  </thead>\n",
              "  <tbody>\n",
              "    <tr>\n",
              "      <td>0</td>\n",
              "      <td>2.988126</td>\n",
              "      <td>3.116501</td>\n",
              "      <td>0.388358</td>\n",
              "      <td>00:43</td>\n",
              "    </tr>\n",
              "    <tr>\n",
              "      <td>1</td>\n",
              "      <td>2.731730</td>\n",
              "      <td>2.952306</td>\n",
              "      <td>0.416089</td>\n",
              "      <td>00:43</td>\n",
              "    </tr>\n",
              "    <tr>\n",
              "      <td>2</td>\n",
              "      <td>2.166058</td>\n",
              "      <td>2.981882</td>\n",
              "      <td>0.420251</td>\n",
              "      <td>00:43</td>\n",
              "    </tr>\n",
              "  </tbody>\n",
              "</table>"
            ],
            "text/plain": [
              "<IPython.core.display.HTML object>"
            ]
          },
          "metadata": {
            "tags": []
          }
        }
      ]
    },
    {
      "cell_type": "markdown",
      "metadata": {
        "id": "XMv_S0jS9aHF",
        "colab_type": "text"
      },
      "source": [
        "We have to save not only the model, but also its encoder, the part that's responsible for creating and updating the hidden state."
      ]
    },
    {
      "cell_type": "code",
      "metadata": {
        "id": "Owlmck359aHF",
        "colab_type": "code",
        "colab": {}
      },
      "source": [
        "learn.save_encoder('fine_tuned_enc')"
      ],
      "execution_count": 0,
      "outputs": []
    },
    {
      "cell_type": "markdown",
      "metadata": {
        "id": "LzEzJSB_9aHK",
        "colab_type": "text"
      },
      "source": [
        "**Classifier**"
      ]
    },
    {
      "cell_type": "markdown",
      "metadata": {
        "id": "6VlJXyk29aEy",
        "colab_type": "text"
      },
      "source": [
        "The following code will prepare the data to the Text classifier."
      ]
    },
    {
      "cell_type": "code",
      "metadata": {
        "id": "u2nwIUNTEWXY",
        "colab_type": "code",
        "outputId": "ee775420-a034-40aa-874c-3d5155974d38",
        "colab": {
          "base_uri": "https://localhost:8080/",
          "height": 273
        }
      },
      "source": [
        "doc(TextClasDataBunch.from_df)"
      ],
      "execution_count": 0,
      "outputs": [
        {
          "output_type": "display_data",
          "data": {
            "text/html": [
              "<h4 id=\"TextDataBunch.from_df\" class=\"doc_header\"><code>from_df</code><a href=\"https://github.com/fastai/fastai/blob/master/fastai/text/data.py#L190\" class=\"source_link\" style=\"float:right\">[source]</a><a class=\"source_link\" data-toggle=\"collapse\" data-target=\"#TextDataBunch-from_df-pytest\" style=\"float:right; padding-right:10px\">[test]</a></h4><blockquote><p><code>from_df</code>(<strong><code>path</code></strong>:<code>PathOrStr</code>, <strong><code>train_df</code></strong>:<code>DataFrame</code>, <strong><code>valid_df</code></strong>:<code>DataFrame</code>, <strong><code>test_df</code></strong>:<code>OptDataFrame</code>=<strong><em><code>None</code></em></strong>, <strong><code>tokenizer</code></strong>:<a href=\"https://docs.fast.ai/text.transform.html#Tokenizer\"><code>Tokenizer</code></a>=<strong><em><code>None</code></em></strong>, <strong><code>vocab</code></strong>:<a href=\"https://docs.fast.ai/text.transform.html#Vocab\"><code>Vocab</code></a>=<strong><em><code>None</code></em></strong>, <strong><code>classes</code></strong>:<code>StrList</code>=<strong><em><code>None</code></em></strong>, <strong><code>text_cols</code></strong>:<code>IntsOrStrs</code>=<strong><em><code>1</code></em></strong>, <strong><code>label_cols</code></strong>:<code>IntsOrStrs</code>=<strong><em><code>0</code></em></strong>, <strong><code>label_delim</code></strong>:<code>str</code>=<strong><em><code>None</code></em></strong>, <strong><code>chunksize</code></strong>:<code>int</code>=<strong><em><code>10000</code></em></strong>, <strong><code>max_vocab</code></strong>:<code>int</code>=<strong><em><code>60000</code></em></strong>, <strong><code>min_freq</code></strong>:<code>int</code>=<strong><em><code>2</code></em></strong>, <strong><code>mark_fields</code></strong>:<code>bool</code>=<strong><em><code>False</code></em></strong>, <strong><code>include_bos</code></strong>:<code>bool</code>=<strong><em><code>True</code></em></strong>, <strong><code>include_eos</code></strong>:<code>bool</code>=<strong><em><code>False</code></em></strong>, <strong>**<code>kwargs</code></strong>) → <a href=\"https://docs.fast.ai/basic_data.html#DataBunch\"><code>DataBunch</code></a></p>\n",
              "</blockquote>\n",
              "<div class=\"collapse\" id=\"TextDataBunch-from_df-pytest\"><div class=\"card card-body pytest_card\"><a type=\"button\" data-toggle=\"collapse\" data-target=\"#TextDataBunch-from_df-pytest\" class=\"close\" aria-label=\"Close\"><span aria-hidden=\"true\">&times;</span></a><p>Tests found for <code>from_df</code>:</p><ul><li><code>pytest -sv tests/test_text_data.py::test_from_csv_and_from_df</code> <a href=\"https://github.com/fastai/fastai/blob/master/tests/test_text_data.py#L57\" class=\"source_link\" style=\"float:right\">[source]</a></li></ul><p>To run tests please refer to this <a href=\"/dev/test.html#quick-guide\">guide</a>.</p></div></div><p>Create a <a href=\"https://docs.fast.ai/text.data.html#TextDataBunch\"><code>TextDataBunch</code></a> from DataFrames. <code>kwargs</code> are passed to the dataloader creation.</p>\n",
              "<p><a href=\"https://docs.fast.ai/text.data.html#TextDataBunch.from_df\" target=\"_blank\" rel=\"noreferrer noopener\">Show in docs</a></p>\n"
            ],
            "text/plain": [
              "<IPython.core.display.HTML object>"
            ]
          },
          "metadata": {
            "tags": []
          }
        }
      ]
    },
    {
      "cell_type": "code",
      "metadata": {
        "id": "u9bXC28Q9aE0",
        "colab_type": "code",
        "outputId": "80c7661e-d59b-4a20-87ab-f3d0ee01204a",
        "colab": {
          "base_uri": "https://localhost:8080/",
          "height": 52
        }
      },
      "source": [
        "%%time\n",
        "data_clas = TextClasDataBunch.from_df(path, \n",
        "                                train_df=train, \n",
        "                                valid_df=validation, \n",
        "                                text_cols='Consumer_complaint_narrative', \n",
        "                                label_cols='category_id', \n",
        "                                vocab=data_lm.train_ds.vocab)"
      ],
      "execution_count": 0,
      "outputs": [
        {
          "output_type": "display_data",
          "data": {
            "text/html": [
              ""
            ],
            "text/plain": [
              "<IPython.core.display.HTML object>"
            ]
          },
          "metadata": {
            "tags": []
          }
        },
        {
          "output_type": "display_data",
          "data": {
            "text/html": [
              ""
            ],
            "text/plain": [
              "<IPython.core.display.HTML object>"
            ]
          },
          "metadata": {
            "tags": []
          }
        },
        {
          "output_type": "stream",
          "text": [
            "CPU times: user 620 ms, sys: 175 ms, total: 795 ms\n",
            "Wall time: 5.38 s\n"
          ],
          "name": "stdout"
        }
      ]
    },
    {
      "cell_type": "markdown",
      "metadata": {
        "id": "pPm6N9Ym9aHc",
        "colab_type": "text"
      },
      "source": [
        "We can then create a model to classify those reviews and load the encoder we saved before."
      ]
    },
    {
      "cell_type": "code",
      "metadata": {
        "id": "M1Hn3c7m9aHd",
        "colab_type": "code",
        "outputId": "bbb70081-3098-4a4e-a690-6319deec93d3",
        "colab": {
          "base_uri": "https://localhost:8080/",
          "height": 1000
        }
      },
      "source": [
        "learn = text_classifier_learner(data_clas, AWD_LSTM, drop_mult=0.5)\n",
        "learn.load_encoder('fine_tuned_enc')"
      ],
      "execution_count": 0,
      "outputs": [
        {
          "output_type": "execute_result",
          "data": {
            "text/plain": [
              "RNNLearner(data=TextClasDataBunch;\n",
              "\n",
              "Train: LabelList (2516 items)\n",
              "x: TextList\n",
              "xxbos xxmaj sorry for the xxunk of this ! xxmaj accidentally , i filed a complaint on xxrep 4 x xxrep 4 x , xxrep 4 x with the wrong agency ( xxmaj federal xxmaj trade xxmaj commission , ref # xxrep 4 x ) . xxmaj below was what i sent to them : xxmaj on xxrep 4 x xxrep 4 x , xxrep 4 x , i purchased from xxmaj best xxmaj xxunk an xxrep 4 x xxrep 4 x xxrep 4 x xxrep 4 x and the extra protection insurance plan , xxrep 8 x xxrep 4 x xxrep 4 x for xxrep 4 x . xxmaj the cost of this insurance plan is $ xxrep 4 x mth , and it is automatically deducted from my account each month . xxmaj on xxup xx / xxup xx / xxrep 4 x i had to change my xxmaj best xxmaj buy credit card # as a family member was racking up charges on it ! i did xxup nothing to the account other than change the # . xxmaj and now here is where xxmaj best xxmaj buy xxunk : i guess when i changed my account # 's on xxup xx / xxup xx / xxrep 4 x , on my xxrep 4 x statement the { $ 12.00 } was not deducted as it was supposed to be . xxmaj however , the purchase does still show in the \" xxmaj activities and xxmaj promotion '' portion of my statement , but again was not being deducted . xxmaj not my fault whatsoever . xxmaj when i changed # 's back in xxrep 4 x i was never informed that i would have to notify whomever to have that { $ 12.00 } deducted again each month under my new credit card # . i 've had to change credit card account # 's in the past and never had to do anything additional . xxmaj whatever was being deducted under my previous acct . # would automatically transfer over . xxmaj the actual xxrep 4 x payment was transferred over , but not the xxrep 4 x + payment ( there is like a { $ .00 } or { $ .00 } payment taken out monthly ? ? ? ) . xxmaj well low and behold i had to take the phone in for repair on xxrep 4 x xxrep 4 x , and the horrible nightmare began ! xxmaj the xxrep 4 x xxrep 4 x was about to make the repair , however they said it was n't covered under the insurance plan . xxmaj they advised that i go to the xxrep 4 x xxrep 4 x and maybe they could figure out what happened with the xxrep 4 x coverage . xxmaj the xxmaj best xxmaj buy rep did n't understand how this happened either ! xxmaj so that 's what i did . xxmaj after several hours ( start to finish - not xxunk ) the xxrep 4 x xxrep 4 x rep confirmed what the xxmaj best xxmaj buy xxunk told me . xxmaj so as a result of this error on xxmaj best xxmaj buy 's part , i had to pay { $ 180.00 } for a replacement xxrep 4 x . \n",
              "  i 've reached out to xxmaj best xxmaj buy via email and phone calls several times regarding this matter . xxmaj my last attempt was xxup xx / xxup xx / xxrep 4 x and once again i got nowhere and ended up more frustrated than before !,xxbos xxrep 4 x xxrep 4 x xxmaj mail . xxmaj sent xxup usaa xxrep 4 x xxrep 4 x xxrep 4 x xxrep 4 x xxrep 4 x xxrep 4 x xxup tx xxrep 4 x ( xxrep 4 x ) signed xxup xx / xxup xx / 2019 * xxup documentation xxup requested xxup never xxup provided xxmaj requested a ) xxmaj dates of xxup all chargebacks with xxmaj amounts b ) xxmaj merchants xxmaj names c ) xxmaj xxunk xxmaj dates of purchases d ) xxmaj dates xxup permanet xxup usaa xxup credits xxup applied xxup to xxup balance e ) xxmaj dates xxup merchant xxup credits xxup applied xxmaj also 1 ) xxmaj list of xxup all xxup adjustment xxup purchases xxup and xxup dates xxup they xxup became xxup permanet xxup credits xxup applied xxup to xxup balance 2 ) xxup dates xxup these xxup adjustment xxup purchases * xxup became xxup new xxup purchases xxup on xxup balance xxup provide xxup documentation xxup who xxup and xxup when xxup fraud xxup investigations xxup began xxup and xxup why,xxbos i am attaching more documents . i am filing this consumer complaint because i attempted to resolve my concerns directly with crooked xxup phh / xxmaj ocwen and its dishonest lawyer who lied to cover up loan servicing abuses that have caused me extreme harm , just like when xxmaj ocwen / xxup phh and attorney xxrep 4 x xxrep 4 x accused me of not putting my loan number on a cashiers check when i did . xxmaj the pretender lender loan servicers and xxrep 4 x xxrep 4 x never apologized for intentionally harassing me to cover up loan servicing abuses . xxmaj on xxup xx / xxup xx / 2019 , xxrep 4 x xxrep 4 x attorney xxrep 4 x xxrep 4 x responded to my consumer complaint misleading the xxup cfpb to cover up more loan servicing abuses . i attached documents that prove how dishonest they all are . xxunk / xxup xx / 2019 payment was due . xxmaj on , xxup xx / xxup xx / 2019 i paid the xxup xx / xxup xx / 2019 payment on xxup xx / xxup xx / 2019 which put my account into a current status . xxmaj my next mortgage payment was due on , xxup xx / xxup xx / 2019 xxmaj the documents i attached for review proves that the troubled loan servicer is pretending that my loan was over 31 days late when it was n't . xxmaj on xxup xx / xxup xx / 2019 , just days after my account was put in current status the troubled loan servicer created a xxup xx / xxup xx / 2019 , statement early so they could pretend i was in default , because that 's what pretender lender loan servicers do . xxmaj on xxup xx / xxup xx / 2019 , when my loan was in current status and not in default i received an early intervention letter giving me options how to give my home to the pretender lender loan servicer or how to save my home from foreclosure . xxmaj on xxup xx / xxup xx / 2019 , i mailed a letter to xxrep 4 x xxrep 4 x regarding several concerns i have about xxup phh / xxmaj ocwen loan servicing abuses including requesting written consent from the troubled loan servicer to put my property in a living trust , as of today xxrep 4 x and its lawyers failed to respond . xxmaj if xxrep 4 x xxrep 4 x dishonest attorneys continue to be dishonest to cause me extreme harm i will have no other option other then to search for help from other sources including law enforcement and the city mayor to investigate my concerns . i am asking the troubled loan servicer and its attorney to try and be honest and respond to all my concerns that i addressed in my xxup xx / xxup xx / 2019 letter mailed directly to the troubled servicer and its attorneys . xxmaj please respond to my latter dated , xxup xx / xxup xx / 2019 , immediately .,xxbos xxmaj discover fraud department incomplete fraud case xxrep 4 x i refuse to pay that anywhere from { $ 2600.00 } to { $ 3000.00 } my brother put a car in his mother 's name when he got done with that car disputing charges xxunk fraud adult abuse fraud i am on xxrep 4 x and so is my mom we can not afford to pay that we are xxrep 4 x xxrep 4 x did n't we have the case for a day in the face they just got the paperwork on xxup xx / xxup xx / xxrep 4 x starting next month i 'm not paying that discover can go to xxrep 4 x xxmaj far i xxmaj care,xxbos xxrep 4 x xxrep 4 x transferred my mortgage loan to xxrep 4 x xxrep 4 x in the month of xxup xx / xxup xx / 2019 . xxmaj during that time , i was in the application process of a loan modification . xxmaj in order for me to qualify for the loan modification my loan had to be past due . xxmaj so to avoid a 30 day late , i would make my past due payment later in the month but well before 30 days to avoid the reporting . \n",
              " \n",
              "  xxmaj when i tried to make my xxup xx / xxup xx / 2019 payment in late xxup xx / xxup xx / 2019 . xxrep 4 x told me that my loan was transferred and to call xxrep 4 x xxrep 4 x . \n",
              " \n",
              "  i called xxrep 4 x xxrep 4 x but they said my information was not transferred and to call back . i explained the circumstances and explained my fear of a 30 day late reporting . xxrep 4 x xxrep 4 x told me that neither bank could report negatively until 45 days after because of the transfer . xxmaj on xxup xx / xxup xx / 2019 , my account was established with xxrep 4 x xxrep 4 x and i was finally able to make my xxup xx / xxup xx / 2019 payment . \n",
              " \n",
              "  xxmaj however , xxrep 4 x reported a 30 day late for xxup xx / xxup xx / 2019 . xxmaj if i m not mistaken , xxup xxunk xxmaj section 6 states that there is a 60 day window for reporting adversely during a transfer . \n",
              " \n",
              "  xxmaj my wife became ill lost her job and we ca nt afford our current home . xxmaj we are trying to sell our home and qualify for affordable housing . xxmaj but we do not qualify with a 30 day late reported within the last 12 months .\n",
              "y: CategoryList\n",
              "2,2,3,1,0\n",
              "Path: /content/gdrive/My Drive/Doutorado/finance complaints experiment;\n",
              "\n",
              "Valid: LabelList (1079 items)\n",
              "x: TextList\n",
              "xxbos i am in the process of moving so today xxup xx / xxup xx / 20 i applied at xxrep 4 x xxrep 4 x apartments and i was told that i was not eligible to rent an apartment there because of some accounts and inquiries reflecting badly on my credit history . xxmaj none of those accounts / inquiries belong to me nor did i ever give anyone permission to open those accounts in my name . i have no idea who could have stolen my personal information to open these accounts but i have already filed a police report . i did not benefit anything from these accounts and i did not make any payments towards these accounts . i have never had any written / verbal contracts with any of these companies .,xxbos xxmaj on xxup xx / xxup xx / 2020 i recieved an electronically generated { $ 470.00 } loan deposited into my checking account the bank cleared monies and made it available to me on the same xxunk / xxup xx / 2020 i in turn went to xxrep 4 x and purchased a xxmaj target gift card for { $ 470.00 } and paid the loan back via the xxrep 4 x gift xxunk the same day xxup xx / xxup xx / 2020 . \n",
              "  5 days or xxunk later . xxunk xxup xx / xxup xx / 2020 recieved overdraft of { $ 460.00 } plus penalty , after realizing what happened i called the bank to file a complaint and was advised to change my account number and freeze the account which i did . xxmaj on xxup xx / xxup xx / 2020 another 3 days or xxunk hrs later called bank to check on my claim and found that i did not have one after getting the run around for 5 hrs . finally got a claim filed i do not believe i owe for that overdraft when the bank made it available to me and 5 days later xxunk it was not available , as a result i lost my loan and my credit score will take forever to repair,xxbos xxrep 4 x xxrep 4 x xxrep 4 x transfer my home xxmaj loan to other entity that is part of the same xxrep 4 x xxrep 4 x xxrep 4 x too . xxmaj and , the name xxup of xxup the xxup new xxup company xxup management xxup my xxup home xxup loan is xxup xxunk : xxmaj select xxmaj portfolio xxmaj servicing , xxup inc . \n",
              " \n",
              "  i paid in advance the home insurance of xxrep 4 x : i did the payment in xxrep 4 x xxup xx / xxup xx / xxrep 4 x : { $ 1200.00 } to cover xxrep 4 x full home insurance year . i wait for the insurance refund and finally with the last four monthly loan payments , i wrote to xxup xxunk xxup requesting xxup for xxup my xxup refund xxup of $ xxrep 4 x , xxup and xxup still xxup without xxup received xxup my xxup refund . \n",
              " \n",
              "  i send the refund requested via certified mails : xxup xx / xxup xx / xxrep 4 x : xxmaj certified mail # : xxrep 4 x xxrep 4 x xxrep 4 x xxrep 4 x xxrep 4 x xxup xx / xxup xx / xxrep 4 x : xxrep 4 x xxrep 4 x xxrep 4 x xxrep 4 x xxrep 4 x xxup xx / xxup xx / xxrep 4 x : xxrep 4 x xxrep 4 x xxrep 4 x xxrep 4 x xxrep 4 x xxup xx / xxup xx / xxrep 4 x : xxrep 4 x xxrep 4 x xxrep 4 x xxrep 4 x xxrep 4 x xxmaj in addition in the tax information they report the payment of that amount , also the insurance company of the home : xxrep 4 x xxrep 4 x xxrep 4 x send me and sent it to xxup xxunk xxup the xxup received xxup when i did the payment . \n",
              " \n",
              "  i have been waiting more than a year , and xxup xxunk xxup still xxup without xxup send xxup me xxup the xxup refund .,xxbos xxmaj to : xxmaj whom xxmaj it xxmaj may concern : i am writing to dispute a fraudulent charge on my account in the amount of { $ 700.00 } , { $ 330.00 } , { $ 190.00 } , { $ xxunk } , { $ 210.00 } , { $ 22.00 } , { $ 1600.00 } , { $ 190.00 } , { $ 870.00 } , { $ 83.00 } , { $ 1800.00 } . \n",
              "  i am a victim of xxmaj identity theft , and i did not make or authorize this charge . i am requesting that the charge be removed , that any finance other charges related to the fraudulent amount be credited , as well and that i receive an accurate statement . xxmaj this request is made pursuant to the xxmaj fair xxmaj credit xxmaj billing xxmaj acts amendments to the xxmaj truth in xxmaj lending xxmaj act , 15 xxup u.s.c. 1666 - 1666b , 12 xxup c.f.r 226.13 . xxmaj see xxmaj also 12 xxup c.f.r 226.12 ( b ) -- xxup closed xxup accounts -- 1 . xxrep 4 x xxrep 4 x xxrep 4 x / xxrep 4 x with xxup acct # xxrep 4 x opened on xxup xx / xxup xx / xxrep 4 x with a credit limit of { $ 700.00 } -this is not my account . \n",
              " \n",
              "  2 . xxrep 4 x xxrep 4 x with xxup acct # xxrep 4 x opened on xxup xx / xxup xx / xxrep 4 x with a credit limit of { $ 330.00 } -this is not my account . \n",
              " \n",
              " \n",
              "  -- xxup collection xxup accounts -- 3 . xxrep 4 x xxrep 4 x xxrep 4 x with xxup acct # xxrep 4 x opened on xxup xx / xxup xx / xxrep 4 x with a credit limit of { $ 190.00 } -this is not my account . \n",
              " \n",
              "  4 . xxrep 4 x xxrep 4 x xxrep 4 x with xxup acct # xxrep 4 x opened on xxup xx / xxup xx / xxrep 4 x with a credit limit of { $ xxunk } -this is not my account . \n",
              " \n",
              "  5 . xxrep 4 x xxrep 4 x xxrep 4 x xxrep 4 x with xxup acct # xxrep 4 x opened on xxup xx / xxup xx / xxrep 4 x with a credit limit of { $ 210.00 } -this is not my account . \n",
              " \n",
              "  6 . xxrep 4 x xxrep 4 x xxrep 4 x with xxup acct # xxrep 4 x opened on xxup xx / xxup xx / xxrep 4 x with a credit limit of { $ 22.00 } -this is not my account . \n",
              " \n",
              "  7 . xxrep 4 x xxrep 4 x , xxrep 4 x with xxup acct # xxrep 4 x opened on xxup xx / xxup xx / xxrep 4 x with a credit limit of { $ 1600.00 } -this is not my account . \n",
              " \n",
              "  8 . xxrep 4 x xxrep 4 x with xxup acct # xxrep 4 x opened on xxup xx / xxup xx / xxrep 4 x with a credit limit of { $ 190.00 } -this is not my account . \n",
              " \n",
              "  9 . xxrep 4 x xxrep 4 x xxrep 4 x with xxup acct # xxrep 4 x opened on xxup xx / xxup xx / xxrep 4 x with a credit limit of { $ 870.00 } -this is not my account . \n",
              " \n",
              "  10 . xxrep 4 x xxrep 4 x with xxup acct # xxrep 4 x opened on xxup xx / xxup xx / xxrep 4 x with a credit limit of { $ 83.00 } -this is not my account . \n",
              " \n",
              "  11 . xxrep 4 x xxrep 4 x xxrep 4 x / with xxup acct # xxrep 4 x opened on xxup xx / xxup xx / xxrep 4 x with a credit limit of { $ 1800.00 } -this is not my account .,xxbos xxmaj the servicing of my mortgage note was recently transferred to loancare . xxmaj why , as a consumer , do i not have a say in the company servicing my mortgage ? i have had several mortgages in my lifetime and all of them have been consistent with one another until now . i had no say in the matter and as of now , have no choice but to accept loancare as my current mortgage servicer . xxmaj the problem i have is that i have become xxunk to the grace period of 16 days . xxmaj monthly mortgage payment is due on the xxrep 4 x of the month and considered late if payment not received by the xxrep 4 x of that month . xxmaj now that i am stuck with loancare , and have no choice , i am being charged to make a payment unless i apply for auto withdrawal out of my account or make an online payment by the xxrep 4 x of each month . xxmaj how is this possible ? i have been paying my mortgage on time by the xxrep 4 x for years . xxmaj all of a sudden out of nowhere , the servicing rights of my mortgage change and now i have to pay a fee in order to make a payment ? xxmaj this is absurd . xxmaj how is it not law that servicers can not charge a fee unless payment is received after the xxrep 4 x of the month ? xxmaj it should be the same across the board . i do n't want to work with loancare . i want a new mortgage servicer . xxmaj how do i make this change ? xxmaj please advise as i refuse to pay a fee if i want to make a mortgage payment on the xxrep 4 x of each month .\n",
              "y: CategoryList\n",
              "0,4,3,0,3\n",
              "Path: /content/gdrive/My Drive/Doutorado/finance complaints experiment;\n",
              "\n",
              "Test: None, model=SequentialRNN(\n",
              "  (0): MultiBatchEncoder(\n",
              "    (module): AWD_LSTM(\n",
              "      (encoder): Embedding(7056, 400, padding_idx=1)\n",
              "      (encoder_dp): EmbeddingDropout(\n",
              "        (emb): Embedding(7056, 400, padding_idx=1)\n",
              "      )\n",
              "      (rnns): ModuleList(\n",
              "        (0): WeightDropout(\n",
              "          (module): LSTM(400, 1152, batch_first=True)\n",
              "        )\n",
              "        (1): WeightDropout(\n",
              "          (module): LSTM(1152, 1152, batch_first=True)\n",
              "        )\n",
              "        (2): WeightDropout(\n",
              "          (module): LSTM(1152, 400, batch_first=True)\n",
              "        )\n",
              "      )\n",
              "      (input_dp): RNNDropout()\n",
              "      (hidden_dps): ModuleList(\n",
              "        (0): RNNDropout()\n",
              "        (1): RNNDropout()\n",
              "        (2): RNNDropout()\n",
              "      )\n",
              "    )\n",
              "  )\n",
              "  (1): PoolingLinearClassifier(\n",
              "    (layers): Sequential(\n",
              "      (0): BatchNorm1d(1200, eps=1e-05, momentum=0.1, affine=True, track_running_stats=True)\n",
              "      (1): Dropout(p=0.2, inplace=False)\n",
              "      (2): Linear(in_features=1200, out_features=50, bias=True)\n",
              "      (3): ReLU(inplace=True)\n",
              "      (4): BatchNorm1d(50, eps=1e-05, momentum=0.1, affine=True, track_running_stats=True)\n",
              "      (5): Dropout(p=0.1, inplace=False)\n",
              "      (6): Linear(in_features=50, out_features=5, bias=True)\n",
              "    )\n",
              "  )\n",
              "), opt_func=functools.partial(<class 'torch.optim.adam.Adam'>, betas=(0.9, 0.99)), loss_func=FlattenedLoss of CrossEntropyLoss(), metrics=[<function accuracy at 0x7feb387791e0>], true_wd=True, bn_wd=True, wd=0.01, train_bn=True, path=PosixPath('/content/gdrive/My Drive/Doutorado/finance complaints experiment'), model_dir='models', callback_fns=[functools.partial(<class 'fastai.basic_train.Recorder'>, add_time=True, silent=False)], callbacks=[RNNTrainer\n",
              "learn: RNNLearner(data=TextClasDataBunch;\n",
              "\n",
              "Train: LabelList (2516 items)\n",
              "x: TextList\n",
              "xxbos xxmaj sorry for the xxunk of this ! xxmaj accidentally , i filed a complaint on xxrep 4 x xxrep 4 x , xxrep 4 x with the wrong agency ( xxmaj federal xxmaj trade xxmaj commission , ref # xxrep 4 x ) . xxmaj below was what i sent to them : xxmaj on xxrep 4 x xxrep 4 x , xxrep 4 x , i purchased from xxmaj best xxmaj xxunk an xxrep 4 x xxrep 4 x xxrep 4 x xxrep 4 x and the extra protection insurance plan , xxrep 8 x xxrep 4 x xxrep 4 x for xxrep 4 x . xxmaj the cost of this insurance plan is $ xxrep 4 x mth , and it is automatically deducted from my account each month . xxmaj on xxup xx / xxup xx / xxrep 4 x i had to change my xxmaj best xxmaj buy credit card # as a family member was racking up charges on it ! i did xxup nothing to the account other than change the # . xxmaj and now here is where xxmaj best xxmaj buy xxunk : i guess when i changed my account # 's on xxup xx / xxup xx / xxrep 4 x , on my xxrep 4 x statement the { $ 12.00 } was not deducted as it was supposed to be . xxmaj however , the purchase does still show in the \" xxmaj activities and xxmaj promotion '' portion of my statement , but again was not being deducted . xxmaj not my fault whatsoever . xxmaj when i changed # 's back in xxrep 4 x i was never informed that i would have to notify whomever to have that { $ 12.00 } deducted again each month under my new credit card # . i 've had to change credit card account # 's in the past and never had to do anything additional . xxmaj whatever was being deducted under my previous acct . # would automatically transfer over . xxmaj the actual xxrep 4 x payment was transferred over , but not the xxrep 4 x + payment ( there is like a { $ .00 } or { $ .00 } payment taken out monthly ? ? ? ) . xxmaj well low and behold i had to take the phone in for repair on xxrep 4 x xxrep 4 x , and the horrible nightmare began ! xxmaj the xxrep 4 x xxrep 4 x was about to make the repair , however they said it was n't covered under the insurance plan . xxmaj they advised that i go to the xxrep 4 x xxrep 4 x and maybe they could figure out what happened with the xxrep 4 x coverage . xxmaj the xxmaj best xxmaj buy rep did n't understand how this happened either ! xxmaj so that 's what i did . xxmaj after several hours ( start to finish - not xxunk ) the xxrep 4 x xxrep 4 x rep confirmed what the xxmaj best xxmaj buy xxunk told me . xxmaj so as a result of this error on xxmaj best xxmaj buy 's part , i had to pay { $ 180.00 } for a replacement xxrep 4 x . \n",
              "  i 've reached out to xxmaj best xxmaj buy via email and phone calls several times regarding this matter . xxmaj my last attempt was xxup xx / xxup xx / xxrep 4 x and once again i got nowhere and ended up more frustrated than before !,xxbos xxrep 4 x xxrep 4 x xxmaj mail . xxmaj sent xxup usaa xxrep 4 x xxrep 4 x xxrep 4 x xxrep 4 x xxrep 4 x xxrep 4 x xxup tx xxrep 4 x ( xxrep 4 x ) signed xxup xx / xxup xx / 2019 * xxup documentation xxup requested xxup never xxup provided xxmaj requested a ) xxmaj dates of xxup all chargebacks with xxmaj amounts b ) xxmaj merchants xxmaj names c ) xxmaj xxunk xxmaj dates of purchases d ) xxmaj dates xxup permanet xxup usaa xxup credits xxup applied xxup to xxup balance e ) xxmaj dates xxup merchant xxup credits xxup applied xxmaj also 1 ) xxmaj list of xxup all xxup adjustment xxup purchases xxup and xxup dates xxup they xxup became xxup permanet xxup credits xxup applied xxup to xxup balance 2 ) xxup dates xxup these xxup adjustment xxup purchases * xxup became xxup new xxup purchases xxup on xxup balance xxup provide xxup documentation xxup who xxup and xxup when xxup fraud xxup investigations xxup began xxup and xxup why,xxbos i am attaching more documents . i am filing this consumer complaint because i attempted to resolve my concerns directly with crooked xxup phh / xxmaj ocwen and its dishonest lawyer who lied to cover up loan servicing abuses that have caused me extreme harm , just like when xxmaj ocwen / xxup phh and attorney xxrep 4 x xxrep 4 x accused me of not putting my loan number on a cashiers check when i did . xxmaj the pretender lender loan servicers and xxrep 4 x xxrep 4 x never apologized for intentionally harassing me to cover up loan servicing abuses . xxmaj on xxup xx / xxup xx / 2019 , xxrep 4 x xxrep 4 x attorney xxrep 4 x xxrep 4 x responded to my consumer complaint misleading the xxup cfpb to cover up more loan servicing abuses . i attached documents that prove how dishonest they all are . xxunk / xxup xx / 2019 payment was due . xxmaj on , xxup xx / xxup xx / 2019 i paid the xxup xx / xxup xx / 2019 payment on xxup xx / xxup xx / 2019 which put my account into a current status . xxmaj my next mortgage payment was due on , xxup xx / xxup xx / 2019 xxmaj the documents i attached for review proves that the troubled loan servicer is pretending that my loan was over 31 days late when it was n't . xxmaj on xxup xx / xxup xx / 2019 , just days after my account was put in current status the troubled loan servicer created a xxup xx / xxup xx / 2019 , statement early so they could pretend i was in default , because that 's what pretender lender loan servicers do . xxmaj on xxup xx / xxup xx / 2019 , when my loan was in current status and not in default i received an early intervention letter giving me options how to give my home to the pretender lender loan servicer or how to save my home from foreclosure . xxmaj on xxup xx / xxup xx / 2019 , i mailed a letter to xxrep 4 x xxrep 4 x regarding several concerns i have about xxup phh / xxmaj ocwen loan servicing abuses including requesting written consent from the troubled loan servicer to put my property in a living trust , as of today xxrep 4 x and its lawyers failed to respond . xxmaj if xxrep 4 x xxrep 4 x dishonest attorneys continue to be dishonest to cause me extreme harm i will have no other option other then to search for help from other sources including law enforcement and the city mayor to investigate my concerns . i am asking the troubled loan servicer and its attorney to try and be honest and respond to all my concerns that i addressed in my xxup xx / xxup xx / 2019 letter mailed directly to the troubled servicer and its attorneys . xxmaj please respond to my latter dated , xxup xx / xxup xx / 2019 , immediately .,xxbos xxmaj discover fraud department incomplete fraud case xxrep 4 x i refuse to pay that anywhere from { $ 2600.00 } to { $ 3000.00 } my brother put a car in his mother 's name when he got done with that car disputing charges xxunk fraud adult abuse fraud i am on xxrep 4 x and so is my mom we can not afford to pay that we are xxrep 4 x xxrep 4 x did n't we have the case for a day in the face they just got the paperwork on xxup xx / xxup xx / xxrep 4 x starting next month i 'm not paying that discover can go to xxrep 4 x xxmaj far i xxmaj care,xxbos xxrep 4 x xxrep 4 x transferred my mortgage loan to xxrep 4 x xxrep 4 x in the month of xxup xx / xxup xx / 2019 . xxmaj during that time , i was in the application process of a loan modification . xxmaj in order for me to qualify for the loan modification my loan had to be past due . xxmaj so to avoid a 30 day late , i would make my past due payment later in the month but well before 30 days to avoid the reporting . \n",
              " \n",
              "  xxmaj when i tried to make my xxup xx / xxup xx / 2019 payment in late xxup xx / xxup xx / 2019 . xxrep 4 x told me that my loan was transferred and to call xxrep 4 x xxrep 4 x . \n",
              " \n",
              "  i called xxrep 4 x xxrep 4 x but they said my information was not transferred and to call back . i explained the circumstances and explained my fear of a 30 day late reporting . xxrep 4 x xxrep 4 x told me that neither bank could report negatively until 45 days after because of the transfer . xxmaj on xxup xx / xxup xx / 2019 , my account was established with xxrep 4 x xxrep 4 x and i was finally able to make my xxup xx / xxup xx / 2019 payment . \n",
              " \n",
              "  xxmaj however , xxrep 4 x reported a 30 day late for xxup xx / xxup xx / 2019 . xxmaj if i m not mistaken , xxup xxunk xxmaj section 6 states that there is a 60 day window for reporting adversely during a transfer . \n",
              " \n",
              "  xxmaj my wife became ill lost her job and we ca nt afford our current home . xxmaj we are trying to sell our home and qualify for affordable housing . xxmaj but we do not qualify with a 30 day late reported within the last 12 months .\n",
              "y: CategoryList\n",
              "2,2,3,1,0\n",
              "Path: /content/gdrive/My Drive/Doutorado/finance complaints experiment;\n",
              "\n",
              "Valid: LabelList (1079 items)\n",
              "x: TextList\n",
              "xxbos i am in the process of moving so today xxup xx / xxup xx / 20 i applied at xxrep 4 x xxrep 4 x apartments and i was told that i was not eligible to rent an apartment there because of some accounts and inquiries reflecting badly on my credit history . xxmaj none of those accounts / inquiries belong to me nor did i ever give anyone permission to open those accounts in my name . i have no idea who could have stolen my personal information to open these accounts but i have already filed a police report . i did not benefit anything from these accounts and i did not make any payments towards these accounts . i have never had any written / verbal contracts with any of these companies .,xxbos xxmaj on xxup xx / xxup xx / 2020 i recieved an electronically generated { $ 470.00 } loan deposited into my checking account the bank cleared monies and made it available to me on the same xxunk / xxup xx / 2020 i in turn went to xxrep 4 x and purchased a xxmaj target gift card for { $ 470.00 } and paid the loan back via the xxrep 4 x gift xxunk the same day xxup xx / xxup xx / 2020 . \n",
              "  5 days or xxunk later . xxunk xxup xx / xxup xx / 2020 recieved overdraft of { $ 460.00 } plus penalty , after realizing what happened i called the bank to file a complaint and was advised to change my account number and freeze the account which i did . xxmaj on xxup xx / xxup xx / 2020 another 3 days or xxunk hrs later called bank to check on my claim and found that i did not have one after getting the run around for 5 hrs . finally got a claim filed i do not believe i owe for that overdraft when the bank made it available to me and 5 days later xxunk it was not available , as a result i lost my loan and my credit score will take forever to repair,xxbos xxrep 4 x xxrep 4 x xxrep 4 x transfer my home xxmaj loan to other entity that is part of the same xxrep 4 x xxrep 4 x xxrep 4 x too . xxmaj and , the name xxup of xxup the xxup new xxup company xxup management xxup my xxup home xxup loan is xxup xxunk : xxmaj select xxmaj portfolio xxmaj servicing , xxup inc . \n",
              " \n",
              "  i paid in advance the home insurance of xxrep 4 x : i did the payment in xxrep 4 x xxup xx / xxup xx / xxrep 4 x : { $ 1200.00 } to cover xxrep 4 x full home insurance year . i wait for the insurance refund and finally with the last four monthly loan payments , i wrote to xxup xxunk xxup requesting xxup for xxup my xxup refund xxup of $ xxrep 4 x , xxup and xxup still xxup without xxup received xxup my xxup refund . \n",
              " \n",
              "  i send the refund requested via certified mails : xxup xx / xxup xx / xxrep 4 x : xxmaj certified mail # : xxrep 4 x xxrep 4 x xxrep 4 x xxrep 4 x xxrep 4 x xxup xx / xxup xx / xxrep 4 x : xxrep 4 x xxrep 4 x xxrep 4 x xxrep 4 x xxrep 4 x xxup xx / xxup xx / xxrep 4 x : xxrep 4 x xxrep 4 x xxrep 4 x xxrep 4 x xxrep 4 x xxup xx / xxup xx / xxrep 4 x : xxrep 4 x xxrep 4 x xxrep 4 x xxrep 4 x xxrep 4 x xxmaj in addition in the tax information they report the payment of that amount , also the insurance company of the home : xxrep 4 x xxrep 4 x xxrep 4 x send me and sent it to xxup xxunk xxup the xxup received xxup when i did the payment . \n",
              " \n",
              "  i have been waiting more than a year , and xxup xxunk xxup still xxup without xxup send xxup me xxup the xxup refund .,xxbos xxmaj to : xxmaj whom xxmaj it xxmaj may concern : i am writing to dispute a fraudulent charge on my account in the amount of { $ 700.00 } , { $ 330.00 } , { $ 190.00 } , { $ xxunk } , { $ 210.00 } , { $ 22.00 } , { $ 1600.00 } , { $ 190.00 } , { $ 870.00 } , { $ 83.00 } , { $ 1800.00 } . \n",
              "  i am a victim of xxmaj identity theft , and i did not make or authorize this charge . i am requesting that the charge be removed , that any finance other charges related to the fraudulent amount be credited , as well and that i receive an accurate statement . xxmaj this request is made pursuant to the xxmaj fair xxmaj credit xxmaj billing xxmaj acts amendments to the xxmaj truth in xxmaj lending xxmaj act , 15 xxup u.s.c. 1666 - 1666b , 12 xxup c.f.r 226.13 . xxmaj see xxmaj also 12 xxup c.f.r 226.12 ( b ) -- xxup closed xxup accounts -- 1 . xxrep 4 x xxrep 4 x xxrep 4 x / xxrep 4 x with xxup acct # xxrep 4 x opened on xxup xx / xxup xx / xxrep 4 x with a credit limit of { $ 700.00 } -this is not my account . \n",
              " \n",
              "  2 . xxrep 4 x xxrep 4 x with xxup acct # xxrep 4 x opened on xxup xx / xxup xx / xxrep 4 x with a credit limit of { $ 330.00 } -this is not my account . \n",
              " \n",
              " \n",
              "  -- xxup collection xxup accounts -- 3 . xxrep 4 x xxrep 4 x xxrep 4 x with xxup acct # xxrep 4 x opened on xxup xx / xxup xx / xxrep 4 x with a credit limit of { $ 190.00 } -this is not my account . \n",
              " \n",
              "  4 . xxrep 4 x xxrep 4 x xxrep 4 x with xxup acct # xxrep 4 x opened on xxup xx / xxup xx / xxrep 4 x with a credit limit of { $ xxunk } -this is not my account . \n",
              " \n",
              "  5 . xxrep 4 x xxrep 4 x xxrep 4 x xxrep 4 x with xxup acct # xxrep 4 x opened on xxup xx / xxup xx / xxrep 4 x with a credit limit of { $ 210.00 } -this is not my account . \n",
              " \n",
              "  6 . xxrep 4 x xxrep 4 x xxrep 4 x with xxup acct # xxrep 4 x opened on xxup xx / xxup xx / xxrep 4 x with a credit limit of { $ 22.00 } -this is not my account . \n",
              " \n",
              "  7 . xxrep 4 x xxrep 4 x , xxrep 4 x with xxup acct # xxrep 4 x opened on xxup xx / xxup xx / xxrep 4 x with a credit limit of { $ 1600.00 } -this is not my account . \n",
              " \n",
              "  8 . xxrep 4 x xxrep 4 x with xxup acct # xxrep 4 x opened on xxup xx / xxup xx / xxrep 4 x with a credit limit of { $ 190.00 } -this is not my account . \n",
              " \n",
              "  9 . xxrep 4 x xxrep 4 x xxrep 4 x with xxup acct # xxrep 4 x opened on xxup xx / xxup xx / xxrep 4 x with a credit limit of { $ 870.00 } -this is not my account . \n",
              " \n",
              "  10 . xxrep 4 x xxrep 4 x with xxup acct # xxrep 4 x opened on xxup xx / xxup xx / xxrep 4 x with a credit limit of { $ 83.00 } -this is not my account . \n",
              " \n",
              "  11 . xxrep 4 x xxrep 4 x xxrep 4 x / with xxup acct # xxrep 4 x opened on xxup xx / xxup xx / xxrep 4 x with a credit limit of { $ 1800.00 } -this is not my account .,xxbos xxmaj the servicing of my mortgage note was recently transferred to loancare . xxmaj why , as a consumer , do i not have a say in the company servicing my mortgage ? i have had several mortgages in my lifetime and all of them have been consistent with one another until now . i had no say in the matter and as of now , have no choice but to accept loancare as my current mortgage servicer . xxmaj the problem i have is that i have become xxunk to the grace period of 16 days . xxmaj monthly mortgage payment is due on the xxrep 4 x of the month and considered late if payment not received by the xxrep 4 x of that month . xxmaj now that i am stuck with loancare , and have no choice , i am being charged to make a payment unless i apply for auto withdrawal out of my account or make an online payment by the xxrep 4 x of each month . xxmaj how is this possible ? i have been paying my mortgage on time by the xxrep 4 x for years . xxmaj all of a sudden out of nowhere , the servicing rights of my mortgage change and now i have to pay a fee in order to make a payment ? xxmaj this is absurd . xxmaj how is it not law that servicers can not charge a fee unless payment is received after the xxrep 4 x of the month ? xxmaj it should be the same across the board . i do n't want to work with loancare . i want a new mortgage servicer . xxmaj how do i make this change ? xxmaj please advise as i refuse to pay a fee if i want to make a mortgage payment on the xxrep 4 x of each month .\n",
              "y: CategoryList\n",
              "0,4,3,0,3\n",
              "Path: /content/gdrive/My Drive/Doutorado/finance complaints experiment;\n",
              "\n",
              "Test: None, model=SequentialRNN(\n",
              "  (0): MultiBatchEncoder(\n",
              "    (module): AWD_LSTM(\n",
              "      (encoder): Embedding(7056, 400, padding_idx=1)\n",
              "      (encoder_dp): EmbeddingDropout(\n",
              "        (emb): Embedding(7056, 400, padding_idx=1)\n",
              "      )\n",
              "      (rnns): ModuleList(\n",
              "        (0): WeightDropout(\n",
              "          (module): LSTM(400, 1152, batch_first=True)\n",
              "        )\n",
              "        (1): WeightDropout(\n",
              "          (module): LSTM(1152, 1152, batch_first=True)\n",
              "        )\n",
              "        (2): WeightDropout(\n",
              "          (module): LSTM(1152, 400, batch_first=True)\n",
              "        )\n",
              "      )\n",
              "      (input_dp): RNNDropout()\n",
              "      (hidden_dps): ModuleList(\n",
              "        (0): RNNDropout()\n",
              "        (1): RNNDropout()\n",
              "        (2): RNNDropout()\n",
              "      )\n",
              "    )\n",
              "  )\n",
              "  (1): PoolingLinearClassifier(\n",
              "    (layers): Sequential(\n",
              "      (0): BatchNorm1d(1200, eps=1e-05, momentum=0.1, affine=True, track_running_stats=True)\n",
              "      (1): Dropout(p=0.2, inplace=False)\n",
              "      (2): Linear(in_features=1200, out_features=50, bias=True)\n",
              "      (3): ReLU(inplace=True)\n",
              "      (4): BatchNorm1d(50, eps=1e-05, momentum=0.1, affine=True, track_running_stats=True)\n",
              "      (5): Dropout(p=0.1, inplace=False)\n",
              "      (6): Linear(in_features=50, out_features=5, bias=True)\n",
              "    )\n",
              "  )\n",
              "), opt_func=functools.partial(<class 'torch.optim.adam.Adam'>, betas=(0.9, 0.99)), loss_func=FlattenedLoss of CrossEntropyLoss(), metrics=[<function accuracy at 0x7feb387791e0>], true_wd=True, bn_wd=True, wd=0.01, train_bn=True, path=PosixPath('/content/gdrive/My Drive/Doutorado/finance complaints experiment'), model_dir='models', callback_fns=[functools.partial(<class 'fastai.basic_train.Recorder'>, add_time=True, silent=False)], callbacks=[...], layer_groups=[Sequential(\n",
              "  (0): Embedding(7056, 400, padding_idx=1)\n",
              "  (1): EmbeddingDropout(\n",
              "    (emb): Embedding(7056, 400, padding_idx=1)\n",
              "  )\n",
              "), Sequential(\n",
              "  (0): WeightDropout(\n",
              "    (module): LSTM(400, 1152, batch_first=True)\n",
              "  )\n",
              "  (1): RNNDropout()\n",
              "), Sequential(\n",
              "  (0): WeightDropout(\n",
              "    (module): LSTM(1152, 1152, batch_first=True)\n",
              "  )\n",
              "  (1): RNNDropout()\n",
              "), Sequential(\n",
              "  (0): WeightDropout(\n",
              "    (module): LSTM(1152, 400, batch_first=True)\n",
              "  )\n",
              "  (1): RNNDropout()\n",
              "), Sequential(\n",
              "  (0): PoolingLinearClassifier(\n",
              "    (layers): Sequential(\n",
              "      (0): BatchNorm1d(1200, eps=1e-05, momentum=0.1, affine=True, track_running_stats=True)\n",
              "      (1): Dropout(p=0.2, inplace=False)\n",
              "      (2): Linear(in_features=1200, out_features=50, bias=True)\n",
              "      (3): ReLU(inplace=True)\n",
              "      (4): BatchNorm1d(50, eps=1e-05, momentum=0.1, affine=True, track_running_stats=True)\n",
              "      (5): Dropout(p=0.1, inplace=False)\n",
              "      (6): Linear(in_features=50, out_features=5, bias=True)\n",
              "    )\n",
              "  )\n",
              ")], add_time=True, silent=False)\n",
              "alpha: 2.0\n",
              "beta: 1.0], layer_groups=[Sequential(\n",
              "  (0): Embedding(7056, 400, padding_idx=1)\n",
              "  (1): EmbeddingDropout(\n",
              "    (emb): Embedding(7056, 400, padding_idx=1)\n",
              "  )\n",
              "), Sequential(\n",
              "  (0): WeightDropout(\n",
              "    (module): LSTM(400, 1152, batch_first=True)\n",
              "  )\n",
              "  (1): RNNDropout()\n",
              "), Sequential(\n",
              "  (0): WeightDropout(\n",
              "    (module): LSTM(1152, 1152, batch_first=True)\n",
              "  )\n",
              "  (1): RNNDropout()\n",
              "), Sequential(\n",
              "  (0): WeightDropout(\n",
              "    (module): LSTM(1152, 400, batch_first=True)\n",
              "  )\n",
              "  (1): RNNDropout()\n",
              "), Sequential(\n",
              "  (0): PoolingLinearClassifier(\n",
              "    (layers): Sequential(\n",
              "      (0): BatchNorm1d(1200, eps=1e-05, momentum=0.1, affine=True, track_running_stats=True)\n",
              "      (1): Dropout(p=0.2, inplace=False)\n",
              "      (2): Linear(in_features=1200, out_features=50, bias=True)\n",
              "      (3): ReLU(inplace=True)\n",
              "      (4): BatchNorm1d(50, eps=1e-05, momentum=0.1, affine=True, track_running_stats=True)\n",
              "      (5): Dropout(p=0.1, inplace=False)\n",
              "      (6): Linear(in_features=50, out_features=5, bias=True)\n",
              "    )\n",
              "  )\n",
              ")], add_time=True, silent=False)"
            ]
          },
          "metadata": {
            "tags": []
          },
          "execution_count": 50
        }
      ]
    },
    {
      "cell_type": "code",
      "metadata": {
        "id": "HEANUUUa9aHi",
        "colab_type": "code",
        "outputId": "50572159-4fc8-4da2-d54a-f178ada92b7d",
        "colab": {
          "base_uri": "https://localhost:8080/",
          "height": 175
        }
      },
      "source": [
        "learn.lr_find()"
      ],
      "execution_count": 0,
      "outputs": [
        {
          "output_type": "display_data",
          "data": {
            "text/html": [
              "\n",
              "    <div>\n",
              "        <style>\n",
              "            /* Turns off some styling */\n",
              "            progress {\n",
              "                /* gets rid of default border in Firefox and Opera. */\n",
              "                border: none;\n",
              "                /* Needs to be in here for Safari polyfill so background images work as expected. */\n",
              "                background-size: auto;\n",
              "            }\n",
              "            .progress-bar-interrupted, .progress-bar-interrupted::-webkit-progress-bar {\n",
              "                background: #F44336;\n",
              "            }\n",
              "        </style>\n",
              "      <progress value='2' class='' max='3' style='width:300px; height:20px; vertical-align: middle;'></progress>\n",
              "      66.67% [2/3 00:36<00:18]\n",
              "    </div>\n",
              "    \n",
              "<table border=\"1\" class=\"dataframe\">\n",
              "  <thead>\n",
              "    <tr style=\"text-align: left;\">\n",
              "      <th>epoch</th>\n",
              "      <th>train_loss</th>\n",
              "      <th>valid_loss</th>\n",
              "      <th>accuracy</th>\n",
              "      <th>time</th>\n",
              "    </tr>\n",
              "  </thead>\n",
              "  <tbody>\n",
              "    <tr>\n",
              "      <td>0</td>\n",
              "      <td>1.616679</td>\n",
              "      <td>#na#</td>\n",
              "      <td>00:17</td>\n",
              "    </tr>\n",
              "    <tr>\n",
              "      <td>1</td>\n",
              "      <td>1.146436</td>\n",
              "      <td>#na#</td>\n",
              "      <td>00:18</td>\n",
              "    </tr>\n",
              "  </tbody>\n",
              "</table><p>\n",
              "\n",
              "    <div>\n",
              "        <style>\n",
              "            /* Turns off some styling */\n",
              "            progress {\n",
              "                /* gets rid of default border in Firefox and Opera. */\n",
              "                border: none;\n",
              "                /* Needs to be in here for Safari polyfill so background images work as expected. */\n",
              "                background-size: auto;\n",
              "            }\n",
              "            .progress-bar-interrupted, .progress-bar-interrupted::-webkit-progress-bar {\n",
              "                background: #F44336;\n",
              "            }\n",
              "        </style>\n",
              "      <progress value='16' class='' max='39' style='width:300px; height:20px; vertical-align: middle;'></progress>\n",
              "      41.03% [16/39 00:13<00:18 3.4150]\n",
              "    </div>\n",
              "    "
            ],
            "text/plain": [
              "<IPython.core.display.HTML object>"
            ]
          },
          "metadata": {
            "tags": []
          }
        },
        {
          "output_type": "stream",
          "text": [
            "LR Finder is complete, type {learner_name}.recorder.plot() to see the graph.\n"
          ],
          "name": "stdout"
        }
      ]
    },
    {
      "cell_type": "code",
      "metadata": {
        "id": "yX5f61D69aHm",
        "colab_type": "code",
        "outputId": "eb89e21b-542b-4215-cb72-f2c9682dd1b8",
        "colab": {
          "base_uri": "https://localhost:8080/",
          "height": 314
        }
      },
      "source": [
        "learn.recorder.plot(suggestion=True)"
      ],
      "execution_count": 0,
      "outputs": [
        {
          "output_type": "stream",
          "text": [
            "Min numerical gradient: 1.20E-03\n",
            "Min loss divided by 10: 7.59E-02\n"
          ],
          "name": "stdout"
        },
        {
          "output_type": "display_data",
          "data": {
            "image/png": "[encoded data removed]",
            "text/plain": [
              "<Figure size 432x288 with 1 Axes>"
            ]
          },
          "metadata": {
            "tags": [],
            "needs_background": "light"
          }
        }
      ]
    },
    {
      "cell_type": "code",
      "metadata": {
        "id": "cIjox6dq9aHr",
        "colab_type": "code",
        "outputId": "fde253c6-6f0f-46db-a036-7381679b97dd",
        "colab": {
          "base_uri": "https://localhost:8080/",
          "height": 81
        }
      },
      "source": [
        "learn.fit_one_cycle(1, 1.2e-3)"
      ],
      "execution_count": 0,
      "outputs": [
        {
          "output_type": "display_data",
          "data": {
            "text/html": [
              "<table border=\"1\" class=\"dataframe\">\n",
              "  <thead>\n",
              "    <tr style=\"text-align: left;\">\n",
              "      <th>epoch</th>\n",
              "      <th>train_loss</th>\n",
              "      <th>valid_loss</th>\n",
              "      <th>accuracy</th>\n",
              "      <th>time</th>\n",
              "    </tr>\n",
              "  </thead>\n",
              "  <tbody>\n",
              "    <tr>\n",
              "      <td>0</td>\n",
              "      <td>0.980251</td>\n",
              "      <td>0.905502</td>\n",
              "      <td>0.773865</td>\n",
              "      <td>00:27</td>\n",
              "    </tr>\n",
              "  </tbody>\n",
              "</table>"
            ],
            "text/plain": [
              "<IPython.core.display.HTML object>"
            ]
          },
          "metadata": {
            "tags": []
          }
        }
      ]
    },
    {
      "cell_type": "code",
      "metadata": {
        "id": "mUbzak-J9aHw",
        "colab_type": "code",
        "colab": {}
      },
      "source": [
        "learn.save('first')"
      ],
      "execution_count": 0,
      "outputs": []
    },
    {
      "cell_type": "code",
      "metadata": {
        "id": "5z7tBAT59aH5",
        "colab_type": "code",
        "outputId": "74bfa1a3-04ca-4b7f-a925-78c63e64dbd9",
        "colab": {
          "base_uri": "https://localhost:8080/",
          "height": 81
        }
      },
      "source": [
        "learn.load('first');\n",
        "learn.freeze_to(-2)\n",
        "learn.fit_one_cycle(1, slice(1.2e-3/(2.6**4),1.2e-3))"
      ],
      "execution_count": 0,
      "outputs": [
        {
          "output_type": "display_data",
          "data": {
            "text/html": [
              "<table border=\"1\" class=\"dataframe\">\n",
              "  <thead>\n",
              "    <tr style=\"text-align: left;\">\n",
              "      <th>epoch</th>\n",
              "      <th>train_loss</th>\n",
              "      <th>valid_loss</th>\n",
              "      <th>accuracy</th>\n",
              "      <th>time</th>\n",
              "    </tr>\n",
              "  </thead>\n",
              "  <tbody>\n",
              "    <tr>\n",
              "      <td>0</td>\n",
              "      <td>0.713189</td>\n",
              "      <td>0.520186</td>\n",
              "      <td>0.829472</td>\n",
              "      <td>00:27</td>\n",
              "    </tr>\n",
              "  </tbody>\n",
              "</table>"
            ],
            "text/plain": [
              "<IPython.core.display.HTML object>"
            ]
          },
          "metadata": {
            "tags": []
          }
        }
      ]
    },
    {
      "cell_type": "code",
      "metadata": {
        "id": "CAS6csWK9aIK",
        "colab_type": "code",
        "outputId": "8860ec02-e4bb-495a-8ba7-e67e5f2d34b9",
        "colab": {
          "base_uri": "https://localhost:8080/",
          "height": 81
        }
      },
      "source": [
        "learn.freeze_to(-3)\n",
        "learn.fit_one_cycle(1, slice(5e-4/(2.6**4),5e-4))"
      ],
      "execution_count": 0,
      "outputs": [
        {
          "output_type": "display_data",
          "data": {
            "text/html": [
              "<table border=\"1\" class=\"dataframe\">\n",
              "  <thead>\n",
              "    <tr style=\"text-align: left;\">\n",
              "      <th>epoch</th>\n",
              "      <th>train_loss</th>\n",
              "      <th>valid_loss</th>\n",
              "      <th>accuracy</th>\n",
              "      <th>time</th>\n",
              "    </tr>\n",
              "  </thead>\n",
              "  <tbody>\n",
              "    <tr>\n",
              "      <td>0</td>\n",
              "      <td>0.613407</td>\n",
              "      <td>0.496908</td>\n",
              "      <td>0.846154</td>\n",
              "      <td>00:40</td>\n",
              "    </tr>\n",
              "  </tbody>\n",
              "</table>"
            ],
            "text/plain": [
              "<IPython.core.display.HTML object>"
            ]
          },
          "metadata": {
            "tags": []
          }
        }
      ]
    },
    {
      "cell_type": "code",
      "metadata": {
        "id": "TRl-RUBxg5Au",
        "colab_type": "code",
        "colab": {}
      },
      "source": [
        "learn.save('third')"
      ],
      "execution_count": 0,
      "outputs": []
    },
    {
      "cell_type": "code",
      "metadata": {
        "id": "uB4wp6rp9aIZ",
        "colab_type": "code",
        "outputId": "cc031c80-07f4-46be-fabd-3fb503c03a4b",
        "colab": {
          "base_uri": "https://localhost:8080/",
          "height": 175
        }
      },
      "source": [
        "learn.load('third')\n",
        "learn.unfreeze()\n",
        "learn.fit_one_cycle(4, slice(1e-3/(2.6**4),1e-3))"
      ],
      "execution_count": 0,
      "outputs": [
        {
          "output_type": "display_data",
          "data": {
            "text/html": [
              "<table border=\"1\" class=\"dataframe\">\n",
              "  <thead>\n",
              "    <tr style=\"text-align: left;\">\n",
              "      <th>epoch</th>\n",
              "      <th>train_loss</th>\n",
              "      <th>valid_loss</th>\n",
              "      <th>accuracy</th>\n",
              "      <th>time</th>\n",
              "    </tr>\n",
              "  </thead>\n",
              "  <tbody>\n",
              "    <tr>\n",
              "      <td>0</td>\n",
              "      <td>0.564966</td>\n",
              "      <td>0.464684</td>\n",
              "      <td>0.851715</td>\n",
              "      <td>00:44</td>\n",
              "    </tr>\n",
              "    <tr>\n",
              "      <td>1</td>\n",
              "      <td>0.537835</td>\n",
              "      <td>0.446245</td>\n",
              "      <td>0.853568</td>\n",
              "      <td>00:51</td>\n",
              "    </tr>\n",
              "    <tr>\n",
              "      <td>2</td>\n",
              "      <td>0.464966</td>\n",
              "      <td>0.444174</td>\n",
              "      <td>0.853568</td>\n",
              "      <td>00:45</td>\n",
              "    </tr>\n",
              "    <tr>\n",
              "      <td>3</td>\n",
              "      <td>0.414961</td>\n",
              "      <td>0.434668</td>\n",
              "      <td>0.858202</td>\n",
              "      <td>00:49</td>\n",
              "    </tr>\n",
              "  </tbody>\n",
              "</table>"
            ],
            "text/plain": [
              "<IPython.core.display.HTML object>"
            ]
          },
          "metadata": {
            "tags": []
          }
        }
      ]
    }
  ]
}