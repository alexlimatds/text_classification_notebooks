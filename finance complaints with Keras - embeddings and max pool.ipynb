{
 "cells": [
  {
   "cell_type": "markdown",
   "metadata": {},
   "source": [
    "#### Example of text classification with embedding layer, max pooling and MLP network.\n",
    "\n",
    "Reference pages:\n",
    "- https://realpython.com/python-keras-text-classification/#convolutional-neural-networks-cnn\n",
    "- https://machinelearningmastery.com/how-to-calculate-precision-recall-f1-and-more-for-deep-learning-models/\n",
    "\n",
    "The dataset was preprocessed in **finance complaints dataset analysis** notebook."
   ]
  },
  {
   "cell_type": "markdown",
   "metadata": {},
   "source": [
    "Loading balanced dataset."
   ]
  },
  {
   "cell_type": "code",
   "execution_count": 1,
   "metadata": {},
   "outputs": [
    {
     "name": "stdout",
     "output_type": "stream",
     "text": [
      "Unnamed: 0                      0\n",
      "Product                         0\n",
      "Consumer_complaint_narrative    0\n",
      "category_id                     0\n",
      "dtype: int64\n"
     ]
    },
    {
     "data": {
      "text/html": [
       "<div>\n",
       "<style scoped>\n",
       "    .dataframe tbody tr th:only-of-type {\n",
       "        vertical-align: middle;\n",
       "    }\n",
       "\n",
       "    .dataframe tbody tr th {\n",
       "        vertical-align: top;\n",
       "    }\n",
       "\n",
       "    .dataframe thead th {\n",
       "        text-align: right;\n",
       "    }\n",
       "</style>\n",
       "<table border=\"1\" class=\"dataframe\">\n",
       "  <thead>\n",
       "    <tr style=\"text-align: right;\">\n",
       "      <th></th>\n",
       "      <th>Unnamed: 0</th>\n",
       "      <th>Product</th>\n",
       "      <th>Consumer_complaint_narrative</th>\n",
       "      <th>category_id</th>\n",
       "    </tr>\n",
       "  </thead>\n",
       "  <tbody>\n",
       "    <tr>\n",
       "      <td>0</td>\n",
       "      <td>0</td>\n",
       "      <td>Credit reporting, credit repair services, or o...</td>\n",
       "      <td>My XXXX XXXX Account Was Paid Off But They Hav...</td>\n",
       "      <td>0</td>\n",
       "    </tr>\n",
       "    <tr>\n",
       "      <td>1</td>\n",
       "      <td>1</td>\n",
       "      <td>Credit reporting, credit repair services, or o...</td>\n",
       "      <td>I had a citibank checking account which I clos...</td>\n",
       "      <td>0</td>\n",
       "    </tr>\n",
       "    <tr>\n",
       "      <td>2</td>\n",
       "      <td>2</td>\n",
       "      <td>Credit reporting, credit repair services, or o...</td>\n",
       "      <td>I would like to request the suppression of the...</td>\n",
       "      <td>0</td>\n",
       "    </tr>\n",
       "    <tr>\n",
       "      <td>3</td>\n",
       "      <td>3</td>\n",
       "      <td>Credit reporting, credit repair services, or o...</td>\n",
       "      <td>Account from XXXX with a balance is reporting ...</td>\n",
       "      <td>0</td>\n",
       "    </tr>\n",
       "    <tr>\n",
       "      <td>4</td>\n",
       "      <td>4</td>\n",
       "      <td>Credit reporting, credit repair services, or o...</td>\n",
       "      <td>The credit bureaus are reporting inaccurate/ou...</td>\n",
       "      <td>0</td>\n",
       "    </tr>\n",
       "  </tbody>\n",
       "</table>\n",
       "</div>"
      ],
      "text/plain": [
       "   Unnamed: 0                                            Product  \\\n",
       "0           0  Credit reporting, credit repair services, or o...   \n",
       "1           1  Credit reporting, credit repair services, or o...   \n",
       "2           2  Credit reporting, credit repair services, or o...   \n",
       "3           3  Credit reporting, credit repair services, or o...   \n",
       "4           4  Credit reporting, credit repair services, or o...   \n",
       "\n",
       "                        Consumer_complaint_narrative  category_id  \n",
       "0  My XXXX XXXX Account Was Paid Off But They Hav...            0  \n",
       "1  I had a citibank checking account which I clos...            0  \n",
       "2  I would like to request the suppression of the...            0  \n",
       "3  Account from XXXX with a balance is reporting ...            0  \n",
       "4  The credit bureaus are reporting inaccurate/ou...            0  "
      ]
     },
     "execution_count": 1,
     "metadata": {},
     "output_type": "execute_result"
    }
   ],
   "source": [
    "import pandas as pd\n",
    "df = pd.read_csv('complaints-balanced.csv')\n",
    "print(df.isnull().sum())\n",
    "df.head()"
   ]
  },
  {
   "cell_type": "markdown",
   "metadata": {},
   "source": [
    "Text preprocessing"
   ]
  },
  {
   "cell_type": "code",
   "execution_count": 2,
   "metadata": {},
   "outputs": [
    {
     "name": "stdout",
     "output_type": "stream",
     "text": [
      "CPU times: user 2.54 s, sys: 104 ms, total: 2.65 s\n",
      "Wall time: 2.65 s\n"
     ]
    }
   ],
   "source": [
    "%%time\n",
    "import re\n",
    "from nltk.corpus import stopwords\n",
    "\n",
    "text = df.Consumer_complaint_narrative\n",
    "\n",
    "# removing XXX words\n",
    "text = text.apply(lambda x: re.sub(r'X*', '', x))\n",
    "\n",
    "# converting to lower case\n",
    "text = text.apply(lambda x: x.lower())\n",
    "\n",
    "# replacing symbols with spaces\n",
    "text = text.apply(lambda x: re.sub(r'[/(){}\\[\\]\\|@,;]', ' ', x))\n",
    "\n",
    "# removing bad symbols\n",
    "text = text.apply(lambda x: re.sub(r'[^0-9a-z #+_]', '', x))\n",
    "\n",
    "# removing numbers\n",
    "text = text.apply(lambda x: re.sub(r'\\d+', '', x))\n",
    "\n",
    "# removing stop words\n",
    "STOPWORDS = set(stopwords.words('english'))\n",
    "text = text.apply(lambda x: ' '.join(word for word in x.split() if word not in STOPWORDS))"
   ]
  },
  {
   "cell_type": "code",
   "execution_count": 3,
   "metadata": {},
   "outputs": [
    {
     "name": "stdout",
     "output_type": "stream",
     "text": [
      "--------------------------------------------------\n",
      "* BEFORE: My XXXX XXXX Account Was Paid Off But They Have Left The Wrong Information On My Credit Report For 11 Years The Account Should Be Removed It Is Too OldAnd A Medical Account That I Believed To Be Payed Off Has Also Been Left On My Report\n",
      "\n",
      "* AFTER: account paid left wrong information credit report years account removed oldand medical account believed payed also left report\n",
      "\n",
      "--------------------------------------------------\n",
      "* BEFORE: Please be advised this is my THIRD WRITTEN REQUEST and FINAL WARNING that I fully intend to pursue litigation in accordance with the FCRA to enforce my rights and seek relief and recover all monetary damages that I may be entitled to under Section 616 and Section 617 regarding your continued willful and negligent noncompliance.\n",
      "\n",
      "Despite two written requests, the unverified items listed below still remain on my credit report in violation of Federal Law. You are required under the FCRA to have a copy of the original creditors documentation on file to verify that this information is mine and is correct. In the results of your first investigation and subsequent reinvestigation, you stated in writing that you verified that these items are being reported correctly?\n",
      "\n",
      "Who verified these accounts?\n",
      "\n",
      "You have NOT provided me a copy of ANY original documentation ( a consumer contract with my signature on it ) as required under Section 609 ( a ) ( 1 ) ( A ) & Section 611 ( a ) ( 1 ) ( A ). Furthermore you have failed to provide the method of verification as required under Section 611 ( a ) ( 7 ).\n",
      "\n",
      "Please be advised that under Section 611 ( 5 ) ( A ) of the FCRA you are required to promptly DELETE all information which can not be verified. The law is very clear as to the Civil liability and the remedy available to me ( Section 616 & 617 ) if you fail to comply with Federal Law. I am a litigious consumer and fully intend on pursuing litigation in this matter to enforce my rights under the FCRA. \n",
      "\n",
      "\n",
      "I demand the following accounts be verified or removed immediately. \n",
      "\n",
      "Dept of Ed Account XXXX XXXX XXXX Account XXXX XXXX XXXX Account XXXX XXXX XXXX Account XXXX XXXX XXXX XXXX Account XXXX XXXX XXXX Account XXXX US Bankrupt Court Account XXXX Account XXXX XXXX XXXX XXXX Account XXXX\n",
      "\n",
      "* AFTER: please advised third written request final warning fully intend pursue litigation accordance fcra enforce rights seek relief recover monetary damages may entitled section section regarding continued willful negligent noncompliancedespite two written requests unverified items listed still remain credit report violation federal law required fcra copy original creditors documentation file verify information mine correct results first investigation subsequent reinvestigation stated writing verified items reported correctlywho verified accountsyou provided copy original documentation consumer contract signature required section section furthermore failed provide method verification required section please advised section fcra required promptly delete information verified law clear civil liability remedy available section fail comply federal law litigious consumer fully intend pursuing litigation matter enforce rights fcra demand following accounts verified removed immediately dept ed account account account account account account us bankrupt court account account account\n",
      "\n",
      "--------------------------------------------------\n",
      "* BEFORE: For over 10 years, Transunion has had my credit account listed to another individual who has a terrible credit record. So because they think I'm she, I'm the one that gets harassed and threatened by the collection agencies that are trying to collect on her bad debt. I even moved to try to escape it and it has followed me here. I have spoken to Transunion multiple times over the past and sent letters ( my bad, they were not certified ). All correspondence I get from them continues to be under her name. I have no debt. I owe no one, yet this woman and Transunion who is totally complicit in this, are ruining my credit. It is truly an astounding story of mis-identification which is too long to go into here. I just want my name back and separated from hers. I have frozen my credit with XXXX and XXXX  but can not do so with Transunion as her name is on my credit record. The mental anguish this has caused is unbelievable. Please help me if you can.\n",
      "\n",
      "* AFTER: years transunion credit account listed another individual terrible credit record think im im one gets harassed threatened collection agencies trying collect bad debt even moved try escape followed spoken transunion multiple times past sent letters bad certified correspondence get continues name debt owe one yet woman transunion totally complicit ruining credit truly astounding story misidentification long go want name back separated frozen credit transunion name credit record mental anguish caused unbelievable please help\n",
      "\n"
     ]
    }
   ],
   "source": [
    "def print_example(index):\n",
    "    print(\"-\"*50)\n",
    "    print(\"* BEFORE: {}\".format(df.Consumer_complaint_narrative[index]))\n",
    "    print(\"\\n* AFTER: {}\\n\".format(text[index]))\n",
    "    \n",
    "print_example(0)\n",
    "print_example(10)\n",
    "print_example(50)"
   ]
  },
  {
   "cell_type": "markdown",
   "metadata": {},
   "source": [
    "Creating train and test sets, with balanced frequency of classes."
   ]
  },
  {
   "cell_type": "code",
   "execution_count": 4,
   "metadata": {},
   "outputs": [
    {
     "name": "stderr",
     "output_type": "stream",
     "text": [
      "Using TensorFlow backend.\n"
     ]
    }
   ],
   "source": [
    "from sklearn.model_selection import StratifiedShuffleSplit\n",
    "from sklearn.preprocessing import LabelEncoder\n",
    "from keras.utils import np_utils\n",
    "\n",
    "# encoding labels to one hot vectors\n",
    "encoder = LabelEncoder()\n",
    "encoder.fit(df['category_id'])\n",
    "encoded_Y = encoder.transform(df['category_id'])\n",
    "Y = np_utils.to_categorical(encoded_Y)\n",
    "\n",
    "sss = StratifiedShuffleSplit(n_splits=1, \n",
    "                             test_size=0.3, \n",
    "                             random_state=0)\n",
    "for train_index, test_index in sss.split(text, Y):\n",
    "    train_sentences = text.loc[train_index]\n",
    "    Y_train = Y[train_index]\n",
    "    test_sentences = text.loc[test_index]\n",
    "    test_labels = df['category_id'].loc[test_index]\n",
    "    Y_test = Y[test_index]"
   ]
  },
  {
   "cell_type": "markdown",
   "metadata": {},
   "source": [
    "**Preparing the input**\n",
    "\n",
    "The `Tokenizer` utility class which can vectorize a text corpus into a list of integers. Each integer maps to a value in a dictionary that encodes the entire corpus, with the keys in the dictionary being the vocabulary terms themselves. We can add the parameter `num_words`, which is responsible for setting the size of the vocabulary. The most common `num_words` words will be then kept."
   ]
  },
  {
   "cell_type": "code",
   "execution_count": 5,
   "metadata": {},
   "outputs": [
    {
     "name": "stdout",
     "output_type": "stream",
     "text": [
      "CPU times: user 574 ms, sys: 3.68 ms, total: 578 ms\n",
      "Wall time: 584 ms\n"
     ]
    }
   ],
   "source": [
    "%%time\n",
    "from keras.preprocessing.text import Tokenizer\n",
    "\n",
    "tokenizer = Tokenizer()\n",
    "tokenizer.fit_on_texts(train_sentences)\n",
    "\n",
    "X_train = tokenizer.texts_to_sequences(train_sentences)\n",
    "X_test = tokenizer.texts_to_sequences(test_sentences)\n",
    "\n",
    "# Adding 1 because of reserved 0 index\n",
    "vocab_size = len(tokenizer.word_index) + 1"
   ]
  },
  {
   "cell_type": "markdown",
   "metadata": {},
   "source": [
    "The indexing is ordered after the most common words in the text. It is important to note that the index 0 is reserved and is not assigned to any word. This zero index is used for padding, which will be done in a moment.\n",
    "\n",
    "Unknown words (words that are not in the vocabulary) are denoted in Keras with word_count + 1 since they can also hold some information. You can see the index of each word by taking a look at the `word_index` dictionary of the `Tokenizer` object."
   ]
  },
  {
   "cell_type": "code",
   "execution_count": 6,
   "metadata": {},
   "outputs": [
    {
     "name": "stdout",
     "output_type": "stream",
     "text": [
      "asked: 45\n",
      "proof: 111\n",
      "account: 1\n"
     ]
    }
   ],
   "source": [
    "def print_word_index_pair(index):\n",
    "    print('{}: {}'.format(tokenizer.index_word[index], index))\n",
    "\n",
    "print_word_index_pair(45)\n",
    "print_word_index_pair(111)\n",
    "print_word_index_pair(1)"
   ]
  },
  {
   "cell_type": "markdown",
   "metadata": {},
   "source": [
    "With Tokenizer, the resulting vectors will have the length of each document, and the resulting vectors won't have the same length. To counter this, you can use `pad_sequence()` which simply pads the sequence of words with zeros. By default, it prepends zeros but we will to append them. Additionally you would want to add a `maxlen` parameter to specify how long the sequences should be. This cuts sequences that exceed that number."
   ]
  },
  {
   "cell_type": "code",
   "execution_count": 7,
   "metadata": {},
   "outputs": [
    {
     "data": {
      "image/png": "[encoded data removed]",
      "text/plain": [
       "<Figure size 432x288 with 1 Axes>"
      ]
     },
     "metadata": {
      "needs_background": "light"
     },
     "output_type": "display_data"
    }
   ],
   "source": [
    "%matplotlib inline\n",
    "import matplotlib.pyplot as plt\n",
    "\n",
    "# analyzing the sentences' length\n",
    "freqs = pd.Series(X_train).apply(lambda x: len(x))\n",
    "plt.hist(freqs, bins='auto') \n",
    "plt.xlabel('Sentence length');"
   ]
  },
  {
   "cell_type": "code",
   "execution_count": 8,
   "metadata": {},
   "outputs": [],
   "source": [
    "from keras.preprocessing.sequence import pad_sequences\n",
    "\n",
    "max_len = 450\n",
    "\n",
    "X_train = pad_sequences(X_train, padding='post', maxlen=max_len)\n",
    "X_test = pad_sequences(X_test, padding='post', maxlen=max_len)"
   ]
  },
  {
   "cell_type": "markdown",
   "metadata": {},
   "source": [
    "**Creating and traning the model**\n",
    "\n",
    "We can use the Embedding Layer of Keras which takes the previously calculated integers and maps them to a dense vector of the embedding. We will use the following parameters:\n",
    "\n",
    "- `input_dim`: the size of the vocabulary\n",
    "- `output_dim`: the size of the dense vector\n",
    "- `input_length`: the length of the sequence\n",
    "\n",
    "After the embedding layer, we will apply a MaxPooling1D/AveragePooling1D or a pooling layer (`GlobalMaxPooling1D` or `GlobalAveragePooling1D`).\n",
    "\n",
    "In the case of max pooling, you take the maximum value of all features in the pool for each feature dimension. In the case of average pooling, you take the average, but max pooling seems to be more commonly used as it highlights large values.\n",
    "\n",
    "Global max/average pooling takes the maximum/average of all features whereas in the other case you have to define the pool size. Keras has again its own layer that you can add in the sequential model."
   ]
  },
  {
   "cell_type": "code",
   "execution_count": 15,
   "metadata": {},
   "outputs": [
    {
     "name": "stdout",
     "output_type": "stream",
     "text": [
      "Model: \"sequential_2\"\n",
      "_________________________________________________________________\n",
      "Layer (type)                 Output Shape              Param #   \n",
      "=================================================================\n",
      "embedding_2 (Embedding)      (None, 450, 200)          2183800   \n",
      "_________________________________________________________________\n",
      "max_pooling1d_2 (MaxPooling1 (None, 45, 200)           0         \n",
      "_________________________________________________________________\n",
      "flatten_2 (Flatten)          (None, 9000)              0         \n",
      "_________________________________________________________________\n",
      "dense_3 (Dense)              (None, 30)                270030    \n",
      "_________________________________________________________________\n",
      "dense_4 (Dense)              (None, 5)                 155       \n",
      "=================================================================\n",
      "Total params: 2,453,985\n",
      "Trainable params: 2,453,985\n",
      "Non-trainable params: 0\n",
      "_________________________________________________________________\n"
     ]
    }
   ],
   "source": [
    "from keras.models import Sequential\n",
    "from keras import layers\n",
    "\n",
    "embedding_dim = 200\n",
    "\n",
    "model = Sequential()\n",
    "model.add(layers.Embedding(input_dim=vocab_size, \n",
    "                           output_dim=embedding_dim, \n",
    "                           input_length=max_len))\n",
    "model.add(layers.MaxPool1D(pool_size=10))\n",
    "model.add(layers.Flatten())\n",
    "model.add(layers.Dense(30, \n",
    "                       activation='relu'))\n",
    "model.add(layers.Dense(5, \n",
    "                       activation='softmax'))\n",
    "model.compile(optimizer='adam', \n",
    "              loss='categorical_crossentropy', \n",
    "              metrics=['accuracy'])\n",
    "model.summary()"
   ]
  },
  {
   "cell_type": "markdown",
   "metadata": {},
   "source": [
    "Training the model."
   ]
  },
  {
   "cell_type": "code",
   "execution_count": 16,
   "metadata": {},
   "outputs": [
    {
     "name": "stderr",
     "output_type": "stream",
     "text": [
      "/home/alexandre/anaconda3/lib/python3.7/site-packages/tensorflow_core/python/framework/indexed_slices.py:424: UserWarning: Converting sparse IndexedSlices to a dense Tensor of unknown shape. This may consume a large amount of memory.\n",
      "  \"Converting sparse IndexedSlices to a dense Tensor of unknown shape. \"\n"
     ]
    },
    {
     "name": "stdout",
     "output_type": "stream",
     "text": [
      "CPU times: user 2min 55s, sys: 1min 55s, total: 4min 51s\n",
      "Wall time: 1min 15s\n"
     ]
    }
   ],
   "source": [
    "%%time\n",
    "history = model.fit(X_train, \n",
    "                    Y_train,\n",
    "                    epochs=15,\n",
    "                    verbose=False,\n",
    "                    validation_data=(X_test, Y_test),\n",
    "                    batch_size=32)"
   ]
  },
  {
   "cell_type": "markdown",
   "metadata": {},
   "source": [
    "Evaluation."
   ]
  },
  {
   "cell_type": "code",
   "execution_count": 17,
   "metadata": {},
   "outputs": [
    {
     "name": "stdout",
     "output_type": "stream",
     "text": [
      "Training Accuracy: 0.9936\n",
      "Testing Accuracy:  0.8665\n"
     ]
    },
    {
     "data": {
      "image/png": "[encoded data removed]",
      "text/plain": [
       "<Figure size 864x360 with 2 Axes>"
      ]
     },
     "metadata": {},
     "output_type": "display_data"
    }
   ],
   "source": [
    "plt.style.use('ggplot')\n",
    "\n",
    "def plot_history(history):\n",
    "    acc = history.history['accuracy']\n",
    "    val_acc = history.history['val_accuracy']\n",
    "    loss = history.history['loss']\n",
    "    val_loss = history.history['val_loss']\n",
    "    x = range(1, len(acc) + 1)\n",
    "\n",
    "    plt.figure(figsize=(12, 5))\n",
    "    plt.subplot(1, 2, 1)\n",
    "    plt.plot(x, acc, 'b', label='Training acc')\n",
    "    plt.plot(x, val_acc, 'r', label='Validation acc')\n",
    "    plt.title('Training and validation accuracy')\n",
    "    plt.legend()\n",
    "    plt.subplot(1, 2, 2)\n",
    "    plt.plot(x, loss, 'b', label='Training loss')\n",
    "    plt.plot(x, val_loss, 'r', label='Validation loss')\n",
    "    plt.title('Training and validation loss')\n",
    "    plt.legend()\n",
    "\n",
    "loss, accuracy = model.evaluate(X_train, \n",
    "                                Y_train, \n",
    "                                verbose=False)\n",
    "print(\"Training Accuracy: {:.4f}\".format(accuracy))\n",
    "\n",
    "loss, accuracy = model.evaluate(X_test, \n",
    "                                Y_test, \n",
    "                                verbose=False)\n",
    "print(\"Testing Accuracy:  {:.4f}\".format(accuracy))\n",
    "\n",
    "plot_history(history)"
   ]
  },
  {
   "cell_type": "code",
   "execution_count": 18,
   "metadata": {},
   "outputs": [],
   "source": [
    "from sklearn.metrics import accuracy_score, confusion_matrix\n",
    "\n",
    "my_tags = df.category_id.unique()\n",
    "def plot_confusion_matrix(cm, title='Confusion matrix', cmap=plt.cm.Blues):\n",
    "    plt.imshow(cm, interpolation='nearest', cmap=cmap)\n",
    "    plt.title(title)\n",
    "    plt.colorbar()\n",
    "    tick_marks = np.arange(len(my_tags))\n",
    "    target_names = my_tags\n",
    "    plt.xticks(tick_marks, target_names, rotation=45)\n",
    "    plt.yticks(tick_marks, target_names)\n",
    "    plt.tight_layout()\n",
    "    plt.ylabel('True label')\n",
    "    plt.xlabel('Predicted label')\n",
    "\n",
    "def evaluate_prediction(predictions, target, title=\"Confusion matrix\"):\n",
    "    print('accuracy %s' % accuracy_score(target, predictions))\n",
    "    cm = confusion_matrix(target, predictions, labels=my_tags)\n",
    "    print('confusion matrix\\n %s' % cm)\n",
    "    print('(row=expected, col=predicted)')\n",
    "    \n",
    "    cm_normalized = cm.astype('float') / cm.sum(axis=1)[:, np.newaxis]\n",
    "    plot_confusion_matrix(cm_normalized, title + ' Normalized')"
   ]
  },
  {
   "cell_type": "code",
   "execution_count": 19,
   "metadata": {
    "scrolled": false
   },
   "outputs": [
    {
     "name": "stdout",
     "output_type": "stream",
     "text": [
      "accuracy 0.8665430954587581\n",
      "confusion matrix\n",
      " [[180  22   8   5   1]\n",
      " [ 23 178   5   8   2]\n",
      " [  8   7 187   0  13]\n",
      " [  0  11   9 195   1]\n",
      " [  2   4  14   1 195]]\n",
      "(row=expected, col=predicted)\n",
      "              precision    recall  f1-score   support\n",
      "\n",
      "           0       0.85      0.83      0.84       216\n",
      "           1       0.80      0.82      0.81       216\n",
      "           2       0.84      0.87      0.85       215\n",
      "           3       0.93      0.90      0.92       216\n",
      "           4       0.92      0.90      0.91       216\n",
      "\n",
      "    accuracy                           0.87      1079\n",
      "   macro avg       0.87      0.87      0.87      1079\n",
      "weighted avg       0.87      0.87      0.87      1079\n",
      "\n"
     ]
    },
    {
     "data": {
      "image/png": "[encoded data removed]",
      "text/plain": [
       "<Figure size 432x288 with 2 Axes>"
      ]
     },
     "metadata": {},
     "output_type": "display_data"
    }
   ],
   "source": [
    "import numpy as np\n",
    "from sklearn import metrics\n",
    "\n",
    "Y_pred = model.predict(X_test, \n",
    "                       verbose=0)\n",
    "evaluate_prediction(Y_pred.argmax(axis=1), \n",
    "                    Y_test.argmax(axis=1))\n",
    "\n",
    "print(metrics.classification_report(Y_test.argmax(axis=1), \n",
    "                                    Y_pred.argmax(axis=1)))"
   ]
  },
  {
   "cell_type": "code",
   "execution_count": null,
   "metadata": {},
   "outputs": [],
   "source": []
  }
 ],
 "metadata": {
  "kernelspec": {
   "display_name": "Python 3",
   "language": "python",
   "name": "python3"
  },
  "language_info": {
   "codemirror_mode": {
    "name": "ipython",
    "version": 3
   },
   "file_extension": ".py",
   "mimetype": "text/x-python",
   "name": "python",
   "nbconvert_exporter": "python",
   "pygments_lexer": "ipython3",
   "version": "3.7.4"
  }
 },
 "nbformat": 4,
 "nbformat_minor": 2
}
